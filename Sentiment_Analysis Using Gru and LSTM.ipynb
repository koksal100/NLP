{
  "nbformat": 4,
  "nbformat_minor": 0,
  "metadata": {
    "colab": {
      "provenance": [],
      "gpuType": "T4"
    },
    "kernelspec": {
      "name": "python3",
      "display_name": "Python 3"
    },
    "language_info": {
      "name": "python"
    },
    "accelerator": "GPU"
  },
  "cells": [
    {
      "cell_type": "code",
      "execution_count": 1,
      "metadata": {
        "colab": {
          "base_uri": "https://localhost:8080/"
        },
        "id": "G_sdKpGHcHBU",
        "outputId": "89b04778-2d78-4116-8cb8-3c7b09d076ea"
      },
      "outputs": [
        {
          "output_type": "stream",
          "name": "stdout",
          "text": [
            "Downloading data from https://storage.googleapis.com/tensorflow/tf-keras-datasets/imdb.npz\n",
            "17464789/17464789 [==============================] - 0s 0us/step\n",
            "Training data shape: (25000, 500)\n",
            "Testing data shape: (25000, 500)\n"
          ]
        }
      ],
      "source": [
        "import tensorflow as tf\n",
        "from tensorflow.keras.datasets import imdb\n",
        "from tensorflow.keras.preprocessing.sequence import pad_sequences\n",
        "\n",
        "# Veri setini yükleyin\n",
        "max_features = 20000  # Kullanılacak en sık kelime sayısı\n",
        "max_len = 500  # Her inceleme için maksimum uzunluk\n",
        "\n",
        "(x_train, y_train), (x_test, y_test) = imdb.load_data(num_words=max_features)\n",
        "\n",
        "\n",
        "\n",
        "x_train = pad_sequences(x_train, maxlen=max_len)\n",
        "x_test = pad_sequences(x_test, maxlen=max_len)\n",
        "\n",
        "print(f\"Training data shape: {x_train.shape}\")\n",
        "print(f\"Testing data shape: {x_test.shape}\")\n"
      ]
    },
    {
      "cell_type": "code",
      "source": [
        "from tensorflow.keras.models import Sequential\n",
        "from tensorflow.keras.layers import Embedding, LSTM, Dense, Dropout, Bidirectional\n",
        "\n",
        "model = Sequential()\n",
        "model.add(Embedding(input_dim=max_features, output_dim=128, input_length=max_len))\n",
        "model.add(Bidirectional(LSTM(64, return_sequences=True)))  # Çift yönlü LSTM\n",
        "model.add(Dropout(0.5))\n",
        "model.add(LSTM(64))\n",
        "model.add(Dropout(0.5))\n",
        "model.add(Dense(1, activation='sigmoid'))\n",
        "\n",
        "model.compile(optimizer='adam', loss='binary_crossentropy', metrics=['accuracy'])\n",
        "\n",
        "model.summary()\n"
      ],
      "metadata": {
        "colab": {
          "base_uri": "https://localhost:8080/"
        },
        "id": "HJ03yRcJcLv8",
        "outputId": "918a9456-235a-40c2-b400-9c683161aa93"
      },
      "execution_count": 2,
      "outputs": [
        {
          "output_type": "stream",
          "name": "stdout",
          "text": [
            "Model: \"sequential\"\n",
            "_________________________________________________________________\n",
            " Layer (type)                Output Shape              Param #   \n",
            "=================================================================\n",
            " embedding (Embedding)       (None, 500, 128)          2560000   \n",
            "                                                                 \n",
            " bidirectional (Bidirection  (None, 500, 128)          98816     \n",
            " al)                                                             \n",
            "                                                                 \n",
            " dropout (Dropout)           (None, 500, 128)          0         \n",
            "                                                                 \n",
            " lstm_1 (LSTM)               (None, 64)                49408     \n",
            "                                                                 \n",
            " dropout_1 (Dropout)         (None, 64)                0         \n",
            "                                                                 \n",
            " dense (Dense)               (None, 1)                 65        \n",
            "                                                                 \n",
            "=================================================================\n",
            "Total params: 2708289 (10.33 MB)\n",
            "Trainable params: 2708289 (10.33 MB)\n",
            "Non-trainable params: 0 (0.00 Byte)\n",
            "_________________________________________________________________\n"
          ]
        }
      ]
    },
    {
      "cell_type": "code",
      "source": [
        "from tensorflow.keras.callbacks import EarlyStopping, ModelCheckpoint\n",
        "\n",
        "early_stopping = EarlyStopping(monitor='val_loss', patience=3, restore_best_weights=True)\n",
        "model_checkpoint = ModelCheckpoint('best_model.h5', save_best_only=True, monitor='val_loss')\n",
        "\n",
        "history = model.fit(x_train, y_train, epochs=20, batch_size=64, validation_split=0.2,\n",
        "                    callbacks=[early_stopping, model_checkpoint])\n"
      ],
      "metadata": {
        "colab": {
          "base_uri": "https://localhost:8080/"
        },
        "id": "bxNiG-97dVx7",
        "outputId": "4df44041-16a9-4c95-bb7a-b45d664a1e46"
      },
      "execution_count": 3,
      "outputs": [
        {
          "output_type": "stream",
          "name": "stdout",
          "text": [
            "Epoch 1/20\n",
            "313/313 [==============================] - 60s 166ms/step - loss: 0.4057 - accuracy: 0.8094 - val_loss: 0.3392 - val_accuracy: 0.8558\n",
            "Epoch 2/20\n",
            "  1/313 [..............................] - ETA: 14s - loss: 0.1822 - accuracy: 0.9375"
          ]
        },
        {
          "output_type": "stream",
          "name": "stderr",
          "text": [
            "/usr/local/lib/python3.10/dist-packages/keras/src/engine/training.py:3103: UserWarning: You are saving your model as an HDF5 file via `model.save()`. This file format is considered legacy. We recommend using instead the native Keras format, e.g. `model.save('my_model.keras')`.\n",
            "  saving_api.save_model(\n"
          ]
        },
        {
          "output_type": "stream",
          "name": "stdout",
          "text": [
            "313/313 [==============================] - 33s 104ms/step - loss: 0.1884 - accuracy: 0.9333 - val_loss: 0.3151 - val_accuracy: 0.8736\n",
            "Epoch 3/20\n",
            "313/313 [==============================] - 26s 83ms/step - loss: 0.1207 - accuracy: 0.9592 - val_loss: 0.3643 - val_accuracy: 0.8616\n",
            "Epoch 4/20\n",
            "313/313 [==============================] - 26s 81ms/step - loss: 0.0911 - accuracy: 0.9693 - val_loss: 0.5055 - val_accuracy: 0.8718\n",
            "Epoch 5/20\n",
            "313/313 [==============================] - 22s 71ms/step - loss: 0.0457 - accuracy: 0.9862 - val_loss: 0.5158 - val_accuracy: 0.8704\n"
          ]
        }
      ]
    },
    {
      "cell_type": "code",
      "source": [
        "# Modeli test edin\n",
        "test_loss, test_acc = model.evaluate(x_test, y_test)\n",
        "print(f\"Test Accuracy: {test_acc}\")\n"
      ],
      "metadata": {
        "colab": {
          "base_uri": "https://localhost:8080/"
        },
        "id": "L6l53RODdaNU",
        "outputId": "73f8e767-6625-43be-c29d-04597995d91a"
      },
      "execution_count": 4,
      "outputs": [
        {
          "output_type": "stream",
          "name": "stdout",
          "text": [
            "782/782 [==============================] - 19s 24ms/step - loss: 0.3329 - accuracy: 0.8677\n",
            "Test Accuracy: 0.867680013179779\n"
          ]
        }
      ]
    },
    {
      "cell_type": "code",
      "source": [
        "import matplotlib.pyplot as plt\n",
        "\n",
        "# Eğitim ve doğrulama kayıplarını çizin\n",
        "plt.plot(history.history['loss'], label='Training Loss')\n",
        "plt.plot(history.history['val_loss'], label='Validation Loss')\n",
        "plt.xlabel('Epoch')\n",
        "plt.ylabel('Loss')\n",
        "plt.legend()\n",
        "plt.show()\n",
        "\n",
        "# Eğitim ve doğrulama doğruluklarını çizin\n",
        "plt.plot(history.history['accuracy'], label='Training Accuracy')\n",
        "plt.plot(history.history['val_accuracy'], label='Validation Accuracy')\n",
        "plt.xlabel('Epoch')\n",
        "plt.ylabel('Accuracy')\n",
        "plt.legend()\n",
        "plt.show()\n"
      ],
      "metadata": {
        "colab": {
          "base_uri": "https://localhost:8080/",
          "height": 881
        },
        "id": "mftIVeQjftRK",
        "outputId": "798b7b3a-9593-4e53-c49b-86c7a09dad77"
      },
      "execution_count": 5,
      "outputs": [
        {
          "output_type": "display_data",
          "data": {
            "text/plain": [
              "<Figure size 640x480 with 1 Axes>"
            ],
            "image/png": "[encoded data removed]"
          },
          "metadata": {}
        },
        {
          "output_type": "display_data",
          "data": {
            "text/plain": [
              "<Figure size 640x480 with 1 Axes>"
            ],
            "image/png": "[encoded data removed]"
          },
          "metadata": {}
        }
      ]
    },
    {
      "cell_type": "code",
      "source": [
        "import numpy as np\n",
        "from tensorflow.keras.preprocessing.text import Tokenizer\n",
        "from tensorflow.keras.preprocessing.sequence import pad_sequences\n",
        "\n",
        "word_index = imdb.get_word_index()\n",
        "\n",
        "user_sentence = \"I love this movie, it is fantastic\"\n",
        "\n",
        "user_sentence_tokens = user_sentence.lower().split()\n",
        "\n",
        "user_sentence_indices = [word_index.get(word, 0) for word in user_sentence_tokens]\n",
        "\n",
        "print(\"Indexed user sentence:\", user_sentence_indices)"
      ],
      "metadata": {
        "colab": {
          "base_uri": "https://localhost:8080/"
        },
        "id": "1Qr78jQzf3IC",
        "outputId": "910556cc-986e-4213-b908-32f56a80ff61"
      },
      "execution_count": 13,
      "outputs": [
        {
          "output_type": "stream",
          "name": "stdout",
          "text": [
            "Downloading data from https://storage.googleapis.com/tensorflow/tf-keras-datasets/imdb_word_index.json\n",
            "1641221/1641221 [==============================] - 0s 0us/step\n",
            "Indexed user sentence: [10, 116, 11, 0, 9, 6, 774]\n"
          ]
        }
      ]
    },
    {
      "cell_type": "code",
      "source": [
        "# Cümleyi pad etme\n",
        "padded_user_sentence = pad_sequences([user_sentence_indices], maxlen=max_len)\n",
        "\n",
        "print(\"Padded user sentence:\", padded_user_sentence)\n"
      ],
      "metadata": {
        "colab": {
          "base_uri": "https://localhost:8080/"
        },
        "id": "vwqtEivPf_6D",
        "outputId": "a1a23d15-a37d-47de-b2d2-1a4b4b67b20a"
      },
      "execution_count": 14,
      "outputs": [
        {
          "output_type": "stream",
          "name": "stdout",
          "text": [
            "Padded user sentence: [[  0   0   0   0   0   0   0   0   0   0   0   0   0   0   0   0   0   0\n",
            "    0   0   0   0   0   0   0   0   0   0   0   0   0   0   0   0   0   0\n",
            "    0   0   0   0   0   0   0   0   0   0   0   0   0   0   0   0   0   0\n",
            "    0   0   0   0   0   0   0   0   0   0   0   0   0   0   0   0   0   0\n",
            "    0   0   0   0   0   0   0   0   0   0   0   0   0   0   0   0   0   0\n",
            "    0   0   0   0   0   0   0   0   0   0   0   0   0   0   0   0   0   0\n",
            "    0   0   0   0   0   0   0   0   0   0   0   0   0   0   0   0   0   0\n",
            "    0   0   0   0   0   0   0   0   0   0   0   0   0   0   0   0   0   0\n",
            "    0   0   0   0   0   0   0   0   0   0   0   0   0   0   0   0   0   0\n",
            "    0   0   0   0   0   0   0   0   0   0   0   0   0   0   0   0   0   0\n",
            "    0   0   0   0   0   0   0   0   0   0   0   0   0   0   0   0   0   0\n",
            "    0   0   0   0   0   0   0   0   0   0   0   0   0   0   0   0   0   0\n",
            "    0   0   0   0   0   0   0   0   0   0   0   0   0   0   0   0   0   0\n",
            "    0   0   0   0   0   0   0   0   0   0   0   0   0   0   0   0   0   0\n",
            "    0   0   0   0   0   0   0   0   0   0   0   0   0   0   0   0   0   0\n",
            "    0   0   0   0   0   0   0   0   0   0   0   0   0   0   0   0   0   0\n",
            "    0   0   0   0   0   0   0   0   0   0   0   0   0   0   0   0   0   0\n",
            "    0   0   0   0   0   0   0   0   0   0   0   0   0   0   0   0   0   0\n",
            "    0   0   0   0   0   0   0   0   0   0   0   0   0   0   0   0   0   0\n",
            "    0   0   0   0   0   0   0   0   0   0   0   0   0   0   0   0   0   0\n",
            "    0   0   0   0   0   0   0   0   0   0   0   0   0   0   0   0   0   0\n",
            "    0   0   0   0   0   0   0   0   0   0   0   0   0   0   0   0   0   0\n",
            "    0   0   0   0   0   0   0   0   0   0   0   0   0   0   0   0   0   0\n",
            "    0   0   0   0   0   0   0   0   0   0   0   0   0   0   0   0   0   0\n",
            "    0   0   0   0   0   0   0   0   0   0   0   0   0   0   0   0   0   0\n",
            "    0   0   0   0   0   0   0   0   0   0   0   0   0   0   0   0   0   0\n",
            "    0   0   0   0   0   0   0   0   0   0   0   0   0   0   0   0   0   0\n",
            "    0   0   0   0   0   0   0  10 116  11   0   9   6 774]]\n"
          ]
        }
      ]
    },
    {
      "cell_type": "code",
      "source": [
        "# Eğitilmiş modeli yükleyin (eğer model kaydedildiyse)\n",
        "# from tensorflow.keras.models import load_model\n",
        "# model = load_model('best_model.h5')\n",
        "\n",
        "# Modelle tahmin yapma\n",
        "prediction = model.predict(padded_user_sentence)\n",
        "\n",
        "# Tahmin sonucunu yazdırma\n",
        "print(\"Prediction (Probability):\", prediction)\n",
        "print(\"Sentiment:\", \"Positive\" if prediction >= 0.5 else \"Negative\")\n"
      ],
      "metadata": {
        "colab": {
          "base_uri": "https://localhost:8080/"
        },
        "id": "Wwbk63g6garF",
        "outputId": "5cdade82-df2c-400a-e40f-273af5fc6a7e"
      },
      "execution_count": 15,
      "outputs": [
        {
          "output_type": "stream",
          "name": "stdout",
          "text": [
            "1/1 [==============================] - 1s 1s/step\n",
            "Prediction (Probability): [[0.5716397]]\n",
            "Sentiment: Positive\n"
          ]
        }
      ]
    },
    {
      "cell_type": "code",
      "source": [
        "from tensorflow.keras.models import Sequential\n",
        "from tensorflow.keras.layers import Embedding, GRU, Dense, Dropout, Bidirectional\n",
        "\n",
        "# Modeli oluşturun\n",
        "model = Sequential()\n",
        "model.add(Embedding(input_dim=max_features, output_dim=128, input_length=max_len))  # Rastgele başlatılan embedding matrisi\n",
        "model.add(Bidirectional(GRU(64, return_sequences=True)))\n",
        "model.add(Dropout(0.5))\n",
        "model.add(GRU(64))\n",
        "model.add(Dropout(0.5))\n",
        "model.add(Dense(1, activation='sigmoid'))\n",
        "\n",
        "model.compile(optimizer='adam', loss='binary_crossentropy', metrics=['accuracy'])\n",
        "\n",
        "model.summary()"
      ],
      "metadata": {
        "colab": {
          "base_uri": "https://localhost:8080/"
        },
        "id": "J-06kOpKggAM",
        "outputId": "d7705ed7-b2d7-4ae0-9e0e-1b067b4c6ad1"
      },
      "execution_count": 21,
      "outputs": [
        {
          "output_type": "stream",
          "name": "stdout",
          "text": [
            "Model: \"sequential_3\"\n",
            "_________________________________________________________________\n",
            " Layer (type)                Output Shape              Param #   \n",
            "=================================================================\n",
            " embedding_3 (Embedding)     (None, 500, 128)          2560000   \n",
            "                                                                 \n",
            " bidirectional_3 (Bidirecti  (None, 500, 128)          74496     \n",
            " onal)                                                           \n",
            "                                                                 \n",
            " dropout_6 (Dropout)         (None, 500, 128)          0         \n",
            "                                                                 \n",
            " gru_5 (GRU)                 (None, 64)                37248     \n",
            "                                                                 \n",
            " dropout_7 (Dropout)         (None, 64)                0         \n",
            "                                                                 \n",
            " dense_3 (Dense)             (None, 1)                 65        \n",
            "                                                                 \n",
            "=================================================================\n",
            "Total params: 2671809 (10.19 MB)\n",
            "Trainable params: 2671809 (10.19 MB)\n",
            "Non-trainable params: 0 (0.00 Byte)\n",
            "_________________________________________________________________\n"
          ]
        }
      ]
    },
    {
      "cell_type": "code",
      "source": [
        "from tensorflow.keras.callbacks import EarlyStopping, ModelCheckpoint\n",
        "\n",
        "# Erken durdurma ve model kontrol callback'lerini oluşturun\n",
        "early_stopping = EarlyStopping(monitor='val_loss', patience=3, restore_best_weights=True)\n",
        "model_checkpoint = ModelCheckpoint('best_gru_model.h5', save_best_only=True, monitor='val_loss')\n",
        "\n",
        "# Modeli eğitin\n",
        "history = model.fit(x_train, y_train, epochs=20, batch_size=64, validation_split=0.2,\n",
        "                    callbacks=[early_stopping, model_checkpoint])\n"
      ],
      "metadata": {
        "colab": {
          "base_uri": "https://localhost:8080/"
        },
        "id": "JMJqUx3GkLoD",
        "outputId": "c4a1cef0-ae9f-475a-984e-03aabee47923"
      },
      "execution_count": 22,
      "outputs": [
        {
          "output_type": "stream",
          "name": "stdout",
          "text": [
            "Epoch 1/20\n",
            "313/313 [==============================] - 83s 133ms/step - loss: 0.4404 - accuracy: 0.7840 - val_loss: 0.3176 - val_accuracy: 0.8652\n",
            "Epoch 2/20\n",
            "313/313 [==============================] - 33s 105ms/step - loss: 0.2022 - accuracy: 0.9252 - val_loss: 0.3105 - val_accuracy: 0.8828\n",
            "Epoch 3/20\n",
            "313/313 [==============================] - 28s 91ms/step - loss: 0.1099 - accuracy: 0.9632 - val_loss: 0.3654 - val_accuracy: 0.8758\n",
            "Epoch 4/20\n",
            "313/313 [==============================] - 22s 71ms/step - loss: 0.0773 - accuracy: 0.9747 - val_loss: 0.4081 - val_accuracy: 0.8520\n",
            "Epoch 5/20\n",
            "313/313 [==============================] - 22s 69ms/step - loss: 0.0757 - accuracy: 0.9736 - val_loss: 0.5021 - val_accuracy: 0.8670\n"
          ]
        }
      ]
    },
    {
      "cell_type": "code",
      "source": [
        "# Modeli test edin\n",
        "test_loss, test_acc = model.evaluate(x_test, y_test)\n",
        "print(f\"Test Accuracy: {test_acc}\")"
      ],
      "metadata": {
        "colab": {
          "base_uri": "https://localhost:8080/"
        },
        "id": "3lNJ72n9kOXA",
        "outputId": "76ae7d8c-8239-482d-d482-1feaa7bf773e"
      },
      "execution_count": 23,
      "outputs": [
        {
          "output_type": "stream",
          "name": "stdout",
          "text": [
            "782/782 [==============================] - 17s 22ms/step - loss: 0.3313 - accuracy: 0.8716\n",
            "Test Accuracy: 0.8715599775314331\n"
          ]
        }
      ]
    }
  ]
}
