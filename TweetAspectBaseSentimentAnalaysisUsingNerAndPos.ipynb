{
  "nbformat": 4,
  "nbformat_minor": 0,
  "metadata": {
    "colab": {
      "provenance": [],
      "authorship_tag": "ABX9TyMMlkkKn0/x/wzNhe2DJKh5",
      "include_colab_link": true
    },
    "kernelspec": {
      "name": "python3",
      "display_name": "Python 3"
    },
    "language_info": {
      "name": "python"
    }
  },
  "cells": [
    {
      "cell_type": "markdown",
      "metadata": {
        "id": "view-in-github",
        "colab_type": "text"
      },
      "source": [
        "<a href=\"https://colab.research.google.com/github/koksal100/NLP/blob/main/TweetAspectBaseSentimentAnalaysisUsingNerAndPos.ipynb\" target=\"_parent\"><img src=\"https://colab.research.google.com/assets/colab-badge.svg\" alt=\"Open In Colab\"/></a>"
      ]
    },
    {
      "cell_type": "code",
      "source": [
        "pip install googletrans==4.0.0-rc1\n"
      ],
      "metadata": {
        "colab": {
          "base_uri": "https://localhost:8080/",
          "height": 949
        },
        "collapsed": true,
        "id": "Eoqx_ziQPhQj",
        "outputId": "2da2de98-fa4e-4596-e970-88e2d3720258"
      },
      "execution_count": 10,
      "outputs": [
        {
          "output_type": "stream",
          "name": "stdout",
          "text": [
            "Collecting googletrans==4.0.0-rc1\n",
            "  Downloading googletrans-4.0.0rc1.tar.gz (20 kB)\n",
            "  Preparing metadata (setup.py) ... \u001b[?25l\u001b[?25hdone\n",
            "Collecting httpx==0.13.3 (from googletrans==4.0.0-rc1)\n",
            "  Downloading httpx-0.13.3-py3-none-any.whl (55 kB)\n",
            "\u001b[2K     \u001b[90m━━━━━━━━━━━━━━━━━━━━━━━━━━━━━━━━━━━━━━━━\u001b[0m \u001b[32m55.1/55.1 kB\u001b[0m \u001b[31m2.3 MB/s\u001b[0m eta \u001b[36m0:00:00\u001b[0m\n",
            "\u001b[?25hRequirement already satisfied: certifi in /usr/local/lib/python3.10/dist-packages (from httpx==0.13.3->googletrans==4.0.0-rc1) (2024.7.4)\n",
            "Collecting hstspreload (from httpx==0.13.3->googletrans==4.0.0-rc1)\n",
            "  Downloading hstspreload-2024.7.1-py3-none-any.whl (1.2 MB)\n",
            "\u001b[2K     \u001b[90m━━━━━━━━━━━━━━━━━━━━━━━━━━━━━━━━━━━━━━━━\u001b[0m \u001b[32m1.2/1.2 MB\u001b[0m \u001b[31m17.7 MB/s\u001b[0m eta \u001b[36m0:00:00\u001b[0m\n",
            "\u001b[?25hRequirement already satisfied: sniffio in /usr/local/lib/python3.10/dist-packages (from httpx==0.13.3->googletrans==4.0.0-rc1) (1.3.1)\n",
            "Collecting chardet==3.* (from httpx==0.13.3->googletrans==4.0.0-rc1)\n",
            "  Downloading chardet-3.0.4-py2.py3-none-any.whl (133 kB)\n",
            "\u001b[2K     \u001b[90m━━━━━━━━━━━━━━━━━━━━━━━━━━━━━━━━━━━━━━━━\u001b[0m \u001b[32m133.4/133.4 kB\u001b[0m \u001b[31m13.3 MB/s\u001b[0m eta \u001b[36m0:00:00\u001b[0m\n",
            "\u001b[?25hCollecting idna==2.* (from httpx==0.13.3->googletrans==4.0.0-rc1)\n",
            "  Downloading idna-2.10-py2.py3-none-any.whl (58 kB)\n",
            "\u001b[2K     \u001b[90m━━━━━━━━━━━━━━━━━━━━━━━━━━━━━━━━━━━━━━━━\u001b[0m \u001b[32m58.8/58.8 kB\u001b[0m \u001b[31m7.5 MB/s\u001b[0m eta \u001b[36m0:00:00\u001b[0m\n",
            "\u001b[?25hCollecting rfc3986<2,>=1.3 (from httpx==0.13.3->googletrans==4.0.0-rc1)\n",
            "  Downloading rfc3986-1.5.0-py2.py3-none-any.whl (31 kB)\n",
            "Collecting httpcore==0.9.* (from httpx==0.13.3->googletrans==4.0.0-rc1)\n",
            "  Downloading httpcore-0.9.1-py3-none-any.whl (42 kB)\n",
            "\u001b[2K     \u001b[90m━━━━━━━━━━━━━━━━━━━━━━━━━━━━━━━━━━━━━━━━\u001b[0m \u001b[32m42.6/42.6 kB\u001b[0m \u001b[31m5.0 MB/s\u001b[0m eta \u001b[36m0:00:00\u001b[0m\n",
            "\u001b[?25hCollecting h11<0.10,>=0.8 (from httpcore==0.9.*->httpx==0.13.3->googletrans==4.0.0-rc1)\n",
            "  Downloading h11-0.9.0-py2.py3-none-any.whl (53 kB)\n",
            "\u001b[2K     \u001b[90m━━━━━━━━━━━━━━━━━━━━━━━━━━━━━━━━━━━━━━━━\u001b[0m \u001b[32m53.6/53.6 kB\u001b[0m \u001b[31m6.2 MB/s\u001b[0m eta \u001b[36m0:00:00\u001b[0m\n",
            "\u001b[?25hCollecting h2==3.* (from httpcore==0.9.*->httpx==0.13.3->googletrans==4.0.0-rc1)\n",
            "  Downloading h2-3.2.0-py2.py3-none-any.whl (65 kB)\n",
            "\u001b[2K     \u001b[90m━━━━━━━━━━━━━━━━━━━━━━━━━━━━━━━━━━━━━━━━\u001b[0m \u001b[32m65.0/65.0 kB\u001b[0m \u001b[31m8.8 MB/s\u001b[0m eta \u001b[36m0:00:00\u001b[0m\n",
            "\u001b[?25hCollecting hyperframe<6,>=5.2.0 (from h2==3.*->httpcore==0.9.*->httpx==0.13.3->googletrans==4.0.0-rc1)\n",
            "  Downloading hyperframe-5.2.0-py2.py3-none-any.whl (12 kB)\n",
            "Collecting hpack<4,>=3.0 (from h2==3.*->httpcore==0.9.*->httpx==0.13.3->googletrans==4.0.0-rc1)\n",
            "  Downloading hpack-3.0.0-py2.py3-none-any.whl (38 kB)\n",
            "Building wheels for collected packages: googletrans\n",
            "  Building wheel for googletrans (setup.py) ... \u001b[?25l\u001b[?25hdone\n",
            "  Created wheel for googletrans: filename=googletrans-4.0.0rc1-py3-none-any.whl size=17395 sha256=74a654389338ffbe9f4149dda759692dcea1dddcc94ad94f6e046e0e4f0777b0\n",
            "  Stored in directory: /root/.cache/pip/wheels/c0/59/9f/7372f0cf70160fe61b528532e1a7c8498c4becd6bcffb022de\n",
            "Successfully built googletrans\n",
            "Installing collected packages: rfc3986, hyperframe, hpack, h11, chardet, idna, hstspreload, h2, httpcore, httpx, googletrans\n",
            "  Attempting uninstall: chardet\n",
            "    Found existing installation: chardet 5.2.0\n",
            "    Uninstalling chardet-5.2.0:\n",
            "      Successfully uninstalled chardet-5.2.0\n",
            "  Attempting uninstall: idna\n",
            "    Found existing installation: idna 3.7\n",
            "    Uninstalling idna-3.7:\n",
            "      Successfully uninstalled idna-3.7\n",
            "Successfully installed chardet-3.0.4 googletrans-4.0.0rc1 h11-0.9.0 h2-3.2.0 hpack-3.0.0 hstspreload-2024.7.1 httpcore-0.9.1 httpx-0.13.3 hyperframe-5.2.0 idna-2.10 rfc3986-1.5.0\n"
          ]
        },
        {
          "output_type": "display_data",
          "data": {
            "application/vnd.colab-display-data+json": {
              "pip_warning": {
                "packages": [
                  "chardet",
                  "idna"
                ]
              },
              "id": "e68084f9db7b48d083c6a8d7103a0d17"
            }
          },
          "metadata": {}
        }
      ]
    },
    {
      "cell_type": "code",
      "source": [
        "from deep_translator import GoogleTranslator\n",
        "\n",
        "def translate_text_deep_translator(text, source_lang='tr', target_lang='en'):\n",
        "    try:\n",
        "        translated_text = GoogleTranslator(source=source_lang, target=target_lang).translate(text)\n",
        "        return translated_text\n",
        "    except Exception as e:\n",
        "        return f\"Çeviri sırasında bir hata oluştu: {e}\""
      ],
      "metadata": {
        "id": "SHkaPt5QcusM"
      },
      "execution_count": 3,
      "outputs": []
    },
    {
      "cell_type": "code",
      "execution_count": 4,
      "metadata": {
        "id": "TtwCPM7wMp1r"
      },
      "outputs": [],
      "source": [
        "import pandas as pd"
      ]
    },
    {
      "cell_type": "code",
      "source": [
        "jelert=pd.read_csv(\"jelert.csv\")\n",
        "wendel=pd.read_csv(\"wendel.csv\")"
      ],
      "metadata": {
        "id": "-fetF2HLNkOH"
      },
      "execution_count": 5,
      "outputs": []
    },
    {
      "cell_type": "code",
      "source": [
        "jelert"
      ],
      "metadata": {
        "colab": {
          "base_uri": "https://localhost:8080/",
          "height": 597
        },
        "id": "aSXt-N3UNrgF",
        "outputId": "25a7bb64-dde2-4b77-faee-3578a973ba92"
      },
      "execution_count": 6,
      "outputs": [
        {
          "output_type": "execute_result",
          "data": {
            "text/plain": [
              "     yanıt sayısı  yeniden gönderi sayısı  beğeni sayısı  yer işareti sayısı  \\\n",
              "0               4                       1             50                   6   \n",
              "1              43                       1             82                   5   \n",
              "2              23                      10             70                   1   \n",
              "3              42                       8            575                  10   \n",
              "4              37                      58           1847                  12   \n",
              "..            ...                     ...            ...                 ...   \n",
              "185            10                       1             73                   1   \n",
              "186             4                      10            844                   1   \n",
              "187            34                      22           1988                   7   \n",
              "188             3                       5            129                   3   \n",
              "189            27                      16            464                   7   \n",
              "\n",
              "     görüntülenme sayısı        user_name             nick  date  \\\n",
              "0                   2135    @PassionGala_     Ali #Hedef25  1 sa   \n",
              "1                  12925       @keremovet       Kerem Övet  1 sa   \n",
              "2                  37439  @EskiAcikOnline        Eski Açık  1 sa   \n",
              "3                  68268      @_GalaHaber       Gala Haber    2s   \n",
              "4                  60060   @YilmazDaichin           𝑦𝑖𝑙𝑚𝑎𝑧    2s   \n",
              "..                   ...              ...              ...   ...   \n",
              "185                 3120   @duygunazdemir  Duygu Naz Demir   21s   \n",
              "186                16417      @Futbol10gs        Futbol_10   21s   \n",
              "187               125870   @lemarcasports  Le Marca Sports   21s   \n",
              "188                21797      @osmcengizz     Osman Cengiz   21s   \n",
              "189                61025      @_GalaHaber       Gala Haber   21s   \n",
              "\n",
              "                                                 Tweet  \n",
              "0    Doue konusunda hala gelişme yok bu gidişle jel...  \n",
              "1                              Jelert analizi yayında!  \n",
              "2     Elias Jelert Galatasaray’da ne yapar? \\n\\n Tr...  \n",
              "3    Galatasaray, Wendel konusunda Zenit’ten yanıt ...  \n",
              "4    Yav Doue gelmek istemiyor işte adamı zorla mı ...  \n",
              "..                                                 ...  \n",
              "185   SON DAKİKA \\n\\nGalatasaray, Elias Jelert tran...  \n",
              "186  Galatasaray, Elias Jelert'i kadrosuna katmaya ...  \n",
              "187  Galatasaray, Elias Jelert transferini bitirmey...  \n",
              "188  Galatasaray, #Kopenhag forması giyen 21 yaşınd...  \n",
              "189  Galatasaray, Elias Jelert için fiyat arttırdı ...  \n",
              "\n",
              "[190 rows x 9 columns]"
            ],
            "text/html": [
              "\n",
              "  <div id=\"df-05784fc6-f503-4859-ba14-8b60a4279072\" class=\"colab-df-container\">\n",
              "    <div>\n",
              "<style scoped>\n",
              "    .dataframe tbody tr th:only-of-type {\n",
              "        vertical-align: middle;\n",
              "    }\n",
              "\n",
              "    .dataframe tbody tr th {\n",
              "        vertical-align: top;\n",
              "    }\n",
              "\n",
              "    .dataframe thead th {\n",
              "        text-align: right;\n",
              "    }\n",
              "</style>\n",
              "<table border=\"1\" class=\"dataframe\">\n",
              "  <thead>\n",
              "    <tr style=\"text-align: right;\">\n",
              "      <th></th>\n",
              "      <th>yanıt sayısı</th>\n",
              "      <th>yeniden gönderi sayısı</th>\n",
              "      <th>beğeni sayısı</th>\n",
              "      <th>yer işareti sayısı</th>\n",
              "      <th>görüntülenme sayısı</th>\n",
              "      <th>user_name</th>\n",
              "      <th>nick</th>\n",
              "      <th>date</th>\n",
              "      <th>Tweet</th>\n",
              "    </tr>\n",
              "  </thead>\n",
              "  <tbody>\n",
              "    <tr>\n",
              "      <th>0</th>\n",
              "      <td>4</td>\n",
              "      <td>1</td>\n",
              "      <td>50</td>\n",
              "      <td>6</td>\n",
              "      <td>2135</td>\n",
              "      <td>@PassionGala_</td>\n",
              "      <td>Ali #Hedef25</td>\n",
              "      <td>1 sa</td>\n",
              "      <td>Doue konusunda hala gelişme yok bu gidişle jel...</td>\n",
              "    </tr>\n",
              "    <tr>\n",
              "      <th>1</th>\n",
              "      <td>43</td>\n",
              "      <td>1</td>\n",
              "      <td>82</td>\n",
              "      <td>5</td>\n",
              "      <td>12925</td>\n",
              "      <td>@keremovet</td>\n",
              "      <td>Kerem Övet</td>\n",
              "      <td>1 sa</td>\n",
              "      <td>Jelert analizi yayında!</td>\n",
              "    </tr>\n",
              "    <tr>\n",
              "      <th>2</th>\n",
              "      <td>23</td>\n",
              "      <td>10</td>\n",
              "      <td>70</td>\n",
              "      <td>1</td>\n",
              "      <td>37439</td>\n",
              "      <td>@EskiAcikOnline</td>\n",
              "      <td>Eski Açık</td>\n",
              "      <td>1 sa</td>\n",
              "      <td>Elias Jelert Galatasaray’da ne yapar? \\n\\n Tr...</td>\n",
              "    </tr>\n",
              "    <tr>\n",
              "      <th>3</th>\n",
              "      <td>42</td>\n",
              "      <td>8</td>\n",
              "      <td>575</td>\n",
              "      <td>10</td>\n",
              "      <td>68268</td>\n",
              "      <td>@_GalaHaber</td>\n",
              "      <td>Gala Haber</td>\n",
              "      <td>2s</td>\n",
              "      <td>Galatasaray, Wendel konusunda Zenit’ten yanıt ...</td>\n",
              "    </tr>\n",
              "    <tr>\n",
              "      <th>4</th>\n",
              "      <td>37</td>\n",
              "      <td>58</td>\n",
              "      <td>1847</td>\n",
              "      <td>12</td>\n",
              "      <td>60060</td>\n",
              "      <td>@YilmazDaichin</td>\n",
              "      <td>𝑦𝑖𝑙𝑚𝑎𝑧</td>\n",
              "      <td>2s</td>\n",
              "      <td>Yav Doue gelmek istemiyor işte adamı zorla mı ...</td>\n",
              "    </tr>\n",
              "    <tr>\n",
              "      <th>...</th>\n",
              "      <td>...</td>\n",
              "      <td>...</td>\n",
              "      <td>...</td>\n",
              "      <td>...</td>\n",
              "      <td>...</td>\n",
              "      <td>...</td>\n",
              "      <td>...</td>\n",
              "      <td>...</td>\n",
              "      <td>...</td>\n",
              "    </tr>\n",
              "    <tr>\n",
              "      <th>185</th>\n",
              "      <td>10</td>\n",
              "      <td>1</td>\n",
              "      <td>73</td>\n",
              "      <td>1</td>\n",
              "      <td>3120</td>\n",
              "      <td>@duygunazdemir</td>\n",
              "      <td>Duygu Naz Demir</td>\n",
              "      <td>21s</td>\n",
              "      <td>SON DAKİKA \\n\\nGalatasaray, Elias Jelert tran...</td>\n",
              "    </tr>\n",
              "    <tr>\n",
              "      <th>186</th>\n",
              "      <td>4</td>\n",
              "      <td>10</td>\n",
              "      <td>844</td>\n",
              "      <td>1</td>\n",
              "      <td>16417</td>\n",
              "      <td>@Futbol10gs</td>\n",
              "      <td>Futbol_10</td>\n",
              "      <td>21s</td>\n",
              "      <td>Galatasaray, Elias Jelert'i kadrosuna katmaya ...</td>\n",
              "    </tr>\n",
              "    <tr>\n",
              "      <th>187</th>\n",
              "      <td>34</td>\n",
              "      <td>22</td>\n",
              "      <td>1988</td>\n",
              "      <td>7</td>\n",
              "      <td>125870</td>\n",
              "      <td>@lemarcasports</td>\n",
              "      <td>Le Marca Sports</td>\n",
              "      <td>21s</td>\n",
              "      <td>Galatasaray, Elias Jelert transferini bitirmey...</td>\n",
              "    </tr>\n",
              "    <tr>\n",
              "      <th>188</th>\n",
              "      <td>3</td>\n",
              "      <td>5</td>\n",
              "      <td>129</td>\n",
              "      <td>3</td>\n",
              "      <td>21797</td>\n",
              "      <td>@osmcengizz</td>\n",
              "      <td>Osman Cengiz</td>\n",
              "      <td>21s</td>\n",
              "      <td>Galatasaray, #Kopenhag forması giyen 21 yaşınd...</td>\n",
              "    </tr>\n",
              "    <tr>\n",
              "      <th>189</th>\n",
              "      <td>27</td>\n",
              "      <td>16</td>\n",
              "      <td>464</td>\n",
              "      <td>7</td>\n",
              "      <td>61025</td>\n",
              "      <td>@_GalaHaber</td>\n",
              "      <td>Gala Haber</td>\n",
              "      <td>21s</td>\n",
              "      <td>Galatasaray, Elias Jelert için fiyat arttırdı ...</td>\n",
              "    </tr>\n",
              "  </tbody>\n",
              "</table>\n",
              "<p>190 rows × 9 columns</p>\n",
              "</div>\n",
              "    <div class=\"colab-df-buttons\">\n",
              "\n",
              "  <div class=\"colab-df-container\">\n",
              "    <button class=\"colab-df-convert\" onclick=\"convertToInteractive('df-05784fc6-f503-4859-ba14-8b60a4279072')\"\n",
              "            title=\"Convert this dataframe to an interactive table.\"\n",
              "            style=\"display:none;\">\n",
              "\n",
              "  <svg xmlns=\"http://www.w3.org/2000/svg\" height=\"24px\" viewBox=\"0 -960 960 960\">\n",
              "    <path d=\"M120-120v-720h720v720H120Zm60-500h600v-160H180v160Zm220 220h160v-160H400v160Zm0 220h160v-160H400v160ZM180-400h160v-160H180v160Zm440 0h160v-160H620v160ZM180-180h160v-160H180v160Zm440 0h160v-160H620v160Z\"/>\n",
              "  </svg>\n",
              "    </button>\n",
              "\n",
              "  <style>\n",
              "    .colab-df-container {\n",
              "      display:flex;\n",
              "      gap: 12px;\n",
              "    }\n",
              "\n",
              "    .colab-df-convert {\n",
              "      background-color: #E8F0FE;\n",
              "      border: none;\n",
              "      border-radius: 50%;\n",
              "      cursor: pointer;\n",
              "      display: none;\n",
              "      fill: #1967D2;\n",
              "      height: 32px;\n",
              "      padding: 0 0 0 0;\n",
              "      width: 32px;\n",
              "    }\n",
              "\n",
              "    .colab-df-convert:hover {\n",
              "      background-color: #E2EBFA;\n",
              "      box-shadow: 0px 1px 2px rgba(60, 64, 67, 0.3), 0px 1px 3px 1px rgba(60, 64, 67, 0.15);\n",
              "      fill: #174EA6;\n",
              "    }\n",
              "\n",
              "    .colab-df-buttons div {\n",
              "      margin-bottom: 4px;\n",
              "    }\n",
              "\n",
              "    [theme=dark] .colab-df-convert {\n",
              "      background-color: #3B4455;\n",
              "      fill: #D2E3FC;\n",
              "    }\n",
              "\n",
              "    [theme=dark] .colab-df-convert:hover {\n",
              "      background-color: #434B5C;\n",
              "      box-shadow: 0px 1px 3px 1px rgba(0, 0, 0, 0.15);\n",
              "      filter: drop-shadow(0px 1px 2px rgba(0, 0, 0, 0.3));\n",
              "      fill: #FFFFFF;\n",
              "    }\n",
              "  </style>\n",
              "\n",
              "    <script>\n",
              "      const buttonEl =\n",
              "        document.querySelector('#df-05784fc6-f503-4859-ba14-8b60a4279072 button.colab-df-convert');\n",
              "      buttonEl.style.display =\n",
              "        google.colab.kernel.accessAllowed ? 'block' : 'none';\n",
              "\n",
              "      async function convertToInteractive(key) {\n",
              "        const element = document.querySelector('#df-05784fc6-f503-4859-ba14-8b60a4279072');\n",
              "        const dataTable =\n",
              "          await google.colab.kernel.invokeFunction('convertToInteractive',\n",
              "                                                    [key], {});\n",
              "        if (!dataTable) return;\n",
              "\n",
              "        const docLinkHtml = 'Like what you see? Visit the ' +\n",
              "          '<a target=\"_blank\" href=https://colab.research.google.com/notebooks/data_table.ipynb>data table notebook</a>'\n",
              "          + ' to learn more about interactive tables.';\n",
              "        element.innerHTML = '';\n",
              "        dataTable['output_type'] = 'display_data';\n",
              "        await google.colab.output.renderOutput(dataTable, element);\n",
              "        const docLink = document.createElement('div');\n",
              "        docLink.innerHTML = docLinkHtml;\n",
              "        element.appendChild(docLink);\n",
              "      }\n",
              "    </script>\n",
              "  </div>\n",
              "\n",
              "\n",
              "<div id=\"df-622c9a66-eba5-4787-a1ec-dc4c78861d20\">\n",
              "  <button class=\"colab-df-quickchart\" onclick=\"quickchart('df-622c9a66-eba5-4787-a1ec-dc4c78861d20')\"\n",
              "            title=\"Suggest charts\"\n",
              "            style=\"display:none;\">\n",
              "\n",
              "<svg xmlns=\"http://www.w3.org/2000/svg\" height=\"24px\"viewBox=\"0 0 24 24\"\n",
              "     width=\"24px\">\n",
              "    <g>\n",
              "        <path d=\"M19 3H5c-1.1 0-2 .9-2 2v14c0 1.1.9 2 2 2h14c1.1 0 2-.9 2-2V5c0-1.1-.9-2-2-2zM9 17H7v-7h2v7zm4 0h-2V7h2v10zm4 0h-2v-4h2v4z\"/>\n",
              "    </g>\n",
              "</svg>\n",
              "  </button>\n",
              "\n",
              "<style>\n",
              "  .colab-df-quickchart {\n",
              "      --bg-color: #E8F0FE;\n",
              "      --fill-color: #1967D2;\n",
              "      --hover-bg-color: #E2EBFA;\n",
              "      --hover-fill-color: #174EA6;\n",
              "      --disabled-fill-color: #AAA;\n",
              "      --disabled-bg-color: #DDD;\n",
              "  }\n",
              "\n",
              "  [theme=dark] .colab-df-quickchart {\n",
              "      --bg-color: #3B4455;\n",
              "      --fill-color: #D2E3FC;\n",
              "      --hover-bg-color: #434B5C;\n",
              "      --hover-fill-color: #FFFFFF;\n",
              "      --disabled-bg-color: #3B4455;\n",
              "      --disabled-fill-color: #666;\n",
              "  }\n",
              "\n",
              "  .colab-df-quickchart {\n",
              "    background-color: var(--bg-color);\n",
              "    border: none;\n",
              "    border-radius: 50%;\n",
              "    cursor: pointer;\n",
              "    display: none;\n",
              "    fill: var(--fill-color);\n",
              "    height: 32px;\n",
              "    padding: 0;\n",
              "    width: 32px;\n",
              "  }\n",
              "\n",
              "  .colab-df-quickchart:hover {\n",
              "    background-color: var(--hover-bg-color);\n",
              "    box-shadow: 0 1px 2px rgba(60, 64, 67, 0.3), 0 1px 3px 1px rgba(60, 64, 67, 0.15);\n",
              "    fill: var(--button-hover-fill-color);\n",
              "  }\n",
              "\n",
              "  .colab-df-quickchart-complete:disabled,\n",
              "  .colab-df-quickchart-complete:disabled:hover {\n",
              "    background-color: var(--disabled-bg-color);\n",
              "    fill: var(--disabled-fill-color);\n",
              "    box-shadow: none;\n",
              "  }\n",
              "\n",
              "  .colab-df-spinner {\n",
              "    border: 2px solid var(--fill-color);\n",
              "    border-color: transparent;\n",
              "    border-bottom-color: var(--fill-color);\n",
              "    animation:\n",
              "      spin 1s steps(1) infinite;\n",
              "  }\n",
              "\n",
              "  @keyframes spin {\n",
              "    0% {\n",
              "      border-color: transparent;\n",
              "      border-bottom-color: var(--fill-color);\n",
              "      border-left-color: var(--fill-color);\n",
              "    }\n",
              "    20% {\n",
              "      border-color: transparent;\n",
              "      border-left-color: var(--fill-color);\n",
              "      border-top-color: var(--fill-color);\n",
              "    }\n",
              "    30% {\n",
              "      border-color: transparent;\n",
              "      border-left-color: var(--fill-color);\n",
              "      border-top-color: var(--fill-color);\n",
              "      border-right-color: var(--fill-color);\n",
              "    }\n",
              "    40% {\n",
              "      border-color: transparent;\n",
              "      border-right-color: var(--fill-color);\n",
              "      border-top-color: var(--fill-color);\n",
              "    }\n",
              "    60% {\n",
              "      border-color: transparent;\n",
              "      border-right-color: var(--fill-color);\n",
              "    }\n",
              "    80% {\n",
              "      border-color: transparent;\n",
              "      border-right-color: var(--fill-color);\n",
              "      border-bottom-color: var(--fill-color);\n",
              "    }\n",
              "    90% {\n",
              "      border-color: transparent;\n",
              "      border-bottom-color: var(--fill-color);\n",
              "    }\n",
              "  }\n",
              "</style>\n",
              "\n",
              "  <script>\n",
              "    async function quickchart(key) {\n",
              "      const quickchartButtonEl =\n",
              "        document.querySelector('#' + key + ' button');\n",
              "      quickchartButtonEl.disabled = true;  // To prevent multiple clicks.\n",
              "      quickchartButtonEl.classList.add('colab-df-spinner');\n",
              "      try {\n",
              "        const charts = await google.colab.kernel.invokeFunction(\n",
              "            'suggestCharts', [key], {});\n",
              "      } catch (error) {\n",
              "        console.error('Error during call to suggestCharts:', error);\n",
              "      }\n",
              "      quickchartButtonEl.classList.remove('colab-df-spinner');\n",
              "      quickchartButtonEl.classList.add('colab-df-quickchart-complete');\n",
              "    }\n",
              "    (() => {\n",
              "      let quickchartButtonEl =\n",
              "        document.querySelector('#df-622c9a66-eba5-4787-a1ec-dc4c78861d20 button');\n",
              "      quickchartButtonEl.style.display =\n",
              "        google.colab.kernel.accessAllowed ? 'block' : 'none';\n",
              "    })();\n",
              "  </script>\n",
              "</div>\n",
              "\n",
              "  <div id=\"id_1f3cfaa1-b24d-4e06-9e1b-698f5b5c1f3b\">\n",
              "    <style>\n",
              "      .colab-df-generate {\n",
              "        background-color: #E8F0FE;\n",
              "        border: none;\n",
              "        border-radius: 50%;\n",
              "        cursor: pointer;\n",
              "        display: none;\n",
              "        fill: #1967D2;\n",
              "        height: 32px;\n",
              "        padding: 0 0 0 0;\n",
              "        width: 32px;\n",
              "      }\n",
              "\n",
              "      .colab-df-generate:hover {\n",
              "        background-color: #E2EBFA;\n",
              "        box-shadow: 0px 1px 2px rgba(60, 64, 67, 0.3), 0px 1px 3px 1px rgba(60, 64, 67, 0.15);\n",
              "        fill: #174EA6;\n",
              "      }\n",
              "\n",
              "      [theme=dark] .colab-df-generate {\n",
              "        background-color: #3B4455;\n",
              "        fill: #D2E3FC;\n",
              "      }\n",
              "\n",
              "      [theme=dark] .colab-df-generate:hover {\n",
              "        background-color: #434B5C;\n",
              "        box-shadow: 0px 1px 3px 1px rgba(0, 0, 0, 0.15);\n",
              "        filter: drop-shadow(0px 1px 2px rgba(0, 0, 0, 0.3));\n",
              "        fill: #FFFFFF;\n",
              "      }\n",
              "    </style>\n",
              "    <button class=\"colab-df-generate\" onclick=\"generateWithVariable('jelert')\"\n",
              "            title=\"Generate code using this dataframe.\"\n",
              "            style=\"display:none;\">\n",
              "\n",
              "  <svg xmlns=\"http://www.w3.org/2000/svg\" height=\"24px\"viewBox=\"0 0 24 24\"\n",
              "       width=\"24px\">\n",
              "    <path d=\"M7,19H8.4L18.45,9,17,7.55,7,17.6ZM5,21V16.75L18.45,3.32a2,2,0,0,1,2.83,0l1.4,1.43a1.91,1.91,0,0,1,.58,1.4,1.91,1.91,0,0,1-.58,1.4L9.25,21ZM18.45,9,17,7.55Zm-12,3A5.31,5.31,0,0,0,4.9,8.1,5.31,5.31,0,0,0,1,6.5,5.31,5.31,0,0,0,4.9,4.9,5.31,5.31,0,0,0,6.5,1,5.31,5.31,0,0,0,8.1,4.9,5.31,5.31,0,0,0,12,6.5,5.46,5.46,0,0,0,6.5,12Z\"/>\n",
              "  </svg>\n",
              "    </button>\n",
              "    <script>\n",
              "      (() => {\n",
              "      const buttonEl =\n",
              "        document.querySelector('#id_1f3cfaa1-b24d-4e06-9e1b-698f5b5c1f3b button.colab-df-generate');\n",
              "      buttonEl.style.display =\n",
              "        google.colab.kernel.accessAllowed ? 'block' : 'none';\n",
              "\n",
              "      buttonEl.onclick = () => {\n",
              "        google.colab.notebook.generateWithVariable('jelert');\n",
              "      }\n",
              "      })();\n",
              "    </script>\n",
              "  </div>\n",
              "\n",
              "    </div>\n",
              "  </div>\n"
            ],
            "application/vnd.google.colaboratory.intrinsic+json": {
              "type": "dataframe",
              "variable_name": "jelert",
              "summary": "{\n  \"name\": \"jelert\",\n  \"rows\": 190,\n  \"fields\": [\n    {\n      \"column\": \"yan\\u0131t say\\u0131s\\u0131\",\n      \"properties\": {\n        \"dtype\": \"number\",\n        \"std\": 27,\n        \"min\": 3,\n        \"max\": 204,\n        \"num_unique_values\": 61,\n        \"samples\": [\n          4,\n          19,\n          55\n        ],\n        \"semantic_type\": \"\",\n        \"description\": \"\"\n      }\n    },\n    {\n      \"column\": \"yeniden g\\u00f6nderi say\\u0131s\\u0131\",\n      \"properties\": {\n        \"dtype\": \"number\",\n        \"std\": 17,\n        \"min\": 1,\n        \"max\": 103,\n        \"num_unique_values\": 49,\n        \"samples\": [\n          7,\n          48,\n          54\n        ],\n        \"semantic_type\": \"\",\n        \"description\": \"\"\n      }\n    },\n    {\n      \"column\": \"be\\u011feni say\\u0131s\\u0131\",\n      \"properties\": {\n        \"dtype\": \"number\",\n        \"std\": 847,\n        \"min\": 5,\n        \"max\": 6280,\n        \"num_unique_values\": 171,\n        \"samples\": [\n          158,\n          414,\n          447\n        ],\n        \"semantic_type\": \"\",\n        \"description\": \"\"\n      }\n    },\n    {\n      \"column\": \"yer i\\u015fareti say\\u0131s\\u0131\",\n      \"properties\": {\n        \"dtype\": \"number\",\n        \"std\": 22,\n        \"min\": 1,\n        \"max\": 213,\n        \"num_unique_values\": 41,\n        \"samples\": [\n          78,\n          3,\n          8\n        ],\n        \"semantic_type\": \"\",\n        \"description\": \"\"\n      }\n    },\n    {\n      \"column\": \"g\\u00f6r\\u00fcnt\\u00fclenme say\\u0131s\\u0131\",\n      \"properties\": {\n        \"dtype\": \"number\",\n        \"std\": 160098,\n        \"min\": 1053,\n        \"max\": 1728954,\n        \"num_unique_values\": 190,\n        \"samples\": [\n          5257,\n          69493,\n          11318\n        ],\n        \"semantic_type\": \"\",\n        \"description\": \"\"\n      }\n    },\n    {\n      \"column\": \"user_name\",\n      \"properties\": {\n        \"dtype\": \"string\",\n        \"num_unique_values\": 130,\n        \"samples\": [\n          \"@BayOsmanoglu\",\n          \"@boslukariyorgs\",\n          \"@PesindeyizApp\"\n        ],\n        \"semantic_type\": \"\",\n        \"description\": \"\"\n      }\n    },\n    {\n      \"column\": \"nick\",\n      \"properties\": {\n        \"dtype\": \"string\",\n        \"num_unique_values\": 130,\n        \"samples\": [\n          \"Osmano\\u011flu\",\n          \"Sofi\",\n          \"Pe\\u015findeyiz Galatasaray!\"\n        ],\n        \"semantic_type\": \"\",\n        \"description\": \"\"\n      }\n    },\n    {\n      \"column\": \"date\",\n      \"properties\": {\n        \"dtype\": \"category\",\n        \"num_unique_values\": 16,\n        \"samples\": [\n          \"1 sa\",\n          \"2s\",\n          \"6s\"\n        ],\n        \"semantic_type\": \"\",\n        \"description\": \"\"\n      }\n    },\n    {\n      \"column\": \"Tweet\",\n      \"properties\": {\n        \"dtype\": \"string\",\n        \"num_unique_values\": 187,\n        \"samples\": [\n          \"Galatasaray, #Kopenhag formas\\u0131 giyen 21 ya\\u015f\\u0131ndaki sa\\u011f bek Elias Jelert ile her konuda anla\\u015fmaya vard\\u0131\\n\\nKopenhag ile de son detaylar g\\u00f6r\\u00fc\\u015f\\u00fcl\\u00fcyor\\n\\n#Galatasaray, #Jelert transferini k\\u0131sa s\\u00fcrede bitirmeye \\u00e7ok yak\\u0131n!\",\n          \"Doue ve Jelert son durum buymu\\u015f (\\u00e7ago)\",\n          \"Galatasaray Jelert i\\u00e7in 8+2m teklif etmi\\u015f \\nJelert\\u2019e de 1m maa\\u015f\"\n        ],\n        \"semantic_type\": \"\",\n        \"description\": \"\"\n      }\n    }\n  ]\n}"
            }
          },
          "metadata": {},
          "execution_count": 6
        }
      ]
    },
    {
      "cell_type": "code",
      "source": [
        "wendel"
      ],
      "metadata": {
        "colab": {
          "base_uri": "https://localhost:8080/",
          "height": 614
        },
        "id": "dRXvuIIQNsUP",
        "outputId": "6e6872a9-4690-4d5a-9238-2528db69589b"
      },
      "execution_count": 7,
      "outputs": [
        {
          "output_type": "execute_result",
          "data": {
            "text/plain": [
              "     yanıt sayısı  yeniden gönderi sayısı  beğeni sayısı  yer işareti sayısı  \\\n",
              "0              74                       4            197                   2   \n",
              "1              57                      19            583                   8   \n",
              "2             100                      14            422                   6   \n",
              "3              17                       9             93                   3   \n",
              "4              22                      13            386                   5   \n",
              "..            ...                     ...            ...                 ...   \n",
              "178             3                       6             42                   7   \n",
              "179            10                      30           1976                 188   \n",
              "180             3                       1             38                   1   \n",
              "181            12                      10            155                  11   \n",
              "182             6                       7            231                   3   \n",
              "\n",
              "     görüntülenme sayısı        user_name                     nick date  \\\n",
              "0                   8205      @_GalaHaber               Gala Haber   9d   \n",
              "1                  13142    @sinyorrmonci                    monci  15d   \n",
              "2                  35479      @_GalaHaber               Gala Haber  47d   \n",
              "3                   6062  @GazeteciAslanN            GazeteciAslan  52d   \n",
              "4                  30731   @PesindeyizApp  Peşindeyiz Galatasaray!  54d   \n",
              "..                   ...              ...                      ...  ...   \n",
              "178                18067  @BonocciRicardo          Ricardo BONOCCİ  19s   \n",
              "179                64761    @prandellisst                prandelli  19s   \n",
              "180                 3949  @semihnisanci89            Semih Nişancı  19s   \n",
              "181                 5803        @uaMedya_          UltrAslan Medya  20s   \n",
              "182                 7518      @RixoSports              Rixo Sports  20s   \n",
              "\n",
              "                                                 Tweet  \n",
              "0    Galatasaray, Wendel için Zenit’e yeniden tekli...  \n",
              "1    Abi bu Wendel'i izledikçe herife düşüyoruz yav...  \n",
              "2    Wendel için Zenit’ten cevap geldi, arada hâlâ ...  \n",
              "3    Fenerbahçe Wendele Girdi 18.5 M Euro Teklif Et...  \n",
              "4    Ali Baransel: ''Wendel, Galatasaray'a gelmeyi ...  \n",
              "..                                                 ...  \n",
              "178  Cenk Ergün seni yüceltmemiz için  Wendel ( Rio...  \n",
              "179  kaan-torreira-wendel üçlüsüyle rakiplere karşı...  \n",
              "180  Wendel'in Zenit'le full maç kaydına Baykam'ın ...  \n",
              "181  Wendel transfer için kulübünden kolaylık isted...  \n",
              "182  George Gardi de görüşmelerin içinde bizzat var...  \n",
              "\n",
              "[183 rows x 9 columns]"
            ],
            "text/html": [
              "\n",
              "  <div id=\"df-3fe6d30e-3083-4e28-862c-e17ac832ed2e\" class=\"colab-df-container\">\n",
              "    <div>\n",
              "<style scoped>\n",
              "    .dataframe tbody tr th:only-of-type {\n",
              "        vertical-align: middle;\n",
              "    }\n",
              "\n",
              "    .dataframe tbody tr th {\n",
              "        vertical-align: top;\n",
              "    }\n",
              "\n",
              "    .dataframe thead th {\n",
              "        text-align: right;\n",
              "    }\n",
              "</style>\n",
              "<table border=\"1\" class=\"dataframe\">\n",
              "  <thead>\n",
              "    <tr style=\"text-align: right;\">\n",
              "      <th></th>\n",
              "      <th>yanıt sayısı</th>\n",
              "      <th>yeniden gönderi sayısı</th>\n",
              "      <th>beğeni sayısı</th>\n",
              "      <th>yer işareti sayısı</th>\n",
              "      <th>görüntülenme sayısı</th>\n",
              "      <th>user_name</th>\n",
              "      <th>nick</th>\n",
              "      <th>date</th>\n",
              "      <th>Tweet</th>\n",
              "    </tr>\n",
              "  </thead>\n",
              "  <tbody>\n",
              "    <tr>\n",
              "      <th>0</th>\n",
              "      <td>74</td>\n",
              "      <td>4</td>\n",
              "      <td>197</td>\n",
              "      <td>2</td>\n",
              "      <td>8205</td>\n",
              "      <td>@_GalaHaber</td>\n",
              "      <td>Gala Haber</td>\n",
              "      <td>9d</td>\n",
              "      <td>Galatasaray, Wendel için Zenit’e yeniden tekli...</td>\n",
              "    </tr>\n",
              "    <tr>\n",
              "      <th>1</th>\n",
              "      <td>57</td>\n",
              "      <td>19</td>\n",
              "      <td>583</td>\n",
              "      <td>8</td>\n",
              "      <td>13142</td>\n",
              "      <td>@sinyorrmonci</td>\n",
              "      <td>monci</td>\n",
              "      <td>15d</td>\n",
              "      <td>Abi bu Wendel'i izledikçe herife düşüyoruz yav...</td>\n",
              "    </tr>\n",
              "    <tr>\n",
              "      <th>2</th>\n",
              "      <td>100</td>\n",
              "      <td>14</td>\n",
              "      <td>422</td>\n",
              "      <td>6</td>\n",
              "      <td>35479</td>\n",
              "      <td>@_GalaHaber</td>\n",
              "      <td>Gala Haber</td>\n",
              "      <td>47d</td>\n",
              "      <td>Wendel için Zenit’ten cevap geldi, arada hâlâ ...</td>\n",
              "    </tr>\n",
              "    <tr>\n",
              "      <th>3</th>\n",
              "      <td>17</td>\n",
              "      <td>9</td>\n",
              "      <td>93</td>\n",
              "      <td>3</td>\n",
              "      <td>6062</td>\n",
              "      <td>@GazeteciAslanN</td>\n",
              "      <td>GazeteciAslan</td>\n",
              "      <td>52d</td>\n",
              "      <td>Fenerbahçe Wendele Girdi 18.5 M Euro Teklif Et...</td>\n",
              "    </tr>\n",
              "    <tr>\n",
              "      <th>4</th>\n",
              "      <td>22</td>\n",
              "      <td>13</td>\n",
              "      <td>386</td>\n",
              "      <td>5</td>\n",
              "      <td>30731</td>\n",
              "      <td>@PesindeyizApp</td>\n",
              "      <td>Peşindeyiz Galatasaray!</td>\n",
              "      <td>54d</td>\n",
              "      <td>Ali Baransel: ''Wendel, Galatasaray'a gelmeyi ...</td>\n",
              "    </tr>\n",
              "    <tr>\n",
              "      <th>...</th>\n",
              "      <td>...</td>\n",
              "      <td>...</td>\n",
              "      <td>...</td>\n",
              "      <td>...</td>\n",
              "      <td>...</td>\n",
              "      <td>...</td>\n",
              "      <td>...</td>\n",
              "      <td>...</td>\n",
              "      <td>...</td>\n",
              "    </tr>\n",
              "    <tr>\n",
              "      <th>178</th>\n",
              "      <td>3</td>\n",
              "      <td>6</td>\n",
              "      <td>42</td>\n",
              "      <td>7</td>\n",
              "      <td>18067</td>\n",
              "      <td>@BonocciRicardo</td>\n",
              "      <td>Ricardo BONOCCİ</td>\n",
              "      <td>19s</td>\n",
              "      <td>Cenk Ergün seni yüceltmemiz için  Wendel ( Rio...</td>\n",
              "    </tr>\n",
              "    <tr>\n",
              "      <th>179</th>\n",
              "      <td>10</td>\n",
              "      <td>30</td>\n",
              "      <td>1976</td>\n",
              "      <td>188</td>\n",
              "      <td>64761</td>\n",
              "      <td>@prandellisst</td>\n",
              "      <td>prandelli</td>\n",
              "      <td>19s</td>\n",
              "      <td>kaan-torreira-wendel üçlüsüyle rakiplere karşı...</td>\n",
              "    </tr>\n",
              "    <tr>\n",
              "      <th>180</th>\n",
              "      <td>3</td>\n",
              "      <td>1</td>\n",
              "      <td>38</td>\n",
              "      <td>1</td>\n",
              "      <td>3949</td>\n",
              "      <td>@semihnisanci89</td>\n",
              "      <td>Semih Nişancı</td>\n",
              "      <td>19s</td>\n",
              "      <td>Wendel'in Zenit'le full maç kaydına Baykam'ın ...</td>\n",
              "    </tr>\n",
              "    <tr>\n",
              "      <th>181</th>\n",
              "      <td>12</td>\n",
              "      <td>10</td>\n",
              "      <td>155</td>\n",
              "      <td>11</td>\n",
              "      <td>5803</td>\n",
              "      <td>@uaMedya_</td>\n",
              "      <td>UltrAslan Medya</td>\n",
              "      <td>20s</td>\n",
              "      <td>Wendel transfer için kulübünden kolaylık isted...</td>\n",
              "    </tr>\n",
              "    <tr>\n",
              "      <th>182</th>\n",
              "      <td>6</td>\n",
              "      <td>7</td>\n",
              "      <td>231</td>\n",
              "      <td>3</td>\n",
              "      <td>7518</td>\n",
              "      <td>@RixoSports</td>\n",
              "      <td>Rixo Sports</td>\n",
              "      <td>20s</td>\n",
              "      <td>George Gardi de görüşmelerin içinde bizzat var...</td>\n",
              "    </tr>\n",
              "  </tbody>\n",
              "</table>\n",
              "<p>183 rows × 9 columns</p>\n",
              "</div>\n",
              "    <div class=\"colab-df-buttons\">\n",
              "\n",
              "  <div class=\"colab-df-container\">\n",
              "    <button class=\"colab-df-convert\" onclick=\"convertToInteractive('df-3fe6d30e-3083-4e28-862c-e17ac832ed2e')\"\n",
              "            title=\"Convert this dataframe to an interactive table.\"\n",
              "            style=\"display:none;\">\n",
              "\n",
              "  <svg xmlns=\"http://www.w3.org/2000/svg\" height=\"24px\" viewBox=\"0 -960 960 960\">\n",
              "    <path d=\"M120-120v-720h720v720H120Zm60-500h600v-160H180v160Zm220 220h160v-160H400v160Zm0 220h160v-160H400v160ZM180-400h160v-160H180v160Zm440 0h160v-160H620v160ZM180-180h160v-160H180v160Zm440 0h160v-160H620v160Z\"/>\n",
              "  </svg>\n",
              "    </button>\n",
              "\n",
              "  <style>\n",
              "    .colab-df-container {\n",
              "      display:flex;\n",
              "      gap: 12px;\n",
              "    }\n",
              "\n",
              "    .colab-df-convert {\n",
              "      background-color: #E8F0FE;\n",
              "      border: none;\n",
              "      border-radius: 50%;\n",
              "      cursor: pointer;\n",
              "      display: none;\n",
              "      fill: #1967D2;\n",
              "      height: 32px;\n",
              "      padding: 0 0 0 0;\n",
              "      width: 32px;\n",
              "    }\n",
              "\n",
              "    .colab-df-convert:hover {\n",
              "      background-color: #E2EBFA;\n",
              "      box-shadow: 0px 1px 2px rgba(60, 64, 67, 0.3), 0px 1px 3px 1px rgba(60, 64, 67, 0.15);\n",
              "      fill: #174EA6;\n",
              "    }\n",
              "\n",
              "    .colab-df-buttons div {\n",
              "      margin-bottom: 4px;\n",
              "    }\n",
              "\n",
              "    [theme=dark] .colab-df-convert {\n",
              "      background-color: #3B4455;\n",
              "      fill: #D2E3FC;\n",
              "    }\n",
              "\n",
              "    [theme=dark] .colab-df-convert:hover {\n",
              "      background-color: #434B5C;\n",
              "      box-shadow: 0px 1px 3px 1px rgba(0, 0, 0, 0.15);\n",
              "      filter: drop-shadow(0px 1px 2px rgba(0, 0, 0, 0.3));\n",
              "      fill: #FFFFFF;\n",
              "    }\n",
              "  </style>\n",
              "\n",
              "    <script>\n",
              "      const buttonEl =\n",
              "        document.querySelector('#df-3fe6d30e-3083-4e28-862c-e17ac832ed2e button.colab-df-convert');\n",
              "      buttonEl.style.display =\n",
              "        google.colab.kernel.accessAllowed ? 'block' : 'none';\n",
              "\n",
              "      async function convertToInteractive(key) {\n",
              "        const element = document.querySelector('#df-3fe6d30e-3083-4e28-862c-e17ac832ed2e');\n",
              "        const dataTable =\n",
              "          await google.colab.kernel.invokeFunction('convertToInteractive',\n",
              "                                                    [key], {});\n",
              "        if (!dataTable) return;\n",
              "\n",
              "        const docLinkHtml = 'Like what you see? Visit the ' +\n",
              "          '<a target=\"_blank\" href=https://colab.research.google.com/notebooks/data_table.ipynb>data table notebook</a>'\n",
              "          + ' to learn more about interactive tables.';\n",
              "        element.innerHTML = '';\n",
              "        dataTable['output_type'] = 'display_data';\n",
              "        await google.colab.output.renderOutput(dataTable, element);\n",
              "        const docLink = document.createElement('div');\n",
              "        docLink.innerHTML = docLinkHtml;\n",
              "        element.appendChild(docLink);\n",
              "      }\n",
              "    </script>\n",
              "  </div>\n",
              "\n",
              "\n",
              "<div id=\"df-5ef8c7a9-bd15-4096-8aaf-f5d54a5e158c\">\n",
              "  <button class=\"colab-df-quickchart\" onclick=\"quickchart('df-5ef8c7a9-bd15-4096-8aaf-f5d54a5e158c')\"\n",
              "            title=\"Suggest charts\"\n",
              "            style=\"display:none;\">\n",
              "\n",
              "<svg xmlns=\"http://www.w3.org/2000/svg\" height=\"24px\"viewBox=\"0 0 24 24\"\n",
              "     width=\"24px\">\n",
              "    <g>\n",
              "        <path d=\"M19 3H5c-1.1 0-2 .9-2 2v14c0 1.1.9 2 2 2h14c1.1 0 2-.9 2-2V5c0-1.1-.9-2-2-2zM9 17H7v-7h2v7zm4 0h-2V7h2v10zm4 0h-2v-4h2v4z\"/>\n",
              "    </g>\n",
              "</svg>\n",
              "  </button>\n",
              "\n",
              "<style>\n",
              "  .colab-df-quickchart {\n",
              "      --bg-color: #E8F0FE;\n",
              "      --fill-color: #1967D2;\n",
              "      --hover-bg-color: #E2EBFA;\n",
              "      --hover-fill-color: #174EA6;\n",
              "      --disabled-fill-color: #AAA;\n",
              "      --disabled-bg-color: #DDD;\n",
              "  }\n",
              "\n",
              "  [theme=dark] .colab-df-quickchart {\n",
              "      --bg-color: #3B4455;\n",
              "      --fill-color: #D2E3FC;\n",
              "      --hover-bg-color: #434B5C;\n",
              "      --hover-fill-color: #FFFFFF;\n",
              "      --disabled-bg-color: #3B4455;\n",
              "      --disabled-fill-color: #666;\n",
              "  }\n",
              "\n",
              "  .colab-df-quickchart {\n",
              "    background-color: var(--bg-color);\n",
              "    border: none;\n",
              "    border-radius: 50%;\n",
              "    cursor: pointer;\n",
              "    display: none;\n",
              "    fill: var(--fill-color);\n",
              "    height: 32px;\n",
              "    padding: 0;\n",
              "    width: 32px;\n",
              "  }\n",
              "\n",
              "  .colab-df-quickchart:hover {\n",
              "    background-color: var(--hover-bg-color);\n",
              "    box-shadow: 0 1px 2px rgba(60, 64, 67, 0.3), 0 1px 3px 1px rgba(60, 64, 67, 0.15);\n",
              "    fill: var(--button-hover-fill-color);\n",
              "  }\n",
              "\n",
              "  .colab-df-quickchart-complete:disabled,\n",
              "  .colab-df-quickchart-complete:disabled:hover {\n",
              "    background-color: var(--disabled-bg-color);\n",
              "    fill: var(--disabled-fill-color);\n",
              "    box-shadow: none;\n",
              "  }\n",
              "\n",
              "  .colab-df-spinner {\n",
              "    border: 2px solid var(--fill-color);\n",
              "    border-color: transparent;\n",
              "    border-bottom-color: var(--fill-color);\n",
              "    animation:\n",
              "      spin 1s steps(1) infinite;\n",
              "  }\n",
              "\n",
              "  @keyframes spin {\n",
              "    0% {\n",
              "      border-color: transparent;\n",
              "      border-bottom-color: var(--fill-color);\n",
              "      border-left-color: var(--fill-color);\n",
              "    }\n",
              "    20% {\n",
              "      border-color: transparent;\n",
              "      border-left-color: var(--fill-color);\n",
              "      border-top-color: var(--fill-color);\n",
              "    }\n",
              "    30% {\n",
              "      border-color: transparent;\n",
              "      border-left-color: var(--fill-color);\n",
              "      border-top-color: var(--fill-color);\n",
              "      border-right-color: var(--fill-color);\n",
              "    }\n",
              "    40% {\n",
              "      border-color: transparent;\n",
              "      border-right-color: var(--fill-color);\n",
              "      border-top-color: var(--fill-color);\n",
              "    }\n",
              "    60% {\n",
              "      border-color: transparent;\n",
              "      border-right-color: var(--fill-color);\n",
              "    }\n",
              "    80% {\n",
              "      border-color: transparent;\n",
              "      border-right-color: var(--fill-color);\n",
              "      border-bottom-color: var(--fill-color);\n",
              "    }\n",
              "    90% {\n",
              "      border-color: transparent;\n",
              "      border-bottom-color: var(--fill-color);\n",
              "    }\n",
              "  }\n",
              "</style>\n",
              "\n",
              "  <script>\n",
              "    async function quickchart(key) {\n",
              "      const quickchartButtonEl =\n",
              "        document.querySelector('#' + key + ' button');\n",
              "      quickchartButtonEl.disabled = true;  // To prevent multiple clicks.\n",
              "      quickchartButtonEl.classList.add('colab-df-spinner');\n",
              "      try {\n",
              "        const charts = await google.colab.kernel.invokeFunction(\n",
              "            'suggestCharts', [key], {});\n",
              "      } catch (error) {\n",
              "        console.error('Error during call to suggestCharts:', error);\n",
              "      }\n",
              "      quickchartButtonEl.classList.remove('colab-df-spinner');\n",
              "      quickchartButtonEl.classList.add('colab-df-quickchart-complete');\n",
              "    }\n",
              "    (() => {\n",
              "      let quickchartButtonEl =\n",
              "        document.querySelector('#df-5ef8c7a9-bd15-4096-8aaf-f5d54a5e158c button');\n",
              "      quickchartButtonEl.style.display =\n",
              "        google.colab.kernel.accessAllowed ? 'block' : 'none';\n",
              "    })();\n",
              "  </script>\n",
              "</div>\n",
              "\n",
              "  <div id=\"id_852dfaa1-5d03-4e18-8be1-dc3a74ac1273\">\n",
              "    <style>\n",
              "      .colab-df-generate {\n",
              "        background-color: #E8F0FE;\n",
              "        border: none;\n",
              "        border-radius: 50%;\n",
              "        cursor: pointer;\n",
              "        display: none;\n",
              "        fill: #1967D2;\n",
              "        height: 32px;\n",
              "        padding: 0 0 0 0;\n",
              "        width: 32px;\n",
              "      }\n",
              "\n",
              "      .colab-df-generate:hover {\n",
              "        background-color: #E2EBFA;\n",
              "        box-shadow: 0px 1px 2px rgba(60, 64, 67, 0.3), 0px 1px 3px 1px rgba(60, 64, 67, 0.15);\n",
              "        fill: #174EA6;\n",
              "      }\n",
              "\n",
              "      [theme=dark] .colab-df-generate {\n",
              "        background-color: #3B4455;\n",
              "        fill: #D2E3FC;\n",
              "      }\n",
              "\n",
              "      [theme=dark] .colab-df-generate:hover {\n",
              "        background-color: #434B5C;\n",
              "        box-shadow: 0px 1px 3px 1px rgba(0, 0, 0, 0.15);\n",
              "        filter: drop-shadow(0px 1px 2px rgba(0, 0, 0, 0.3));\n",
              "        fill: #FFFFFF;\n",
              "      }\n",
              "    </style>\n",
              "    <button class=\"colab-df-generate\" onclick=\"generateWithVariable('wendel')\"\n",
              "            title=\"Generate code using this dataframe.\"\n",
              "            style=\"display:none;\">\n",
              "\n",
              "  <svg xmlns=\"http://www.w3.org/2000/svg\" height=\"24px\"viewBox=\"0 0 24 24\"\n",
              "       width=\"24px\">\n",
              "    <path d=\"M7,19H8.4L18.45,9,17,7.55,7,17.6ZM5,21V16.75L18.45,3.32a2,2,0,0,1,2.83,0l1.4,1.43a1.91,1.91,0,0,1,.58,1.4,1.91,1.91,0,0,1-.58,1.4L9.25,21ZM18.45,9,17,7.55Zm-12,3A5.31,5.31,0,0,0,4.9,8.1,5.31,5.31,0,0,0,1,6.5,5.31,5.31,0,0,0,4.9,4.9,5.31,5.31,0,0,0,6.5,1,5.31,5.31,0,0,0,8.1,4.9,5.31,5.31,0,0,0,12,6.5,5.46,5.46,0,0,0,6.5,12Z\"/>\n",
              "  </svg>\n",
              "    </button>\n",
              "    <script>\n",
              "      (() => {\n",
              "      const buttonEl =\n",
              "        document.querySelector('#id_852dfaa1-5d03-4e18-8be1-dc3a74ac1273 button.colab-df-generate');\n",
              "      buttonEl.style.display =\n",
              "        google.colab.kernel.accessAllowed ? 'block' : 'none';\n",
              "\n",
              "      buttonEl.onclick = () => {\n",
              "        google.colab.notebook.generateWithVariable('wendel');\n",
              "      }\n",
              "      })();\n",
              "    </script>\n",
              "  </div>\n",
              "\n",
              "    </div>\n",
              "  </div>\n"
            ],
            "application/vnd.google.colaboratory.intrinsic+json": {
              "type": "dataframe",
              "variable_name": "wendel",
              "summary": "{\n  \"name\": \"wendel\",\n  \"rows\": 183,\n  \"fields\": [\n    {\n      \"column\": \"yan\\u0131t say\\u0131s\\u0131\",\n      \"properties\": {\n        \"dtype\": \"number\",\n        \"std\": 48,\n        \"min\": 3,\n        \"max\": 401,\n        \"num_unique_values\": 68,\n        \"samples\": [\n          142,\n          14,\n          22\n        ],\n        \"semantic_type\": \"\",\n        \"description\": \"\"\n      }\n    },\n    {\n      \"column\": \"yeniden g\\u00f6nderi say\\u0131s\\u0131\",\n      \"properties\": {\n        \"dtype\": \"number\",\n        \"std\": 73,\n        \"min\": 1,\n        \"max\": 915,\n        \"num_unique_values\": 53,\n        \"samples\": [\n          22,\n          52,\n          37\n        ],\n        \"semantic_type\": \"\",\n        \"description\": \"\"\n      }\n    },\n    {\n      \"column\": \"be\\u011feni say\\u0131s\\u0131\",\n      \"properties\": {\n        \"dtype\": \"number\",\n        \"std\": 1021,\n        \"min\": 8,\n        \"max\": 10291,\n        \"num_unique_values\": 165,\n        \"samples\": [\n          339,\n          97,\n          144\n        ],\n        \"semantic_type\": \"\",\n        \"description\": \"\"\n      }\n    },\n    {\n      \"column\": \"yer i\\u015fareti say\\u0131s\\u0131\",\n      \"properties\": {\n        \"dtype\": \"number\",\n        \"std\": 25,\n        \"min\": 1,\n        \"max\": 188,\n        \"num_unique_values\": 36,\n        \"samples\": [\n          188,\n          30,\n          53\n        ],\n        \"semantic_type\": \"\",\n        \"description\": \"\"\n      }\n    },\n    {\n      \"column\": \"g\\u00f6r\\u00fcnt\\u00fclenme say\\u0131s\\u0131\",\n      \"properties\": {\n        \"dtype\": \"number\",\n        \"std\": 211535,\n        \"min\": 1186,\n        \"max\": 1754003,\n        \"num_unique_values\": 183,\n        \"samples\": [\n          3258,\n          37106,\n          75219\n        ],\n        \"semantic_type\": \"\",\n        \"description\": \"\"\n      }\n    },\n    {\n      \"column\": \"user_name\",\n      \"properties\": {\n        \"dtype\": \"string\",\n        \"num_unique_values\": 112,\n        \"samples\": [\n          \"@KerpedennNecati\",\n          \"@nexustransfer\",\n          \"@CimbomAddicted\"\n        ],\n        \"semantic_type\": \"\",\n        \"description\": \"\"\n      }\n    },\n    {\n      \"column\": \"nick\",\n      \"properties\": {\n        \"dtype\": \"string\",\n        \"num_unique_values\": 112,\n        \"samples\": [\n          \"KerpedennNecati\",\n          \"Nexus Sports\",\n          \"Mauro\"\n        ],\n        \"semantic_type\": \"\",\n        \"description\": \"\"\n      }\n    },\n    {\n      \"column\": \"date\",\n      \"properties\": {\n        \"dtype\": \"category\",\n        \"num_unique_values\": 20,\n        \"samples\": [\n          \"9d\",\n          \"18s\",\n          \"16s\"\n        ],\n        \"semantic_type\": \"\",\n        \"description\": \"\"\n      }\n    },\n    {\n      \"column\": \"Tweet\",\n      \"properties\": {\n        \"dtype\": \"string\",\n        \"num_unique_values\": 179,\n        \"samples\": [\n          \"Zenit Wendel i\\u00e7in 25 milyon Euroluk beklentisini 23lere indirdi. Galatasaray'\\u0131n teklifi bonuslarla 17 Milyon Euro'yu buluyor.\",\n          \"Fenerbah\\u00e7e Wendel'in 2-3 t\\u0131k alt\\u0131ndaki kronik adama tek seferde 15 m\\u20ac s\\u0131kt\\u0131. Oynad\\u0131\\u011f\\u0131 her ma\\u00e7ta Fenerbah\\u00e7e'de fark yaratt\\u0131.. iyi oyuncu istiyorsak iyi para vermeliyiz. Wendel'i 20 m\\u20ac'ya b\\u0131rak\\u0131yorlarsa d\\u00fc\\u015f\\u00fcnmeden almak gerekir. Bir tak\\u0131m\\u0131n orta sahas\\u0131 kalbi, beyni, ci\\u011feridir!\",\n          \"Tam 4-3-3 oyuncusu m\\u00fckemmel bir 8,5 Wendel. Bu sistemin daha uyumlu olabilmesi i\\u00e7in ayn\\u0131 Zenit gibi iki 8,5 numarayla oynamak laz\\u0131m.\"\n        ],\n        \"semantic_type\": \"\",\n        \"description\": \"\"\n      }\n    }\n  ]\n}"
            }
          },
          "metadata": {},
          "execution_count": 7
        }
      ]
    },
    {
      "cell_type": "code",
      "source": [
        "wendel[\"Tweet_en\"]=wendel[\"Tweet\"].apply(translate_text_deep_translator)"
      ],
      "metadata": {
        "id": "MFUYGMvfQxbf"
      },
      "execution_count": 8,
      "outputs": []
    },
    {
      "cell_type": "code",
      "source": [
        "jelert[\"Tweet_en\"]=jelert[\"Tweet\"].apply(translate_text_deep_translator)"
      ],
      "metadata": {
        "id": "gE85l3f0Xggt"
      },
      "execution_count": 9,
      "outputs": []
    },
    {
      "cell_type": "code",
      "source": [
        "#WORKING WITH TRANSFORMER MODEL FOR NER TASK\n",
        "from transformers import AutoTokenizer, AutoModelForTokenClassification\n",
        "from transformers import pipeline\n",
        "\n",
        "tokenizer = AutoTokenizer.from_pretrained(\"Babelscape/wikineural-multilingual-ner\")\n",
        "model = AutoModelForTokenClassification.from_pretrained(\"Babelscape/wikineural-multilingual-ner\")\n",
        "\n",
        "pipe4ner = pipeline(\"ner\", model=model, tokenizer=tokenizer)"
      ],
      "metadata": {
        "colab": {
          "base_uri": "https://localhost:8080/"
        },
        "id": "Iw-r3iVCQ9w_",
        "outputId": "e35bafb2-7ef6-4d2e-8856-1785eedc9a04"
      },
      "execution_count": 10,
      "outputs": [
        {
          "output_type": "stream",
          "name": "stderr",
          "text": [
            "/usr/local/lib/python3.10/dist-packages/huggingface_hub/utils/_token.py:89: UserWarning: \n",
            "The secret `HF_TOKEN` does not exist in your Colab secrets.\n",
            "To authenticate with the Hugging Face Hub, create a token in your settings tab (https://huggingface.co/settings/tokens), set it as secret in your Google Colab and restart your session.\n",
            "You will be able to reuse this secret in all of your notebooks.\n",
            "Please note that authentication is recommended but still optional to access public models or datasets.\n",
            "  warnings.warn(\n"
          ]
        }
      ]
    },
    {
      "cell_type": "code",
      "source": [
        "#WORKING WITH TRANSFORMER MODEL FOR POS TASK\n",
        "from transformers import pipeline\n",
        "\n",
        "pipe4pos = pipeline(\"token-classification\", model=\"vblagoje/bert-english-uncased-finetuned-pos\")"
      ],
      "metadata": {
        "colab": {
          "base_uri": "https://localhost:8080/"
        },
        "id": "WAKqZCADRKso",
        "outputId": "2b0f6ecc-21b0-4ea1-9dae-cd7304ee4810"
      },
      "execution_count": 11,
      "outputs": [
        {
          "output_type": "stream",
          "name": "stderr",
          "text": [
            "Some weights of the model checkpoint at vblagoje/bert-english-uncased-finetuned-pos were not used when initializing BertForTokenClassification: ['bert.pooler.dense.bias', 'bert.pooler.dense.weight']\n",
            "- This IS expected if you are initializing BertForTokenClassification from the checkpoint of a model trained on another task or with another architecture (e.g. initializing a BertForSequenceClassification model from a BertForPreTraining model).\n",
            "- This IS NOT expected if you are initializing BertForTokenClassification from the checkpoint of a model that you expect to be exactly identical (initializing a BertForSequenceClassification model from a BertForSequenceClassification model).\n"
          ]
        }
      ]
    },
    {
      "cell_type": "code",
      "source": [
        "#FUNCTION FOR COMBINING THE NER RESULTS\n",
        "\n",
        "def combine(ner_result):\n",
        "    combined_entities = []\n",
        "    current_entity =\"\"\n",
        "    current_word=\"\"\n",
        "    b_counter=0\n",
        "    for entity in ner_result:\n",
        "        if entity['entity'][0]==\"B\":\n",
        "          if b_counter==1:\n",
        "            combined_entities.append({\"entity\":current_entity,\"word\":current_word})\n",
        "            current_entity = entity[\"entity\"][2:]\n",
        "            current_word=entity[\"word\"]\n",
        "            continue\n",
        "          b_counter=1\n",
        "          current_entity = entity[\"entity\"][2:]\n",
        "          current_word=entity[\"word\"]\n",
        "        elif entity['entity'][0]==\"I\":\n",
        "          if entity[\"word\"][:2]==\"##\":\n",
        "            entity[\"word\"]=entity[\"word\"][2:]\n",
        "            current_word=current_word+entity[\"word\"]\n",
        "            continue\n",
        "          current_word=current_word+\" \"+entity[\"word\"]\n",
        "\n",
        "\n",
        "    if current_entity is not None:\n",
        "        combined_entities.append({\"entity\":current_entity,\"word\":current_word})\n",
        "\n",
        "    return combined_entities"
      ],
      "metadata": {
        "id": "f_ZdnPTmTqUh"
      },
      "execution_count": 12,
      "outputs": []
    },
    {
      "cell_type": "code",
      "source": [
        "#FUNCTION FOR COMBINING POS RESULTS\n",
        "\n",
        "def combinepos(pos_result):\n",
        "    combined_entities = []\n",
        "    unnecessary_index=[]\n",
        "    for i,res in enumerate(pos_result):\n",
        "        if res[\"word\"][:2]==\"##\":\n",
        "            unnecessary_index.append(i)\n",
        "            pos_result[i-1][\"word\"]=pos_result[i-1][\"word\"]+res[\"word\"][2:]\n",
        "    for i,res in enumerate(pos_result):\n",
        "        if i not in unnecessary_index:\n",
        "            combined_entities.append(res)\n",
        "\n",
        "    return combined_entities"
      ],
      "metadata": {
        "id": "skV4zIwUUJxj"
      },
      "execution_count": 13,
      "outputs": []
    },
    {
      "cell_type": "code",
      "source": [
        "sample_text=wendel[\"Tweet_en\"][39]\n",
        "sample_text"
      ],
      "metadata": {
        "colab": {
          "base_uri": "https://localhost:8080/",
          "height": 35
        },
        "id": "r2ors6v4R_le",
        "outputId": "1177b575-822e-4d1e-90df-5f18eaddf4b7"
      },
      "execution_count": 14,
      "outputs": [
        {
          "output_type": "execute_result",
          "data": {
            "text/plain": [
              "'For Wendel, just trust this guy. His Russian sources are very reliable.'"
            ],
            "application/vnd.google.colaboratory.intrinsic+json": {
              "type": "string"
            }
          },
          "metadata": {},
          "execution_count": 14
        }
      ]
    },
    {
      "cell_type": "code",
      "source": [
        "combinepos(pipe4pos(sample_text))"
      ],
      "metadata": {
        "colab": {
          "base_uri": "https://localhost:8080/"
        },
        "id": "oLC-b742Tp6v",
        "outputId": "3c6c847b-bfbe-4532-855d-25ed7115d2bc"
      },
      "execution_count": 15,
      "outputs": [
        {
          "output_type": "execute_result",
          "data": {
            "text/plain": [
              "[{'entity': 'ADP',\n",
              "  'score': 0.9987124,\n",
              "  'index': 1,\n",
              "  'word': 'for',\n",
              "  'start': 0,\n",
              "  'end': 3},\n",
              " {'entity': 'PROPN',\n",
              "  'score': 0.998187,\n",
              "  'index': 2,\n",
              "  'word': 'wendel',\n",
              "  'start': 4,\n",
              "  'end': 7},\n",
              " {'entity': 'PUNCT',\n",
              "  'score': 0.9996538,\n",
              "  'index': 4,\n",
              "  'word': ',',\n",
              "  'start': 10,\n",
              "  'end': 11},\n",
              " {'entity': 'ADV',\n",
              "  'score': 0.9970517,\n",
              "  'index': 5,\n",
              "  'word': 'just',\n",
              "  'start': 12,\n",
              "  'end': 16},\n",
              " {'entity': 'VERB',\n",
              "  'score': 0.9992322,\n",
              "  'index': 6,\n",
              "  'word': 'trust',\n",
              "  'start': 17,\n",
              "  'end': 22},\n",
              " {'entity': 'DET',\n",
              "  'score': 0.9994804,\n",
              "  'index': 7,\n",
              "  'word': 'this',\n",
              "  'start': 23,\n",
              "  'end': 27},\n",
              " {'entity': 'NOUN',\n",
              "  'score': 0.99882597,\n",
              "  'index': 8,\n",
              "  'word': 'guy',\n",
              "  'start': 28,\n",
              "  'end': 31},\n",
              " {'entity': 'PUNCT',\n",
              "  'score': 0.9996587,\n",
              "  'index': 9,\n",
              "  'word': '.',\n",
              "  'start': 31,\n",
              "  'end': 32},\n",
              " {'entity': 'PRON',\n",
              "  'score': 0.9992592,\n",
              "  'index': 10,\n",
              "  'word': 'his',\n",
              "  'start': 33,\n",
              "  'end': 36},\n",
              " {'entity': 'ADJ',\n",
              "  'score': 0.9964964,\n",
              "  'index': 11,\n",
              "  'word': 'russian',\n",
              "  'start': 37,\n",
              "  'end': 44},\n",
              " {'entity': 'NOUN',\n",
              "  'score': 0.99909544,\n",
              "  'index': 12,\n",
              "  'word': 'sources',\n",
              "  'start': 45,\n",
              "  'end': 52},\n",
              " {'entity': 'AUX',\n",
              "  'score': 0.9951532,\n",
              "  'index': 13,\n",
              "  'word': 'are',\n",
              "  'start': 53,\n",
              "  'end': 56},\n",
              " {'entity': 'ADV',\n",
              "  'score': 0.9991916,\n",
              "  'index': 14,\n",
              "  'word': 'very',\n",
              "  'start': 57,\n",
              "  'end': 61},\n",
              " {'entity': 'ADJ',\n",
              "  'score': 0.99905473,\n",
              "  'index': 15,\n",
              "  'word': 'reliable',\n",
              "  'start': 62,\n",
              "  'end': 70},\n",
              " {'entity': 'PUNCT',\n",
              "  'score': 0.99965894,\n",
              "  'index': 16,\n",
              "  'word': '.',\n",
              "  'start': 70,\n",
              "  'end': 71}]"
            ]
          },
          "metadata": {},
          "execution_count": 15
        }
      ]
    },
    {
      "cell_type": "code",
      "source": [
        "combine(pipe4ner(sample_text))"
      ],
      "metadata": {
        "colab": {
          "base_uri": "https://localhost:8080/"
        },
        "id": "84LJ9iGTShyI",
        "outputId": "6277de04-88fc-4ae9-c5be-059810d9d926"
      },
      "execution_count": 16,
      "outputs": [
        {
          "output_type": "execute_result",
          "data": {
            "text/plain": [
              "[{'entity': 'PER', 'word': 'Wendel'}, {'entity': 'MISC', 'word': 'Russian'}]"
            ]
          },
          "metadata": {},
          "execution_count": 16
        }
      ]
    },
    {
      "cell_type": "code",
      "source": [
        "#IMPORT TRANSFORMER MODEL FOR ASPECT BASE SENTIMENT ANALYSIS\n",
        "\n",
        "from transformers import AutoTokenizer, AutoModelForSequenceClassification\n",
        "\n",
        "# Load the ABSA model and tokenizer\n",
        "model_name = \"yangheng/deberta-v3-base-absa-v1.1\"\n",
        "tokenizer = AutoTokenizer.from_pretrained(model_name)\n",
        "model = AutoModelForSequenceClassification.from_pretrained(model_name)\n",
        "\n",
        "classifier = pipeline(\"text-classification\", model=model, tokenizer=tokenizer)\n",
        "\n",
        "for aspect in ['camera', 'phone']:\n",
        "   print(aspect, classifier('The camera quality of this phone is amazing.',  text_pair=aspect))"
      ],
      "metadata": {
        "colab": {
          "base_uri": "https://localhost:8080/"
        },
        "id": "rjl8IFweSk7J",
        "outputId": "35ab4f51-f46d-454c-e128-852da889941e"
      },
      "execution_count": 17,
      "outputs": [
        {
          "output_type": "stream",
          "name": "stderr",
          "text": [
            "/usr/local/lib/python3.10/dist-packages/transformers/convert_slow_tokenizer.py:560: UserWarning: The sentencepiece tokenizer that you are converting to a fast tokenizer uses the byte fallback option which is not implemented in the fast tokenizers. In practice this means that the fast version of the tokenizer can produce unknown tokens whereas the sentencepiece version would have converted these unknown tokens into a sequence of byte tokens matching the original piece of text.\n",
            "  warnings.warn(\n"
          ]
        },
        {
          "output_type": "stream",
          "name": "stdout",
          "text": [
            "camera [{'label': 'Positive', 'score': 0.9967294931411743}]\n",
            "phone [{'label': 'Neutral', 'score': 0.9472787380218506}]\n"
          ]
        }
      ]
    },
    {
      "cell_type": "code",
      "source": [
        "#ADD NER COLUMN TO DATASET\n",
        "wendel[\"ner\"]=wendel[\"Tweet\"].apply(lambda x: combine(pipe4ner(x)))"
      ],
      "metadata": {
        "id": "IFk4i7dLWTIU"
      },
      "execution_count": 48,
      "outputs": []
    },
    {
      "cell_type": "code",
      "source": [
        "jelert[\"ner\"]=jelert[\"Tweet\"].apply(lambda x: combine(pipe4ner(x)))"
      ],
      "metadata": {
        "id": "ejiaibx4W2bB"
      },
      "execution_count": 47,
      "outputs": []
    },
    {
      "cell_type": "code",
      "source": [
        "# ADD POS COLUMN TO DATASET\n",
        "wendel[\"pos\"]=wendel[\"Tweet_en\"].apply(lambda x: combinepos(pipe4pos(x)))"
      ],
      "metadata": {
        "id": "yKYrQ2NKX8Nc"
      },
      "execution_count": 20,
      "outputs": []
    },
    {
      "cell_type": "code",
      "source": [
        "jelert[\"pos\"]=jelert[\"Tweet_en\"].apply(lambda x: combinepos(pipe4pos(x)))"
      ],
      "metadata": {
        "id": "RUEwtniGYHcd"
      },
      "execution_count": 21,
      "outputs": []
    },
    {
      "cell_type": "code",
      "source": [
        "jelert[\"Tweet_en\"][93]"
      ],
      "metadata": {
        "colab": {
          "base_uri": "https://localhost:8080/",
          "height": 52
        },
        "id": "CNz1MadMYKG4",
        "outputId": "cfcb973e-248f-40e9-9a47-d4098fdb72ff"
      },
      "execution_count": 22,
      "outputs": [
        {
          "output_type": "execute_result",
          "data": {
            "text/plain": [
              "'There is a group of people who believe that Cenk Ergün and İbrahim Hatipoğlu can bring at least two of the names Elias Jelert, İlkay and Wendel. The probability I give to this is attached.'"
            ],
            "application/vnd.google.colaboratory.intrinsic+json": {
              "type": "string"
            }
          },
          "metadata": {},
          "execution_count": 22
        }
      ]
    },
    {
      "cell_type": "code",
      "source": [
        "jelert[\"Tweet\"][93]"
      ],
      "metadata": {
        "colab": {
          "base_uri": "https://localhost:8080/",
          "height": 52
        },
        "id": "3NjZdIRZZCza",
        "outputId": "09795113-be00-4e09-a371-9dea13e90711"
      },
      "execution_count": 23,
      "outputs": [
        {
          "output_type": "execute_result",
          "data": {
            "text/plain": [
              "\"Cenk Ergün ve İbrahim Hatipoğlu 'nun Elias Jelert, İlkay ve Wendel  isimlerinden en az iki tanesini  getirebileceğine inanan bir kitle  var Benim buna verdiğim ihtimal ektedir\""
            ],
            "application/vnd.google.colaboratory.intrinsic+json": {
              "type": "string"
            }
          },
          "metadata": {},
          "execution_count": 23
        }
      ]
    },
    {
      "cell_type": "code",
      "source": [
        "jelert[\"pos\"]"
      ],
      "metadata": {
        "colab": {
          "base_uri": "https://localhost:8080/"
        },
        "id": "vdxubwj8cV1S",
        "outputId": "8fb06c65-04fd-4a1e-8220-2a8792c659c3"
      },
      "execution_count": 24,
      "outputs": [
        {
          "output_type": "execute_result",
          "data": {
            "text/plain": [
              "0      [{'entity': 'PRON', 'score': 0.99937904, 'inde...\n",
              "1      [{'entity': 'PROPN', 'score': 0.9978752, 'inde...\n",
              "2      [{'entity': 'PRON', 'score': 0.9984725, 'index...\n",
              "3      [{'entity': 'PROPN', 'score': 0.998939, 'index...\n",
              "4      [{'entity': 'PROPN', 'score': 0.9984681, 'inde...\n",
              "                             ...                        \n",
              "185    [{'entity': 'VERB', 'score': 0.94813067, 'inde...\n",
              "186    [{'entity': 'PROPN', 'score': 0.9989009, 'inde...\n",
              "187    [{'entity': 'PROPN', 'score': 0.9989009, 'inde...\n",
              "188    [{'entity': 'PROPN', 'score': 0.99900645, 'ind...\n",
              "189    [{'entity': 'PROPN', 'score': 0.9989064, 'inde...\n",
              "Name: pos, Length: 190, dtype: object"
            ]
          },
          "metadata": {},
          "execution_count": 24
        }
      ]
    },
    {
      "cell_type": "code",
      "source": [
        "jelert[\"Tweet_en\"][18]"
      ],
      "metadata": {
        "colab": {
          "base_uri": "https://localhost:8080/",
          "height": 35
        },
        "id": "mhgiUTlFik9V",
        "outputId": "252cab13-58c5-41f8-c717-1caa4e0820c2"
      },
      "execution_count": 30,
      "outputs": [
        {
          "output_type": "execute_result",
          "data": {
            "text/plain": [
              "'Galatasaray will sit down again with Copenhagen for Jelert in the coming minutes and the negotiations will continue from where they left off.'"
            ],
            "application/vnd.google.colaboratory.intrinsic+json": {
              "type": "string"
            }
          },
          "metadata": {},
          "execution_count": 30
        }
      ]
    },
    {
      "cell_type": "code",
      "source": [
        "jelert[\"Tweet\"][93]"
      ],
      "metadata": {
        "colab": {
          "base_uri": "https://localhost:8080/",
          "height": 52
        },
        "id": "S8ckWct9v6uU",
        "outputId": "0689ec92-0ab8-4f97-8d2c-19d79b3cbd2e"
      },
      "execution_count": 57,
      "outputs": [
        {
          "output_type": "execute_result",
          "data": {
            "text/plain": [
              "\"Cenk Ergün ve İbrahim Hatipoğlu 'nun Elias Jelert, İlkay ve Wendel  isimlerinden en az iki tanesini  getirebileceğine inanan bir kitle  var Benim buna verdiğim ihtimal ektedir\""
            ],
            "application/vnd.google.colaboratory.intrinsic+json": {
              "type": "string"
            }
          },
          "metadata": {},
          "execution_count": 57
        }
      ]
    },
    {
      "cell_type": "code",
      "source": [
        "pipe4ner(jelert[\"Tweet\"][0])"
      ],
      "metadata": {
        "colab": {
          "base_uri": "https://localhost:8080/"
        },
        "id": "YA1sLLiowFqo",
        "outputId": "083adbb8-ddcf-4354-a359-b1c7cdb783bb"
      },
      "execution_count": 54,
      "outputs": [
        {
          "output_type": "execute_result",
          "data": {
            "text/plain": [
              "[{'entity': 'B-MISC',\n",
              "  'score': 0.6486635,\n",
              "  'index': 1,\n",
              "  'word': 'Do',\n",
              "  'start': 0,\n",
              "  'end': 2},\n",
              " {'entity': 'I-MISC',\n",
              "  'score': 0.71312284,\n",
              "  'index': 2,\n",
              "  'word': '##ue',\n",
              "  'start': 2,\n",
              "  'end': 4}]"
            ]
          },
          "metadata": {},
          "execution_count": 54
        }
      ]
    },
    {
      "cell_type": "code",
      "source": [
        "jelert[\"ner\"][102]"
      ],
      "metadata": {
        "colab": {
          "base_uri": "https://localhost:8080/"
        },
        "id": "cmeXu6S8pAxa",
        "outputId": "df16e5c7-3909-43ad-818e-e61ee8d0d8b1"
      },
      "execution_count": 59,
      "outputs": [
        {
          "output_type": "execute_result",
          "data": {
            "text/plain": [
              "[{'entity': 'PER', 'word': 'Elias Jelert'},\n",
              " {'entity': 'ORG', 'word': 'Galatasaray'}]"
            ]
          },
          "metadata": {},
          "execution_count": 59
        }
      ]
    },
    {
      "cell_type": "code",
      "source": [
        "getPER=lambda row:[dic[\"word\"] for dic in row if dic[\"entity\"]==\"PER\"]\n",
        "getORG=lambda row:[dic[\"word\"] for dic in row if dic[\"entity\"]==\"ORG\"]"
      ],
      "metadata": {
        "id": "lhMbcyxDwiSm"
      },
      "execution_count": 64,
      "outputs": []
    },
    {
      "cell_type": "code",
      "source": [
        "jelert[\"PER\"]=jelert[\"ner\"].apply(getPER)\n",
        "jelert[\"ORG\"]=jelert[\"ner\"].apply(getORG)"
      ],
      "metadata": {
        "id": "oPePU9uHx3FT"
      },
      "execution_count": 65,
      "outputs": []
    },
    {
      "cell_type": "code",
      "source": [
        "wendel[\"PER\"]=wendel[\"ner\"].apply(getPER)\n",
        "wendel[\"ORG\"]=wendel[\"ner\"].apply(getORG)"
      ],
      "metadata": {
        "id": "AzKQtFKy7T7e"
      },
      "execution_count": 94,
      "outputs": []
    },
    {
      "cell_type": "code",
      "source": [
        "evaluationsJelert4Per=[]\n",
        "\n",
        "for index,row in enumerate(jelert[\"PER\"]):\n",
        "  if len(row)==0:\n",
        "    continue\n",
        "  for aspect in row:\n",
        "    evaluation=classifier(jelert[\"Tweet_en\"][index],  text_pair=aspect)\n",
        "    evaluationsJelert4Per.append((aspect,evaluation[0][\"label\"]))"
      ],
      "metadata": {
        "id": "rCttBDlWx73T"
      },
      "execution_count": 75,
      "outputs": []
    },
    {
      "cell_type": "code",
      "source": [
        "evaluationsJelert4Org=[]\n",
        "\n",
        "for index,row in enumerate(jelert[\"ORG\"]):\n",
        "  if len(row)==0:\n",
        "    continue\n",
        "  for aspect in row:\n",
        "    evaluation=classifier(jelert[\"Tweet_en\"][index],  text_pair=aspect)\n",
        "    evaluationsJelert4Org.append((aspect,evaluation[0][\"label\"]))"
      ],
      "metadata": {
        "id": "6wde9xWezkVZ"
      },
      "execution_count": 72,
      "outputs": []
    },
    {
      "cell_type": "code",
      "source": [
        "evaluationsWendel4Per=[]\n",
        "\n",
        "for index,row in enumerate(wendel[\"PER\"]):\n",
        "  if len(row)==0:\n",
        "    continue\n",
        "  for aspect in row:\n",
        "    evaluation=classifier(wendel[\"Tweet_en\"][index],  text_pair=aspect)\n",
        "    evaluationsWendel4Per.append((aspect,evaluation[0][\"label\"]))"
      ],
      "metadata": {
        "id": "NGLKAxyi7bo9"
      },
      "execution_count": 96,
      "outputs": []
    },
    {
      "cell_type": "code",
      "source": [
        "evaluationsWendel4Org=[]\n",
        "\n",
        "for index,row in enumerate(wendel[\"ORG\"]):\n",
        "  if len(row)==0:\n",
        "    continue\n",
        "  for aspect in row:\n",
        "    evaluation=classifier(wendel[\"Tweet_en\"][index],  text_pair=aspect)\n",
        "    evaluationsWendel4Org.append((aspect,evaluation[0][\"label\"]))"
      ],
      "metadata": {
        "id": "zfU_cbjm7bje"
      },
      "execution_count": 97,
      "outputs": []
    },
    {
      "cell_type": "code",
      "source": [
        "dict4JelertPer={}\n",
        "for key,value in evaluationsJelert4Per:\n",
        "  if key not in dict4JelertPer:\n",
        "    dict4JelertPer[key]={}\n",
        "    dict4JelertPer[key][\"Positive\"]=0\n",
        "    dict4JelertPer[key][\"Negative\"]=0\n",
        "    dict4JelertPer[key][\"Neutral\"]=0\n",
        "    dict4JelertPer[key][\"Toplam Kelime Sayısı\"]=0\n",
        "    dict4JelertPer[key][value]+=1\n",
        "  else:\n",
        "    dict4JelertPer[key][value]+=1\n",
        "    dict4JelertPer[key][\"Toplam Kelime Sayısı\"]+=1\n"
      ],
      "metadata": {
        "id": "sim2LiQf2XqB"
      },
      "execution_count": 86,
      "outputs": []
    },
    {
      "cell_type": "code",
      "source": [
        "dict4WendelOrg={}\n",
        "for key,value in evaluationsWendel4Org:\n",
        "  if key not in dict4WendelOrg:\n",
        "    dict4WendelOrg[key]={}\n",
        "    dict4WendelOrg[key][\"Positive\"]=0\n",
        "    dict4WendelOrg[key][\"Negative\"]=0\n",
        "    dict4WendelOrg[key][\"Neutral\"]=0\n",
        "    dict4WendelOrg[key][\"Toplam Kelime Sayısı\"]=0\n",
        "\n",
        "    dict4WendelOrg[key][value]+=1\n",
        "  else:\n",
        "    dict4WendelOrg[key][value]+=1\n",
        "    dict4WendelOrg[key][\"Toplam Kelime Sayısı\"]+=1\n"
      ],
      "metadata": {
        "id": "k455cKGa2Xn8"
      },
      "execution_count": 98,
      "outputs": []
    },
    {
      "cell_type": "code",
      "source": [
        "dict4WendelPer={}\n",
        "for key,value in evaluationsWendel4Per:\n",
        "  if key not in dict4WendelPer:\n",
        "    dict4WendelPer[key]={}\n",
        "    dict4WendelPer[key][\"Positive\"]=0\n",
        "    dict4WendelPer[key][\"Negative\"]=0\n",
        "    dict4WendelPer[key][\"Neutral\"]=0\n",
        "    dict4WendelPer[key][\"Toplam Kelime Sayısı\"]=0\n",
        "\n",
        "    dict4WendelPer[key][value]+=1\n",
        "  else:\n",
        "    dict4WendelPer[key][value]+=1\n",
        "    dict4WendelPer[key][\"Toplam Kelime Sayısı\"]+=1\n"
      ],
      "metadata": {
        "id": "thshBl7-9GyT"
      },
      "execution_count": 100,
      "outputs": []
    },
    {
      "cell_type": "code",
      "source": [
        "sorted_dict4JelertPer = dict(sorted(dict4JelertPer.items(), key=lambda item: item[1][\"Toplam Kelime Sayısı\"],reverse=True))\n",
        "print(sorted_dict4JelertPer)"
      ],
      "metadata": {
        "colab": {
          "base_uri": "https://localhost:8080/"
        },
        "id": "8YC_LzQc2XgQ",
        "outputId": "399f6e3f-fe2c-4d35-cc99-aff8da719b31"
      },
      "execution_count": 91,
      "outputs": [
        {
          "output_type": "stream",
          "name": "stdout",
          "text": [
            "{'Elias Jelert': {'Positive': 29, 'Negative': 5, 'Neutral': 38, 'Toplam Kelime Sayısı': 71}, 'Jelert': {'Positive': 17, 'Negative': 6, 'Neutral': 32, 'Toplam Kelime Sayısı': 54}, 'Doue': {'Positive': 11, 'Negative': 6, 'Neutral': 10, 'Toplam Kelime Sayısı': 26}, 'Wendel': {'Positive': 6, 'Negative': 4, 'Neutral': 14, 'Toplam Kelime Sayısı': 23}, 'Je': {'Positive': 3, 'Negative': 2, 'Neutral': 10, 'Toplam Kelime Sayısı': 14}, 'Jeler': {'Positive': 3, 'Negative': 0, 'Neutral': 7, 'Toplam Kelime Sayısı': 9}, 'Okan Buruk': {'Positive': 2, 'Negative': 0, 'Neutral': 7, 'Toplam Kelime Sayısı': 8}, 'İlkay': {'Positive': 1, 'Negative': 2, 'Neutral': 4, 'Toplam Kelime Sayısı': 6}, 'İlkay Gündoğan': {'Positive': 4, 'Negative': 0, 'Neutral': 3, 'Toplam Kelime Sayısı': 6}, 'Cenk Ergün': {'Positive': 6, 'Negative': 1, 'Neutral': 0, 'Toplam Kelime Sayısı': 6}, 'İbrahim Hatipoğlu': {'Positive': 1, 'Negative': 0, 'Neutral': 5, 'Toplam Kelime Sayısı': 5}, 'Wende': {'Positive': 1, 'Negative': 1, 'Neutral': 3, 'Toplam Kelime Sayısı': 4}, 'Haluk Yürekli': {'Positive': 0, 'Negative': 0, 'Neutral': 4, 'Toplam Kelime Sayısı': 3}, 'Nevzat Dindar': {'Positive': 0, 'Negative': 0, 'Neutral': 4, 'Toplam Kelime Sayısı': 3}, 'Süleyman Rodop': {'Positive': 0, 'Negative': 0, 'Neutral': 3, 'Toplam Kelime Sayısı': 2}, '##lert': {'Positive': 0, 'Negative': 1, 'Neutral': 2, 'Toplam Kelime Sayısı': 2}, 'Elias Jeler': {'Positive': 0, 'Negative': 0, 'Neutral': 2, 'Toplam Kelime Sayısı': 1}, 'Do': {'Positive': 1, 'Negative': 0, 'Neutral': 1, 'Toplam Kelime Sayısı': 1}, 'Icard': {'Positive': 0, 'Negative': 2, 'Neutral': 0, 'Toplam Kelime Sayısı': 1}, 'Ömer Saraç': {'Positive': 0, 'Negative': 0, 'Neutral': 2, 'Toplam Kelime Sayısı': 1}, 'Sacha Boey': {'Positive': 0, 'Negative': 2, 'Neutral': 0, 'Toplam Kelime Sayısı': 1}, 'Nel': {'Positive': 0, 'Negative': 0, 'Neutral': 2, 'Toplam Kelime Sayısı': 1}, 'Yağız Sabuncuoğlu': {'Positive': 0, 'Negative': 0, 'Neutral': 2, 'Toplam Kelime Sayısı': 1}, 'Nelsson': {'Positive': 2, 'Negative': 0, 'Neutral': 0, 'Toplam Kelime Sayısı': 1}, 'Doué': {'Positive': 2, 'Negative': 0, 'Neutral': 0, 'Toplam Kelime Sayısı': 1}, 'Okan Hoca': {'Positive': 1, 'Negative': 0, 'Neutral': 1, 'Toplam Kelime Sayısı': 1}, 'Ayvalık': {'Positive': 0, 'Negative': 0, 'Neutral': 2, 'Toplam Kelime Sayısı': 1}, 'Tosun Paşa Cucurella': {'Positive': 0, 'Negative': 0, 'Neutral': 2, 'Toplam Kelime Sayısı': 1}, 'Ramazan Hoca': {'Positive': 0, 'Negative': 0, 'Neutral': 2, 'Toplam Kelime Sayısı': 1}, 'Wendel Abdullah Zeydan': {'Positive': 0, 'Negative': 0, 'Neutral': 2, 'Toplam Kelime Sayısı': 1}, 'McTominay': {'Positive': 1, 'Negative': 0, 'Neutral': 1, 'Toplam Kelime Sayısı': 1}, 'K': {'Positive': 1, 'Negative': 1, 'Neutral': 0, 'Toplam Kelime Sayısı': 1}, 'Elias': {'Positive': 0, 'Negative': 1, 'Neutral': 1, 'Toplam Kelime Sayısı': 1}, 'Zen': {'Positive': 0, 'Negative': 0, 'Neutral': 1, 'Toplam Kelime Sayısı': 0}, 'Wendel Elias Jelert Talisca Doue': {'Positive': 0, 'Negative': 0, 'Neutral': 1, 'Toplam Kelime Sayısı': 0}, 'İbrahim Çelebi Se': {'Positive': 0, 'Negative': 0, 'Neutral': 1, 'Toplam Kelime Sayısı': 0}, 'Allah': {'Positive': 1, 'Negative': 0, 'Neutral': 0, 'Toplam Kelime Sayısı': 0}, 'Guela Doue Galatasaray': {'Positive': 0, 'Negative': 0, 'Neutral': 1, 'Toplam Kelime Sayısı': 0}, 'Pedro Malheiro': {'Positive': 0, 'Negative': 0, 'Neutral': 1, 'Toplam Kelime Sayısı': 0}, 'İssa Kabore': {'Positive': 0, 'Negative': 0, 'Neutral': 1, 'Toplam Kelime Sayısı': 0}, 'Ok Hocan': {'Positive': 0, 'Negative': 0, 'Neutral': 1, 'Toplam Kelime Sayısı': 0}, 'Boey': {'Positive': 0, 'Negative': 1, 'Neutral': 0, 'Toplam Kelime Sayısı': 0}, 'Barış Alper': {'Positive': 0, 'Negative': 0, 'Neutral': 1, 'Toplam Kelime Sayısı': 0}, 'M Guela Doue': {'Positive': 0, 'Negative': 0, 'Neutral': 1, 'Toplam Kelime Sayısı': 0}, 'Mustafa Sarıgül': {'Positive': 0, 'Negative': 1, 'Neutral': 0, 'Toplam Kelime Sayısı': 0}, 'Allan Saint': {'Positive': 0, 'Negative': 0, 'Neutral': 1, 'Toplam Kelime Sayısı': 0}, 'Yusuf Yiğit Stajyer Çırak Durmaya Hatalı Sorular Abdullah Zeydan Oğuz Aydın Tosun Paşa Milli Birlik Günü': {'Positive': 0, 'Negative': 0, 'Neutral': 1, 'Toplam Kelime Sayısı': 0}, 'Jelert Hurdacı': {'Positive': 0, 'Negative': 0, 'Neutral': 1, 'Toplam Kelime Sayısı': 0}, 'Serdar Aziz Doue': {'Positive': 0, 'Negative': 0, 'Neutral': 1, 'Toplam Kelime Sayısı': 0}, 'İlkay Jelert Erzincan': {'Positive': 0, 'Negative': 0, 'Neutral': 1, 'Toplam Kelime Sayısı': 0}, 'Bence Jelert': {'Positive': 0, 'Negative': 1, 'Neutral': 0, 'Toplam Kelime Sayısı': 0}, 'Guela Doue': {'Positive': 1, 'Negative': 0, 'Neutral': 0, 'Toplam Kelime Sayısı': 0}, 'İrfan Can Kahveci': {'Positive': 0, 'Negative': 0, 'Neutral': 1, 'Toplam Kelime Sayısı': 0}, 'Jelert Transfer': {'Positive': 0, 'Negative': 0, 'Neutral': 1, 'Toplam Kelime Sayısı': 0}, 'Kazımcan': {'Positive': 0, 'Negative': 0, 'Neutral': 1, 'Toplam Kelime Sayısı': 0}, 'Kaan Ayhan Barış': {'Positive': 0, 'Negative': 1, 'Neutral': 0, 'Toplam Kelime Sayısı': 0}, 'Ok': {'Positive': 1, 'Negative': 0, 'Neutral': 0, 'Toplam Kelime Sayısı': 0}, 'Haluk Yürekliue': {'Positive': 0, 'Negative': 0, 'Neutral': 1, 'Toplam Kelime Sayısı': 0}, 'Jelertue': {'Positive': 0, 'Negative': 0, 'Neutral': 1, 'Toplam Kelime Sayısı': 0}, 'Guela Doué': {'Positive': 0, 'Negative': 0, 'Neutral': 1, 'Toplam Kelime Sayısı': 0}, 'Çarşamba': {'Positive': 0, 'Negative': 0, 'Neutral': 1, 'Toplam Kelime Sayısı': 0}, 'Cenk Ergün Wendel': {'Positive': 0, 'Negative': 0, 'Neutral': 1, 'Toplam Kelime Sayısı': 0}, 'Hojbjerg': {'Positive': 0, 'Negative': 0, 'Neutral': 1, 'Toplam Kelime Sayısı': 0}, 'Guele Doue': {'Positive': 0, 'Negative': 0, 'Neutral': 1, 'Toplam Kelime Sayısı': 0}, 'Yakup Çınar': {'Positive': 0, 'Negative': 0, 'Neutral': 1, 'Toplam Kelime Sayısı': 0}, 'Kaan Ayhan': {'Positive': 0, 'Negative': 0, 'Neutral': 1, 'Toplam Kelime Sayısı': 0}, 'Elias Jelert Wendel İ': {'Positive': 0, 'Negative': 0, 'Neutral': 1, 'Toplam Kelime Sayısı': 0}, 'Suyun Öteki Tara': {'Positive': 0, 'Negative': 0, 'Neutral': 1, 'Toplam Kelime Sayısı': 0}, 'Oğuz Aydın Emre Kılınç Benzer Açıklamış Özent': {'Positive': 0, 'Negative': 0, 'Neutral': 1, 'Toplam Kelime Sayısı': 0}, 'Wan Bissaka Doue Elias Jelert': {'Positive': 1, 'Negative': 0, 'Neutral': 0, 'Toplam Kelime Sayısı': 0}, 'Angel': {'Positive': 1, 'Negative': 0, 'Neutral': 0, 'Toplam Kelime Sayısı': 0}, 'İlkay Gündogan': {'Positive': 0, 'Negative': 0, 'Neutral': 1, 'Toplam Kelime Sayısı': 0}, 'Rios': {'Positive': 1, 'Negative': 0, 'Neutral': 0, 'Toplam Kelime Sayısı': 0}, 'David Neres': {'Positive': 0, 'Negative': 1, 'Neutral': 0, 'Toplam Kelime Sayısı': 0}, 'ra Silva': {'Positive': 0, 'Negative': 0, 'Neutral': 1, 'Toplam Kelime Sayısı': 0}, 'Saint Maximin': {'Positive': 0, 'Negative': 0, 'Neutral': 1, 'Toplam Kelime Sayısı': 0}, 'Alanaya': {'Positive': 0, 'Negative': 0, 'Neutral': 1, 'Toplam Kelime Sayısı': 0}, 'Oğuz Aydın': {'Positive': 0, 'Negative': 0, 'Neutral': 1, 'Toplam Kelime Sayısı': 0}, 'Uğur Kara': {'Positive': 0, 'Negative': 0, 'Neutral': 1, 'Toplam Kelime Sayısı': 0}, 'Dur': {'Positive': 0, 'Negative': 0, 'Neutral': 1, 'Toplam Kelime Sayısı': 0}, 'Wendell': {'Positive': 0, 'Negative': 0, 'Neutral': 1, 'Toplam Kelime Sayısı': 0}, 'GS Tayfa': {'Positive': 0, 'Negative': 0, 'Neutral': 1, 'Toplam Kelime Sayısı': 0}, 'Wendel Jeler': {'Positive': 0, 'Negative': 0, 'Neutral': 1, 'Toplam Kelime Sayısı': 0}, 'G Doue': {'Positive': 0, 'Negative': 1, 'Neutral': 0, 'Toplam Kelime Sayısı': 0}, 'Bare': {'Positive': 0, 'Negative': 1, 'Neutral': 0, 'Toplam Kelime Sayısı': 0}, '##l': {'Positive': 1, 'Negative': 0, 'Neutral': 0, 'Toplam Kelime Sayısı': 0}, 'Wendell İlkay': {'Positive': 1, 'Negative': 0, 'Neutral': 0, 'Toplam Kelime Sayısı': 0}, 'Cenk Ergün Bey': {'Positive': 1, 'Negative': 0, 'Neutral': 0, 'Toplam Kelime Sayısı': 0}, 'Nelson': {'Positive': 1, 'Negative': 0, 'Neutral': 0, 'Toplam Kelime Sayısı': 0}, 'Mahmut Alpaslan': {'Positive': 0, 'Negative': 0, 'Neutral': 1, 'Toplam Kelime Sayısı': 0}, 'Cenk': {'Positive': 1, 'Negative': 0, 'Neutral': 0, 'Toplam Kelime Sayısı': 0}, 'Jelert X Wendel': {'Positive': 0, 'Negative': 0, 'Neutral': 1, 'Toplam Kelime Sayısı': 0}, 'Fanm Se Dyab': {'Positive': 0, 'Negative': 0, 'Neutral': 1, 'Toplam Kelime Sayısı': 0}, 'Eyvalla': {'Positive': 0, 'Negative': 0, 'Neutral': 1, 'Toplam Kelime Sayısı': 0}, 'Elias Jelert Analiz': {'Positive': 0, 'Negative': 0, 'Neutral': 1, 'Toplam Kelime Sayısı': 0}, 'Jelert Wendel İlkay': {'Positive': 1, 'Negative': 0, 'Neutral': 0, 'Toplam Kelime Sayısı': 0}, 'Marcus Wendel': {'Positive': 0, 'Negative': 0, 'Neutral': 1, 'Toplam Kelime Sayısı': 0}, 'Dale Don Dale': {'Positive': 0, 'Negative': 0, 'Neutral': 1, 'Toplam Kelime Sayısı': 0}, 'Cıstak Cıstak': {'Positive': 0, 'Negative': 0, 'Neutral': 1, 'Toplam Kelime Sayısı': 0}, 'Wendel Elias Jelert': {'Positive': 1, 'Negative': 0, 'Neutral': 0, 'Toplam Kelime Sayısı': 0}, 'Uğur Karakull': {'Positive': 0, 'Negative': 0, 'Neutral': 1, 'Toplam Kelime Sayısı': 0}, 'Özel Uçak': {'Positive': 0, 'Negative': 0, 'Neutral': 1, 'Toplam Kelime Sayısı': 0}, 'Ferdi': {'Positive': 1, 'Negative': 0, 'Neutral': 0, 'Toplam Kelime Sayısı': 0}, 'Ra': {'Positive': 1, 'Negative': 0, 'Neutral': 0, 'Toplam Kelime Sayısı': 0}, 'Kesici Bence': {'Positive': 1, 'Negative': 0, 'Neutral': 0, 'Toplam Kelime Sayısı': 0}, 'Sola': {'Positive': 1, 'Negative': 0, 'Neutral': 0, 'Toplam Kelime Sayısı': 0}, 'Zeki': {'Positive': 1, 'Negative': 0, 'Neutral': 0, 'Toplam Kelime Sayısı': 0}, 'Mazraoui': {'Positive': 1, 'Negative': 0, 'Neutral': 0, 'Toplam Kelime Sayısı': 0}, 'Martin Linnes': {'Positive': 1, 'Negative': 0, 'Neutral': 0, 'Toplam Kelime Sayısı': 0}, 'Derrick Köhn': {'Positive': 0, 'Negative': 1, 'Neutral': 0, 'Toplam Kelime Sayısı': 0}, 'As': {'Positive': 0, 'Negative': 1, 'Neutral': 0, 'Toplam Kelime Sayısı': 0}, 'Nicolo Zaniolo': {'Positive': 0, 'Negative': 0, 'Neutral': 1, 'Toplam Kelime Sayısı': 0}, 'Michy Batshuayi': {'Positive': 0, 'Negative': 0, 'Neutral': 1, 'Toplam Kelime Sayısı': 0}, 'Elias Jelert Kristensen': {'Positive': 0, 'Negative': 0, 'Neutral': 1, 'Toplam Kelime Sayısı': 0}, 'Kaan': {'Positive': 0, 'Negative': 0, 'Neutral': 1, 'Toplam Kelime Sayısı': 0}, 'Cuma Wendel': {'Positive': 0, 'Negative': 0, 'Neutral': 1, 'Toplam Kelime Sayısı': 0}, 'Hay': {'Positive': 0, 'Negative': 0, 'Neutral': 1, 'Toplam Kelime Sayısı': 0}, 'Richard Riosum': {'Positive': 1, 'Negative': 0, 'Neutral': 0, 'Toplam Kelime Sayısı': 0}, 'Eleman': {'Positive': 1, 'Negative': 0, 'Neutral': 0, 'Toplam Kelime Sayısı': 0}, 'Rodrigo Huescas': {'Positive': 0, 'Negative': 0, 'Neutral': 1, 'Toplam Kelime Sayısı': 0}, 'Elias Jelert Çarşamba': {'Positive': 0, 'Negative': 0, 'Neutral': 1, 'Toplam Kelime Sayısı': 0}, 'Nesyriemeyin': {'Positive': 0, 'Negative': 0, 'Neutral': 1, 'Toplam Kelime Sayısı': 0}, 'Mavi Süleyman Soylu': {'Positive': 0, 'Negative': 0, 'Neutral': 1, 'Toplam Kelime Sayısı': 0}, 'Abdullah Güler Allan Saint': {'Positive': 0, 'Negative': 0, 'Neutral': 1, 'Toplam Kelime Sayısı': 0}}\n"
          ]
        }
      ]
    },
    {
      "cell_type": "code",
      "source": [
        "sorted_dict4JelertOrg = dict(sorted(dict4JelertOrg.items(), key=lambda item: item[1][\"Toplam Kelime Sayısı\"],reverse=True))\n",
        "print(sorted_dict4JelertOrg)"
      ],
      "metadata": {
        "colab": {
          "base_uri": "https://localhost:8080/"
        },
        "id": "iLTGZ2nj2Xdw",
        "outputId": "e16ab5b4-763d-4190-d455-e5b8a6c33e78"
      },
      "execution_count": 93,
      "outputs": [
        {
          "output_type": "stream",
          "name": "stdout",
          "text": [
            "{'Galatasaray': {'Positive': 17, 'Negative': 2, 'Neutral': 50, 'Toplam Kelime Sayısı': 68}, 'Roma': {'Positive': 0, 'Negative': 0, 'Neutral': 4, 'Toplam Kelime Sayısı': 3}, 'Zenit': {'Positive': 0, 'Negative': 2, 'Neutral': 1, 'Toplam Kelime Sayısı': 2}, 'Kopenhag': {'Positive': 2, 'Negative': 0, 'Neutral': 0, 'Toplam Kelime Sayısı': 1}, 'Trabzonspor': {'Positive': 0, 'Negative': 0, 'Neutral': 1, 'Toplam Kelime Sayısı': 0}, 'Galatasaray Wendel': {'Positive': 0, 'Negative': 0, 'Neutral': 1, 'Toplam Kelime Sayısı': 0}, 'Galatasarayarte': {'Positive': 0, 'Negative': 0, 'Neutral': 1, 'Toplam Kelime Sayısı': 0}, 'Arap Coğrafyası': {'Positive': 0, 'Negative': 0, 'Neutral': 1, 'Toplam Kelime Sayısı': 0}, 'Galatasaraylert': {'Positive': 0, 'Negative': 0, 'Neutral': 1, 'Toplam Kelime Sayısı': 0}, 'City': {'Positive': 0, 'Negative': 0, 'Neutral': 1, 'Toplam Kelime Sayısı': 0}, 'Bayern': {'Positive': 0, 'Negative': 0, 'Neutral': 1, 'Toplam Kelime Sayısı': 0}, 'GS': {'Positive': 0, 'Negative': 0, 'Neutral': 1, 'Toplam Kelime Sayısı': 0}, 'Kopenha': {'Positive': 1, 'Negative': 0, 'Neutral': 0, 'Toplam Kelime Sayısı': 0}, 'Danimarka Ligi': {'Positive': 1, 'Negative': 0, 'Neutral': 0, 'Toplam Kelime Sayısı': 0}, 'Benfica': {'Positive': 0, 'Negative': 1, 'Neutral': 0, 'Toplam Kelime Sayısı': 0}, 'Intersport': {'Positive': 1, 'Negative': 0, 'Neutral': 0, 'Toplam Kelime Sayısı': 0}, 'A': {'Positive': 1, 'Negative': 0, 'Neutral': 0, 'Toplam Kelime Sayısı': 0}, 'OR': {'Positive': 1, 'Negative': 0, 'Neutral': 0, 'Toplam Kelime Sayısı': 0}, 'Roma Angelino': {'Positive': 0, 'Negative': 0, 'Neutral': 1, 'Toplam Kelime Sayısı': 0}, 'Galatasaray Boey': {'Positive': 1, 'Negative': 0, 'Neutral': 0, 'Toplam Kelime Sayısı': 0}, 'Besiktas': {'Positive': 0, 'Negative': 1, 'Neutral': 0, 'Toplam Kelime Sayısı': 0}, 'UEFA': {'Positive': 0, 'Negative': 0, 'Neutral': 1, 'Toplam Kelime Sayısı': 0}}\n"
          ]
        }
      ]
    },
    {
      "cell_type": "code",
      "source": [
        "sorted_dict4WendelPer = dict(sorted(dict4WendelPer.items(), key=lambda item: item[1][\"Toplam Kelime Sayısı\"],reverse=True))\n",
        "print(sorted_dict4WendelPer)"
      ],
      "metadata": {
        "colab": {
          "base_uri": "https://localhost:8080/"
        },
        "id": "MMCyF6M82XbH",
        "outputId": "5b268417-6328-4f26-bd38-999e61246be8"
      },
      "execution_count": 102,
      "outputs": [
        {
          "output_type": "stream",
          "name": "stdout",
          "text": [
            "{'Wendel': {'Positive': 33, 'Negative': 21, 'Neutral': 57, 'Toplam Kelime Sayısı': 110}, 'Wende': {'Positive': 9, 'Negative': 12, 'Neutral': 11, 'Toplam Kelime Sayısı': 31}, 'Cenk Ergün': {'Positive': 4, 'Negative': 1, 'Neutral': 7, 'Toplam Kelime Sayısı': 11}, 'İbrahim Hatipoğlu': {'Positive': 3, 'Negative': 0, 'Neutral': 7, 'Toplam Kelime Sayısı': 9}, 'Jelert': {'Positive': 2, 'Negative': 1, 'Neutral': 6, 'Toplam Kelime Sayısı': 8}, 'Haluk Yürekli': {'Positive': 0, 'Negative': 0, 'Neutral': 9, 'Toplam Kelime Sayısı': 8}, 'Nevzat Dindar': {'Positive': 0, 'Negative': 0, 'Neutral': 8, 'Toplam Kelime Sayısı': 7}, 'Elias Jelert': {'Positive': 2, 'Negative': 0, 'Neutral': 4, 'Toplam Kelime Sayısı': 5}, 'Zenit': {'Positive': 0, 'Negative': 4, 'Neutral': 2, 'Toplam Kelime Sayısı': 5}, 'McTominay': {'Positive': 2, 'Negative': 0, 'Neutral': 4, 'Toplam Kelime Sayısı': 5}, 'İlkay Gündoğan': {'Positive': 1, 'Negative': 1, 'Neutral': 3, 'Toplam Kelime Sayısı': 4}, 'Claudinho': {'Positive': 2, 'Negative': 0, 'Neutral': 3, 'Toplam Kelime Sayısı': 4}, 'Zen': {'Positive': 0, 'Negative': 2, 'Neutral': 2, 'Toplam Kelime Sayısı': 3}, 'İlkay': {'Positive': 0, 'Negative': 0, 'Neutral': 4, 'Toplam Kelime Sayısı': 3}, 'Zenit Wendel': {'Positive': 0, 'Negative': 0, 'Neutral': 3, 'Toplam Kelime Sayısı': 2}, 'Kutlu Akpınar': {'Positive': 0, 'Negative': 0, 'Neutral': 3, 'Toplam Kelime Sayısı': 2}, 'Barış Alper Yılmaz': {'Positive': 1, 'Negative': 0, 'Neutral': 2, 'Toplam Kelime Sayısı': 2}, 'Doue': {'Positive': 1, 'Negative': 0, 'Neutral': 2, 'Toplam Kelime Sayısı': 2}, 'Talisca Ziyech': {'Positive': 0, 'Negative': 2, 'Neutral': 0, 'Toplam Kelime Sayısı': 1}, 'Okan': {'Positive': 2, 'Negative': 0, 'Neutral': 0, 'Toplam Kelime Sayısı': 1}, 'Talisca': {'Positive': 0, 'Negative': 0, 'Neutral': 2, 'Toplam Kelime Sayısı': 1}, 'Tete': {'Positive': 0, 'Negative': 0, 'Neutral': 2, 'Toplam Kelime Sayısı': 1}, 'Mustafa Sarıgül': {'Positive': 0, 'Negative': 1, 'Neutral': 1, 'Toplam Kelime Sayısı': 1}, 'Gedson': {'Positive': 0, 'Negative': 1, 'Neutral': 1, 'Toplam Kelime Sayısı': 1}, 'Ivan Ilic': {'Positive': 0, 'Negative': 1, 'Neutral': 1, 'Toplam Kelime Sayısı': 1}, 'Marcus Wendel': {'Positive': 1, 'Negative': 0, 'Neutral': 1, 'Toplam Kelime Sayısı': 1}, 'Alexander Medvedev': {'Positive': 0, 'Negative': 0, 'Neutral': 2, 'Toplam Kelime Sayısı': 1}, 'Kerem Demirbay': {'Positive': 0, 'Negative': 0, 'Neutral': 2, 'Toplam Kelime Sayısı': 1}, 'Patron': {'Positive': 0, 'Negative': 2, 'Neutral': 0, 'Toplam Kelime Sayısı': 1}, 'Je': {'Positive': 0, 'Negative': 0, 'Neutral': 2, 'Toplam Kelime Sayısı': 1}, 'Cenk Ergün Wendel': {'Positive': 1, 'Negative': 0, 'Neutral': 1, 'Toplam Kelime Sayısı': 1}, 'Hojbjerg': {'Positive': 0, 'Negative': 0, 'Neutral': 2, 'Toplam Kelime Sayısı': 1}, 'Wendele Girdiaka Değil Gerçek': {'Positive': 0, 'Negative': 1, 'Neutral': 0, 'Toplam Kelime Sayısı': 0}, 'Wendel Gelmeye': {'Positive': 0, 'Negative': 1, 'Neutral': 0, 'Toplam Kelime Sayısı': 0}, 'Ali Baransel': {'Positive': 0, 'Negative': 0, 'Neutral': 1, 'Toplam Kelime Sayısı': 0}, 'İlic': {'Positive': 1, 'Negative': 0, 'Neutral': 0, 'Toplam Kelime Sayısı': 0}, 'Aniden Wendel': {'Positive': 0, 'Negative': 1, 'Neutral': 0, 'Toplam Kelime Sayısı': 0}, 'Arda Özkurt': {'Positive': 0, 'Negative': 0, 'Neutral': 1, 'Toplam Kelime Sayısı': 0}, 'Fred': {'Positive': 0, 'Negative': 1, 'Neutral': 0, 'Toplam Kelime Sayısı': 0}, 'Gore': {'Positive': 0, 'Negative': 0, 'Neutral': 1, 'Toplam Kelime Sayısı': 0}, 'Wendelue': {'Positive': 0, 'Negative': 0, 'Neutral': 1, 'Toplam Kelime Sayısı': 0}, 'Wendel Elias Jelert Talisca Doue': {'Positive': 0, 'Negative': 0, 'Neutral': 1, 'Toplam Kelime Sayısı': 0}, 'Ziyech Wendel': {'Positive': 0, 'Negative': 0, 'Neutral': 1, 'Toplam Kelime Sayısı': 0}, 'Kr': {'Positive': 0, 'Negative': 0, 'Neutral': 1, 'Toplam Kelime Sayısı': 0}, 'Kişisel Tunçbile': {'Positive': 0, 'Negative': 0, 'Neutral': 1, 'Toplam Kelime Sayısı': 0}, 'Eyüp Yıldız': {'Positive': 0, 'Negative': 0, 'Neutral': 1, 'Toplam Kelime Sayısı': 0}, 'İbrahim': {'Positive': 1, 'Negative': 0, 'Neutral': 0, 'Toplam Kelime Sayısı': 0}, 'Ziyech': {'Positive': 0, 'Negative': 0, 'Neutral': 1, 'Toplam Kelime Sayısı': 0}, 'Özbek': {'Positive': 0, 'Negative': 0, 'Neutral': 1, 'Toplam Kelime Sayısı': 0}, 'Claud': {'Positive': 0, 'Negative': 0, 'Neutral': 1, 'Toplam Kelime Sayısı': 0}, 'Dursun Özbek': {'Positive': 0, 'Negative': 0, 'Neutral': 1, 'Toplam Kelime Sayısı': 0}, 'George Gardi Point Hotel': {'Positive': 0, 'Negative': 0, 'Neutral': 1, 'Toplam Kelime Sayısı': 0}, 'Gedson Zenit': {'Positive': 0, 'Negative': 1, 'Neutral': 0, 'Toplam Kelime Sayısı': 0}, 'Cenk Tosun': {'Positive': 0, 'Negative': 0, 'Neutral': 1, 'Toplam Kelime Sayısı': 0}, 'Hasan Arat Ali Koç': {'Positive': 0, 'Negative': 0, 'Neutral': 1, 'Toplam Kelime Sayısı': 0}, 'Her': {'Positive': 0, 'Negative': 0, 'Neutral': 1, 'Toplam Kelime Sayısı': 0}, 'Wendel Comparisona Yapay Zeka Destekli Sanal': {'Positive': 0, 'Negative': 0, 'Neutral': 1, 'Toplam Kelime Sayısı': 0}, 'Zajc': {'Positive': 0, 'Negative': 1, 'Neutral': 0, 'Toplam Kelime Sayısı': 0}, 'Krunic': {'Positive': 0, 'Negative': 1, 'Neutral': 0, 'Toplam Kelime Sayısı': 0}, 'Tiago Ribeiro': {'Positive': 0, 'Negative': 0, 'Neutral': 1, 'Toplam Kelime Sayısı': 0}, 'Okan Buruk': {'Positive': 0, 'Negative': 0, 'Neutral': 1, 'Toplam Kelime Sayısı': 0}, 'Kağan Dursun': {'Positive': 0, 'Negative': 0, 'Neutral': 1, 'Toplam Kelime Sayısı': 0}, 'Deniz Baykal Wendel': {'Positive': 0, 'Negative': 0, 'Neutral': 1, 'Toplam Kelime Sayısı': 0}, 'Torreira': {'Positive': 0, 'Negative': 0, 'Neutral': 1, 'Toplam Kelime Sayısı': 0}, 'Fatih Demireli': {'Positive': 1, 'Negative': 0, 'Neutral': 0, 'Toplam Kelime Sayısı': 0}, 'Fatih Ağabey': {'Positive': 1, 'Negative': 0, 'Neutral': 0, 'Toplam Kelime Sayısı': 0}, 'M Guela Doue': {'Positive': 0, 'Negative': 0, 'Neutral': 1, 'Toplam Kelime Sayısı': 0}, 'İ': {'Positive': 0, 'Negative': 0, 'Neutral': 1, 'Toplam Kelime Sayısı': 0}, 'Wendel Zenit': {'Positive': 0, 'Negative': 0, 'Neutral': 1, 'Toplam Kelime Sayısı': 0}, 'Emir İslam': {'Positive': 0, 'Negative': 0, 'Neutral': 1, 'Toplam Kelime Sayısı': 0}, 'Zeniti': {'Positive': 0, 'Negative': 1, 'Neutral': 0, 'Toplam Kelime Sayısı': 0}, 'Luccas Claro': {'Positive': 0, 'Negative': 0, 'Neutral': 1, 'Toplam Kelime Sayısı': 0}, 'Mustafa Sarıgül Koruması Wendel': {'Positive': 0, 'Negative': 1, 'Neutral': 0, 'Toplam Kelime Sayısı': 0}, 'Barış Alper': {'Positive': 0, 'Negative': 0, 'Neutral': 1, 'Toplam Kelime Sayısı': 0}, 'Demirba': {'Positive': 0, 'Negative': 0, 'Neutral': 1, 'Toplam Kelime Sayısı': 0}, '##y': {'Positive': 0, 'Negative': 0, 'Neutral': 1, 'Toplam Kelime Sayısı': 0}, 'S': {'Positive': 0, 'Negative': 0, 'Neutral': 1, 'Toplam Kelime Sayısı': 0}, '##zym': {'Positive': 0, 'Negative': 0, 'Neutral': 1, 'Toplam Kelime Sayısı': 0}, '##anski': {'Positive': 0, 'Negative': 0, 'Neutral': 1, 'Toplam Kelime Sayısı': 0}, 'Bize Hojbjerg': {'Positive': 0, 'Negative': 0, 'Neutral': 1, 'Toplam Kelime Sayısı': 0}, 'Sang': {'Positive': 0, 'Negative': 0, 'Neutral': 1, 'Toplam Kelime Sayısı': 0}, '##are': {'Positive': 0, 'Negative': 0, 'Neutral': 1, 'Toplam Kelime Sayısı': 0}, 'Berg': {'Positive': 0, 'Negative': 0, 'Neutral': 1, 'Toplam Kelime Sayısı': 0}, 'Allan Saint': {'Positive': 0, 'Negative': 0, 'Neutral': 1, 'Toplam Kelime Sayısı': 0}, 'G Saray': {'Positive': 1, 'Negative': 0, 'Neutral': 0, 'Toplam Kelime Sayısı': 0}, 'Orhan Yılmaz': {'Positive': 0, 'Negative': 0, 'Neutral': 1, 'Toplam Kelime Sayısı': 0}, 'Wendel Hosgeldin': {'Positive': 1, 'Negative': 0, 'Neutral': 0, 'Toplam Kelime Sayısı': 0}, 'Wendel Veya': {'Positive': 0, 'Negative': 0, 'Neutral': 1, 'Toplam Kelime Sayısı': 0}, 'Orhan': {'Positive': 0, 'Negative': 0, 'Neutral': 1, 'Toplam Kelime Sayısı': 0}, 'Doue Wendel Montiel McTominay Trai Hume Rabiot Mazraoui İlkay Elias Jelert Höjbjerg Zeki Çelik Yusuf Yazıcı Ebosele Okay Y . Dedic': {'Positive': 0, 'Negative': 0, 'Neutral': 1, 'Toplam Kelime Sayısı': 0}, 'Guido R . Ruben Neves Ugochukwu De Paul': {'Positive': 0, 'Negative': 0, 'Neutral': 1, 'Toplam Kelime Sayısı': 0}, 'Dale Don Dale': {'Positive': 0, 'Negative': 0, 'Neutral': 1, 'Toplam Kelime Sayısı': 0}, 'Guela Doue': {'Positive': 1, 'Negative': 0, 'Neutral': 0, 'Toplam Kelime Sayısı': 0}, 'İrfan Can Kahveci': {'Positive': 0, 'Negative': 0, 'Neutral': 1, 'Toplam Kelime Sayısı': 0}, 'Jelert Transfer': {'Positive': 0, 'Negative': 0, 'Neutral': 1, 'Toplam Kelime Sayısı': 0}, 'Jelar Kritik Görüşmeler Kritik Saatler Başlıyoruz': {'Positive': 0, 'Negative': 1, 'Neutral': 0, 'Toplam Kelime Sayısı': 0}, 'Haluk Y': {'Positive': 0, 'Negative': 0, 'Neutral': 1, 'Toplam Kelime Sayısı': 0}, 'Ayvalık': {'Positive': 0, 'Negative': 0, 'Neutral': 1, 'Toplam Kelime Sayısı': 0}, 'Çarşamba': {'Positive': 0, 'Negative': 0, 'Neutral': 1, 'Toplam Kelime Sayısı': 0}, 'Tosun Paşa Cucurella': {'Positive': 0, 'Negative': 0, 'Neutral': 1, 'Toplam Kelime Sayısı': 0}, 'Ramazan Hoca': {'Positive': 0, 'Negative': 0, 'Neutral': 1, 'Toplam Kelime Sayısı': 0}, 'Wendel Abdullah Zeydan': {'Positive': 0, 'Negative': 0, 'Neutral': 1, 'Toplam Kelime Sayısı': 0}, 'Elias Jelert Wendel İ': {'Positive': 0, 'Negative': 0, 'Neutral': 1, 'Toplam Kelime Sayısı': 0}, 'Suyun Öteki Tara': {'Positive': 0, 'Negative': 0, 'Neutral': 1, 'Toplam Kelime Sayısı': 0}, 'Oğuz Aydın Emre Kılınç Benzer Açıklamış Özent': {'Positive': 0, 'Negative': 0, 'Neutral': 1, 'Toplam Kelime Sayısı': 0}, 'Jeler': {'Positive': 0, 'Negative': 0, 'Neutral': 1, 'Toplam Kelime Sayısı': 0}, 'Wendel Gs': {'Positive': 0, 'Negative': 0, 'Neutral': 1, 'Toplam Kelime Sayısı': 0}, 'Suat Umurhan': {'Positive': 0, 'Negative': 0, 'Neutral': 1, 'Toplam Kelime Sayısı': 0}, 'Yanli': {'Positive': 0, 'Negative': 1, 'Neutral': 0, 'Toplam Kelime Sayısı': 0}, 'İlkay Gündogan': {'Positive': 0, 'Negative': 0, 'Neutral': 1, 'Toplam Kelime Sayısı': 0}, 'Rios': {'Positive': 1, 'Negative': 0, 'Neutral': 0, 'Toplam Kelime Sayısı': 0}, 'David Neres': {'Positive': 0, 'Negative': 1, 'Neutral': 0, 'Toplam Kelime Sayısı': 0}, 'ra Silva': {'Positive': 0, 'Negative': 0, 'Neutral': 1, 'Toplam Kelime Sayısı': 0}, 'Saint Maximin': {'Positive': 0, 'Negative': 0, 'Neutral': 1, 'Toplam Kelime Sayısı': 0}, 'Alanaya': {'Positive': 0, 'Negative': 0, 'Neutral': 1, 'Toplam Kelime Sayısı': 0}, 'Oğuz Aydın': {'Positive': 0, 'Negative': 0, 'Neutral': 1, 'Toplam Kelime Sayısı': 0}, 'Baykam': {'Positive': 0, 'Negative': 0, 'Neutral': 1, 'Toplam Kelime Sayısı': 0}, 'Nutuk': {'Positive': 1, 'Negative': 0, 'Neutral': 0, 'Toplam Kelime Sayısı': 0}, 'Dur': {'Positive': 0, 'Negative': 0, 'Neutral': 1, 'Toplam Kelime Sayısı': 0}, 'George Gardi': {'Positive': 1, 'Negative': 0, 'Neutral': 0, 'Toplam Kelime Sayısı': 0}}\n"
          ]
        }
      ]
    },
    {
      "cell_type": "code",
      "source": [
        "sorted_dict4WendelOrg = dict(sorted(dict4WendelOrg.items(), key=lambda item: item[1][\"Toplam Kelime Sayısı\"],reverse=True))\n",
        "print(sorted_dict4WendelOrg)"
      ],
      "metadata": {
        "colab": {
          "base_uri": "https://localhost:8080/"
        },
        "id": "YffF78-i2XYd",
        "outputId": "1b8d76e1-f31e-4eeb-fde8-7855385007ef"
      },
      "execution_count": 103,
      "outputs": [
        {
          "output_type": "stream",
          "name": "stdout",
          "text": [
            "{'Galatasaray': {'Positive': 13, 'Negative': 9, 'Neutral': 56, 'Toplam Kelime Sayısı': 77}, 'Zenit': {'Positive': 2, 'Negative': 12, 'Neutral': 25, 'Toplam Kelime Sayısı': 38}, 'Zen': {'Positive': 0, 'Negative': 0, 'Neutral': 6, 'Toplam Kelime Sayısı': 5}, 'Fenerbahçe': {'Positive': 0, 'Negative': 1, 'Neutral': 2, 'Toplam Kelime Sayısı': 2}, 'Beşiktaş': {'Positive': 0, 'Negative': 1, 'Neutral': 2, 'Toplam Kelime Sayısı': 2}, 'Galatasaray Wendel': {'Positive': 0, 'Negative': 0, 'Neutral': 3, 'Toplam Kelime Sayısı': 2}, 'Galatasarayl': {'Positive': 0, 'Negative': 0, 'Neutral': 3, 'Toplam Kelime Sayısı': 2}, 'Flamengo': {'Positive': 0, 'Negative': 0, 'Neutral': 3, 'Toplam Kelime Sayısı': 2}, 'West Ham': {'Positive': 0, 'Negative': 0, 'Neutral': 2, 'Toplam Kelime Sayısı': 1}, 'Arsenal': {'Positive': 0, 'Negative': 0, 'Neutral': 2, 'Toplam Kelime Sayısı': 1}, 'Barcelona': {'Positive': 0, 'Negative': 0, 'Neutral': 2, 'Toplam Kelime Sayısı': 1}, 'Uefa': {'Positive': 0, 'Negative': 1, 'Neutral': 0, 'Toplam Kelime Sayısı': 0}, 'Fenerbahçel': {'Positive': 1, 'Negative': 0, 'Neutral': 0, 'Toplam Kelime Sayısı': 0}, 'Brezilya Milli Takımı Dünya Kupası': {'Positive': 0, 'Negative': 1, 'Neutral': 0, 'Toplam Kelime Sayısı': 0}, 'Bayern Munich': {'Positive': 0, 'Negative': 1, 'Neutral': 0, 'Toplam Kelime Sayısı': 0}, 'Galatasaray Transfer Gündeminde Olduğu': {'Positive': 0, 'Negative': 0, 'Neutral': 1, 'Toplam Kelime Sayısı': 0}, 'Zenit Spor': {'Positive': 1, 'Negative': 0, 'Neutral': 0, 'Toplam Kelime Sayısı': 0}, 'Zenitspor': {'Positive': 1, 'Negative': 0, 'Neutral': 0, 'Toplam Kelime Sayısı': 0}, 'Eyüpspor': {'Positive': 0, 'Negative': 0, 'Neutral': 1, 'Toplam Kelime Sayısı': 0}, 'PKK': {'Positive': 0, 'Negative': 1, 'Neutral': 0, 'Toplam Kelime Sayısı': 0}, 'Koruma Gavat Videoyu': {'Positive': 0, 'Negative': 1, 'Neutral': 0, 'Toplam Kelime Sayısı': 0}, 'Marca': {'Positive': 0, 'Negative': 0, 'Neutral': 1, 'Toplam Kelime Sayısı': 0}, 'we': {'Positive': 0, 'Negative': 0, 'Neutral': 1, 'Toplam Kelime Sayısı': 0}, 'Arap Coğrafyası': {'Positive': 0, 'Negative': 0, 'Neutral': 1, 'Toplam Kelime Sayısı': 0}, 'Socar': {'Positive': 0, 'Negative': 0, 'Neutral': 1, 'Toplam Kelime Sayısı': 0}, 'Gazprom Derin GS': {'Positive': 0, 'Negative': 0, 'Neutral': 1, 'Toplam Kelime Sayısı': 0}, 'Badem': {'Positive': 0, 'Negative': 0, 'Neutral': 1, 'Toplam Kelime Sayısı': 0}, 'Benfica': {'Positive': 0, 'Negative': 1, 'Neutral': 0, 'Toplam Kelime Sayısı': 0}}\n"
          ]
        }
      ]
    },
    {
      "cell_type": "code",
      "source": [
        "import matplotlib.pyplot as plt\n",
        "import numpy as np\n",
        "\n",
        "def plot_sentiment_distribution(data, top_n=10):\n",
        "    \"\"\"\n",
        "    Verilen dictionary'deki en üst n anahtar için sıfat dağılımının grafiğini çizer.\n",
        "\n",
        "    :param data: Dictionary, keylerin sıfat dağılımını içerir.\n",
        "    :param top_n: Gösterilecek en üst n anahtar.\n",
        "    \"\"\"\n",
        "    # Anahtarları ve sıfat sayılarını ayrı listelere ayır\n",
        "    sorted_keys = sorted(data, key=lambda x: data[x]['Toplam Kelime Sayısı'], reverse=True)[:top_n]\n",
        "\n",
        "    names = sorted_keys\n",
        "    positive_counts = [data[name]['Positive'] for name in names]\n",
        "    negative_counts = [data[name]['Negative'] for name in names]\n",
        "    neutral_counts = [data[name]['Neutral'] for name in names]\n",
        "\n",
        "    # Bar grafiği oluşturma\n",
        "    x = np.arange(len(names))  # Anahtarlar için x ekseni konumları\n",
        "    bar_width = 0.25  # Bar genişliği\n",
        "\n",
        "    fig, ax = plt.subplots(figsize=(12, 8))\n",
        "\n",
        "    # Pozitif, Negatif ve Nötr sayılar için barlar oluşturma\n",
        "    bars1 = ax.bar(x - bar_width, positive_counts, bar_width, label='Positive', color='g')\n",
        "    bars2 = ax.bar(x, negative_counts, bar_width, label='Negative', color='r')\n",
        "    bars3 = ax.bar(x + bar_width, neutral_counts, bar_width, label='Neutral', color='b')\n",
        "\n",
        "    # Grafik etiketlerini ayarlama\n",
        "    ax.set_xlabel('Names')\n",
        "    ax.set_ylabel('Counts')\n",
        "    ax.set_title('Sentiment Distribution by Key')\n",
        "    ax.set_xticks(x)\n",
        "    ax.set_xticklabels(names, rotation=45, ha=\"right\")\n",
        "    ax.legend()\n",
        "\n",
        "    # Barların üzerinde sayıları gösterme\n",
        "    def add_labels(bars):\n",
        "        for bar in bars:\n",
        "            height = bar.get_height()\n",
        "            ax.annotate('{}'.format(height),\n",
        "                        xy=(bar.get_x() + bar.get_width() / 2, height),\n",
        "                        xytext=(0, 3),  # 3 points vertical offset\n",
        "                        textcoords=\"offset points\",\n",
        "                        ha='center', va='bottom')\n",
        "\n",
        "    add_labels(bars1)\n",
        "    add_labels(bars2)\n",
        "    add_labels(bars3)\n",
        "\n",
        "    # Grafiği gösterme\n",
        "    plt.tight_layout()\n",
        "    plt.show()\n",
        "\n"
      ],
      "metadata": {
        "id": "_CbxrYHk2XV9"
      },
      "execution_count": 108,
      "outputs": []
    },
    {
      "cell_type": "code",
      "source": [
        "plot_sentiment_distribution(sorted_dict4JelertPer)"
      ],
      "metadata": {
        "colab": {
          "base_uri": "https://localhost:8080/",
          "height": 807
        },
        "id": "1up_STA32XRp",
        "outputId": "80b9e991-52c1-46b6-aac1-ff9016719333"
      },
      "execution_count": 110,
      "outputs": [
        {
          "output_type": "display_data",
          "data": {
            "text/plain": [
              "<Figure size 1200x800 with 1 Axes>"
            ],
            "image/png": "[encoded data removed]"
          },
          "metadata": {}
        }
      ]
    },
    {
      "cell_type": "code",
      "source": [
        "plot_sentiment_distribution(sorted_dict4WendelPer)"
      ],
      "metadata": {
        "colab": {
          "base_uri": "https://localhost:8080/",
          "height": 807
        },
        "id": "RbPrB3442XLb",
        "outputId": "c4bf74a0-b576-4a7e-bc74-f5616661a7b7"
      },
      "execution_count": 111,
      "outputs": [
        {
          "output_type": "display_data",
          "data": {
            "text/plain": [
              "<Figure size 1200x800 with 1 Axes>"
            ],
            "image/png": "[encoded data removed]"
          },
          "metadata": {}
        }
      ]
    },
    {
      "cell_type": "code",
      "source": [
        "plot_sentiment_distribution(sorted_dict4WendelOrg)"
      ],
      "metadata": {
        "colab": {
          "base_uri": "https://localhost:8080/",
          "height": 807
        },
        "id": "8cKGnmoPA5en",
        "outputId": "dcb6c4fc-e8eb-44d8-8a27-bf0fd4c62abe"
      },
      "execution_count": 112,
      "outputs": [
        {
          "output_type": "display_data",
          "data": {
            "text/plain": [
              "<Figure size 1200x800 with 1 Axes>"
            ],
            "image/png": "[encoded data removed]"
          },
          "metadata": {}
        }
      ]
    },
    {
      "cell_type": "code",
      "source": [
        "getPropn=lambda row : [x for x in row if x[\"entity\"]==\"PROPN\"]"
      ],
      "metadata": {
        "id": "8uNjq3Hfpyrg"
      },
      "execution_count": 45,
      "outputs": []
    },
    {
      "cell_type": "code",
      "source": [
        "jelertPropn=jelert[\"pos\"].apply(getPropn)\n",
        "jelertPropn"
      ],
      "metadata": {
        "colab": {
          "base_uri": "https://localhost:8080/"
        },
        "id": "Ntiuw6ndqlDx",
        "outputId": "f2e76c95-5665-456a-d84b-ec521d50b92a"
      },
      "execution_count": 39,
      "outputs": [
        {
          "output_type": "execute_result",
          "data": {
            "text/plain": [
              "0      [{'entity': 'PROPN', 'score': 0.9517207, 'inde...\n",
              "1      [{'entity': 'PROPN', 'score': 0.9978752, 'inde...\n",
              "2      [{'entity': 'PROPN', 'score': 0.9958253, 'inde...\n",
              "3      [{'entity': 'PROPN', 'score': 0.998939, 'index...\n",
              "4      [{'entity': 'PROPN', 'score': 0.9984681, 'inde...\n",
              "                             ...                        \n",
              "185    [{'entity': 'PROPN', 'score': 0.99881685, 'ind...\n",
              "186    [{'entity': 'PROPN', 'score': 0.9989009, 'inde...\n",
              "187    [{'entity': 'PROPN', 'score': 0.9989009, 'inde...\n",
              "188    [{'entity': 'PROPN', 'score': 0.99900645, 'ind...\n",
              "189    [{'entity': 'PROPN', 'score': 0.9989064, 'inde...\n",
              "Name: pos, Length: 190, dtype: object"
            ]
          },
          "metadata": {},
          "execution_count": 39
        }
      ]
    },
    {
      "cell_type": "code",
      "source": [
        "wendelPropn=wendel[\"pos\"].apply(getPropn)\n",
        "wendelPropn"
      ],
      "metadata": {
        "colab": {
          "base_uri": "https://localhost:8080/"
        },
        "id": "DQ6TX54RrWJt",
        "outputId": "2e311779-9d41-447a-9c99-25d9b31c7fd2"
      },
      "execution_count": 40,
      "outputs": [
        {
          "output_type": "execute_result",
          "data": {
            "text/plain": [
              "0      [{'entity': 'PROPN', 'score': 0.9989961, 'inde...\n",
              "1                                                     []\n",
              "2      [{'entity': 'PROPN', 'score': 0.9988933, 'inde...\n",
              "3      [{'entity': 'PROPN', 'score': 0.99847966, 'ind...\n",
              "4      [{'entity': 'PROPN', 'score': 0.998728, 'index...\n",
              "                             ...                        \n",
              "178    [{'entity': 'PROPN', 'score': 0.99827266, 'ind...\n",
              "179    [{'entity': 'PROPN', 'score': 0.9930588, 'inde...\n",
              "180    [{'entity': 'PROPN', 'score': 0.99849176, 'ind...\n",
              "181    [{'entity': 'PROPN', 'score': 0.9985598, 'inde...\n",
              "182    [{'entity': 'PROPN', 'score': 0.998889, 'index...\n",
              "Name: pos, Length: 183, dtype: object"
            ]
          },
          "metadata": {},
          "execution_count": 40
        }
      ]
    },
    {
      "cell_type": "code",
      "source": [
        "evaluationsJelert4PerWithPos=[]\n",
        "\n",
        "for index,listOfPropn in enumerate(jelertPropn):\n",
        "  for aspect in [x[\"word\"] for x in listOfPropn]:\n",
        "    evaluation=classifier(jelert[\"Tweet_en\"][index],  text_pair=aspect)\n",
        "    evaluationsJelert4PerWithPos.append((aspect,evaluation[0][\"label\"]))"
      ],
      "metadata": {
        "id": "NpheNCwksLoA"
      },
      "execution_count": 113,
      "outputs": []
    },
    {
      "cell_type": "code",
      "source": [
        "evaluationsWendel4PerWithPos=[]\n",
        "\n",
        "for index,listOfPropn in enumerate(wendelPropn):\n",
        "  for aspect in [x[\"word\"] for x in listOfPropn]:\n",
        "    evaluation=classifier(wendel[\"Tweet_en\"][index],  text_pair=aspect)\n",
        "    evaluationsWendel4PerWithPos.append((aspect,evaluation[0][\"label\"]))"
      ],
      "metadata": {
        "id": "cd84MH4iB0RY"
      },
      "execution_count": 114,
      "outputs": []
    },
    {
      "cell_type": "code",
      "source": [
        "dict4JelertPerWithPos={}\n",
        "for key,value in evaluationsJelert4PerWithPos:\n",
        "  if key not in dict4JelertPerWithPos:\n",
        "    dict4JelertPerWithPos[key]={}\n",
        "    dict4JelertPerWithPos[key][\"Positive\"]=0\n",
        "    dict4JelertPerWithPos[key][\"Negative\"]=0\n",
        "    dict4JelertPerWithPos[key][\"Neutral\"]=0\n",
        "    dict4JelertPerWithPos[key][\"Toplam Kelime Sayısı\"]=0\n",
        "    dict4JelertPerWithPos[key][value]+=1\n",
        "  else:\n",
        "    dict4JelertPerWithPos[key][value]+=1\n",
        "    dict4JelertPerWithPos[key][\"Toplam Kelime Sayısı\"]+=1\n"
      ],
      "metadata": {
        "id": "7V6tG6lnsziS"
      },
      "execution_count": 115,
      "outputs": []
    },
    {
      "cell_type": "code",
      "source": [
        "dict4WendelPerWithPos={}\n",
        "for key,value in evaluationsWendel4PerWithPos:\n",
        "  if key not in dict4WendelPerWithPos:\n",
        "    dict4WendelPerWithPos[key]={}\n",
        "    dict4WendelPerWithPos[key][\"Positive\"]=0\n",
        "    dict4WendelPerWithPos[key][\"Negative\"]=0\n",
        "    dict4WendelPerWithPos[key][\"Neutral\"]=0\n",
        "    dict4WendelPerWithPos[key][\"Toplam Kelime Sayısı\"]=0\n",
        "    dict4WendelPerWithPos[key][value]+=1\n",
        "  else:\n",
        "    dict4WendelPerWithPos[key][value]+=1\n",
        "    dict4WendelPerWithPos[key][\"Toplam Kelime Sayısı\"]+=1\n"
      ],
      "metadata": {
        "id": "jV0C7fauGSVL"
      },
      "execution_count": 116,
      "outputs": []
    },
    {
      "cell_type": "code",
      "source": [
        "sorted_dict4WendelPerWithPos = dict(sorted(dict4WendelPerWithPos.items(), key=lambda item: item[1][\"Toplam Kelime Sayısı\"],reverse=True))\n",
        "print(sorted_dict4WendelPerWithPos)"
      ],
      "metadata": {
        "colab": {
          "base_uri": "https://localhost:8080/"
        },
        "id": "x2zfrl6jGYlS",
        "outputId": "7fbae52a-998d-456b-f622-23b88b62e409"
      },
      "execution_count": 117,
      "outputs": [
        {
          "output_type": "stream",
          "name": "stdout",
          "text": [
            "{'wendel': {'Positive': 61, 'Negative': 45, 'Neutral': 109, 'Toplam Kelime Sayısı': 214}, 'galatas': {'Positive': 7, 'Negative': 5, 'Neutral': 87, 'Toplam Kelime Sayısı': 98}, 'zenit': {'Positive': 4, 'Negative': 20, 'Neutral': 54, 'Toplam Kelime Sayısı': 77}, 'jeler': {'Positive': 1, 'Negative': 3, 'Neutral': 15, 'Toplam Kelime Sayısı': 18}, 'cenk': {'Positive': 2, 'Negative': 1, 'Neutral': 12, 'Toplam Kelime Sayısı': 14}, 'russia': {'Positive': 0, 'Negative': 3, 'Neutral': 11, 'Toplam Kelime Sayısı': 13}, 'ergun': {'Positive': 1, 'Negative': 1, 'Neutral': 12, 'Toplam Kelime Sayısı': 13}, 'ilka': {'Positive': 1, 'Negative': 2, 'Neutral': 9, 'Toplam Kelime Sayısı': 11}, 'doue': {'Positive': 0, 'Negative': 1, 'Neutral': 10, 'Toplam Kelime Sayısı': 10}, 'ibrahim': {'Positive': 4, 'Negative': 1, 'Neutral': 6, 'Toplam Kelime Sayısı': 10}, 'haluk': {'Positive': 0, 'Negative': 0, 'Neutral': 11, 'Toplam Kelime Sayısı': 10}, 'mctom': {'Positive': 1, 'Negative': 2, 'Neutral': 7, 'Toplam Kelime Sayısı': 9}, 'hatip': {'Positive': 2, 'Negative': 0, 'Neutral': 8, 'Toplam Kelime Sayısı': 9}, 'yurek': {'Positive': 0, 'Negative': 0, 'Neutral': 10, 'Toplam Kelime Sayısı': 9}, 'elias': {'Positive': 1, 'Negative': 0, 'Neutral': 8, 'Toplam Kelime Sayısı': 8}, 'gs': {'Positive': 0, 'Negative': 0, 'Neutral': 9, 'Toplam Kelime Sayısı': 8}, 'fener': {'Positive': 0, 'Negative': 4, 'Neutral': 4, 'Toplam Kelime Sayısı': 7}, 'nev': {'Positive': 0, 'Negative': 1, 'Neutral': 7, 'Toplam Kelime Sayısı': 7}, 'dindar': {'Positive': 0, 'Negative': 0, 'Neutral': 8, 'Toplam Kelime Sayısı': 7}, 'gundog': {'Positive': 1, 'Negative': 1, 'Neutral': 4, 'Toplam Kelime Sayısı': 5}, 'claud': {'Positive': 1, 'Negative': 0, 'Neutral': 5, 'Toplam Kelime Sayısı': 5}, 'sarı': {'Positive': 0, 'Negative': 3, 'Neutral': 3, 'Toplam Kelime Sayısı': 5}, 'besi': {'Positive': 0, 'Negative': 2, 'Neutral': 3, 'Toplam Kelime Sayısı': 4}, 'talis': {'Positive': 0, 'Negative': 0, 'Neutral': 5, 'Toplam Kelime Sayısı': 4}, 'okan': {'Positive': 0, 'Negative': 0, 'Neutral': 5, 'Toplam Kelime Sayısı': 4}, 'hoj': {'Positive': 0, 'Negative': 0, 'Neutral': 5, 'Toplam Kelime Sayısı': 4}, 'istanbul': {'Positive': 0, 'Negative': 0, 'Neutral': 5, 'Toplam Kelime Sayısı': 4}, 'ilic': {'Positive': 1, 'Negative': 1, 'Neutral': 2, 'Toplam Kelime Sayısı': 3}, 'ziy': {'Positive': 0, 'Negative': 0, 'Neutral': 4, 'Toplam Kelime Sayısı': 3}, 'hod': {'Positive': 0, 'Negative': 0, 'Neutral': 4, 'Toplam Kelime Sayısı': 3}, 'fb': {'Positive': 0, 'Negative': 2, 'Neutral': 2, 'Toplam Kelime Sayısı': 3}, 'barı': {'Positive': 1, 'Negative': 0, 'Neutral': 3, 'Toplam Kelime Sayısı': 3}, 'alper': {'Positive': 1, 'Negative': 0, 'Neutral': 3, 'Toplam Kelime Sayısı': 3}, 'yı': {'Positive': 0, 'Negative': 0, 'Neutral': 4, 'Toplam Kelime Sayısı': 3}, 'torreira': {'Positive': 1, 'Negative': 1, 'Neutral': 2, 'Toplam Kelime Sayısı': 3}, 'england': {'Positive': 0, 'Negative': 1, 'Neutral': 3, 'Toplam Kelime Sayısı': 3}, 'ivan': {'Positive': 0, 'Negative': 1, 'Neutral': 2, 'Toplam Kelime Sayısı': 2}, 'fred': {'Positive': 0, 'Negative': 1, 'Neutral': 2, 'Toplam Kelime Sayısı': 2}, 'europe': {'Positive': 0, 'Negative': 0, 'Neutral': 3, 'Toplam Kelime Sayısı': 2}, 'kutl': {'Positive': 0, 'Negative': 0, 'Neutral': 3, 'Toplam Kelime Sayısı': 2}, 'akp': {'Positive': 0, 'Negative': 0, 'Neutral': 3, 'Toplam Kelime Sayısı': 2}, 'tete': {'Positive': 0, 'Negative': 0, 'Neutral': 3, 'Toplam Kelime Sayısı': 2}, 'mustafa': {'Positive': 0, 'Negative': 2, 'Neutral': 1, 'Toplam Kelime Sayısı': 2}, 'durs': {'Positive': 0, 'Negative': 0, 'Neutral': 3, 'Toplam Kelime Sayısı': 2}, 'gardi': {'Positive': 0, 'Negative': 0, 'Neutral': 3, 'Toplam Kelime Sayısı': 2}, 'gedson': {'Positive': 0, 'Negative': 1, 'Neutral': 2, 'Toplam Kelime Sayısı': 2}, 'flamengo': {'Positive': 0, 'Negative': 0, 'Neutral': 3, 'Toplam Kelime Sayısı': 2}, 'demirba': {'Positive': 1, 'Negative': 0, 'Neutral': 2, 'Toplam Kelime Sayısı': 2}, 'ali': {'Positive': 0, 'Negative': 0, 'Neutral': 2, 'Toplam Kelime Sayısı': 1}, 'kap': {'Positive': 0, 'Negative': 1, 'Neutral': 1, 'Toplam Kelime Sayısı': 1}, 'bjk': {'Positive': 0, 'Negative': 0, 'Neutral': 2, 'Toplam Kelime Sayısı': 1}, 'arda': {'Positive': 1, 'Negative': 0, 'Neutral': 1, 'Toplam Kelime Sayısı': 1}, 'eyu': {'Positive': 0, 'Negative': 0, 'Neutral': 2, 'Toplam Kelime Sayısı': 1}, 'ozbek': {'Positive': 0, 'Negative': 0, 'Neutral': 2, 'Toplam Kelime Sayısı': 1}, 'fm24': {'Positive': 0, 'Negative': 0, 'Neutral': 2, 'Toplam Kelime Sayısı': 1}, 'george': {'Positive': 1, 'Negative': 0, 'Neutral': 1, 'Toplam Kelime Sayısı': 1}, 'wendell': {'Positive': 0, 'Negative': 1, 'Neutral': 1, 'Toplam Kelime Sayısı': 1}, 'championat': {'Positive': 0, 'Negative': 0, 'Neutral': 2, 'Toplam Kelime Sayısı': 1}, 'tosun': {'Positive': 1, 'Negative': 0, 'Neutral': 1, 'Toplam Kelime Sayısı': 1}, 'marcus': {'Positive': 1, 'Negative': 0, 'Neutral': 1, 'Toplam Kelime Sayısı': 1}, 'alexander': {'Positive': 0, 'Negative': 0, 'Neutral': 2, 'Toplam Kelime Sayısı': 1}, 'medved': {'Positive': 0, 'Negative': 0, 'Neutral': 2, 'Toplam Kelime Sayısı': 1}, 'west': {'Positive': 0, 'Negative': 0, 'Neutral': 2, 'Toplam Kelime Sayısı': 1}, 'ham': {'Positive': 0, 'Negative': 0, 'Neutral': 2, 'Toplam Kelime Sayısı': 1}, 'arsenal': {'Positive': 0, 'Negative': 0, 'Neutral': 2, 'Toplam Kelime Sayısı': 1}, 'barcelona': {'Positive': 0, 'Negative': 0, 'Neutral': 2, 'Toplam Kelime Sayısı': 1}, 'kerem': {'Positive': 1, 'Negative': 0, 'Neutral': 1, 'Toplam Kelime Sayısı': 1}, 'fatih': {'Positive': 2, 'Negative': 0, 'Neutral': 0, 'Toplam Kelime Sayısı': 1}, 'guela': {'Positive': 0, 'Negative': 0, 'Neutral': 2, 'Toplam Kelime Sayısı': 1}, 'rabio': {'Positive': 0, 'Negative': 0, 'Neutral': 2, 'Toplam Kelime Sayısı': 1}, 'pkk': {'Positive': 0, 'Negative': 2, 'Neutral': 0, 'Toplam Kelime Sayısı': 1}, 'club': {'Positive': 0, 'Negative': 1, 'Neutral': 1, 'Toplam Kelime Sayısı': 1}, 'saint': {'Positive': 1, 'Negative': 0, 'Neutral': 1, 'Toplam Kelime Sayısı': 1}, 'orhan': {'Positive': 0, 'Negative': 0, 'Neutral': 2, 'Toplam Kelime Sayısı': 1}, 'dale': {'Positive': 0, 'Negative': 0, 'Neutral': 2, 'Toplam Kelime Sayısı': 1}, 'manchester': {'Positive': 0, 'Negative': 0, 'Neutral': 2, 'Toplam Kelime Sayısı': 1}, 'oguz': {'Positive': 0, 'Negative': 0, 'Neutral': 2, 'Toplam Kelime Sayısı': 1}, 'ayd': {'Positive': 0, 'Negative': 0, 'Neutral': 2, 'Toplam Kelime Sayısı': 1}, 'barans': {'Positive': 0, 'Negative': 0, 'Neutral': 1, 'Toplam Kelime Sayısı': 0}, 'kont': {'Positive': 0, 'Negative': 0, 'Neutral': 1, 'Toplam Kelime Sayısı': 0}, 'exclusive': {'Positive': 0, 'Negative': 0, 'Neutral': 1, 'Toplam Kelime Sayısı': 0}, 'uefa': {'Positive': 0, 'Negative': 0, 'Neutral': 1, 'Toplam Kelime Sayısı': 0}, 'ozkur': {'Positive': 0, 'Negative': 0, 'Neutral': 1, 'Toplam Kelime Sayısı': 0}, 'ilici': {'Positive': 0, 'Negative': 0, 'Neutral': 1, 'Toplam Kelime Sayısı': 0}, 'copenhagen': {'Positive': 0, 'Negative': 0, 'Neutral': 1, 'Toplam Kelime Sayısı': 0}, 'manu': {'Positive': 0, 'Negative': 1, 'Neutral': 0, 'Toplam Kelime Sayısı': 0}, 'fabri': {'Positive': 0, 'Negative': 1, 'Neutral': 0, 'Toplam Kelime Sayısı': 0}, 'goretz': {'Positive': 0, 'Negative': 0, 'Neutral': 1, 'Toplam Kelime Sayısı': 0}, 'bayern': {'Positive': 0, 'Negative': 1, 'Neutral': 0, 'Toplam Kelime Sayısı': 0}, 'munich': {'Positive': 0, 'Negative': 1, 'Neutral': 0, 'Toplam Kelime Sayısı': 0}, 'kras': {'Positive': 0, 'Negative': 0, 'Neutral': 1, 'Toplam Kelime Sayısı': 0}, 'tuncb': {'Positive': 0, 'Negative': 0, 'Neutral': 1, 'Toplam Kelime Sayısı': 0}, 'mr': {'Positive': 0, 'Negative': 0, 'Neutral': 1, 'Toplam Kelime Sayısı': 0}, 'point': {'Positive': 0, 'Negative': 0, 'Neutral': 1, 'Toplam Kelime Sayısı': 0}, 'hotel': {'Positive': 0, 'Negative': 0, 'Neutral': 1, 'Toplam Kelime Sayısı': 0}, 'davin': {'Positive': 1, 'Negative': 0, 'Neutral': 0, 'Toplam Kelime Sayısı': 0}, 'lo': {'Positive': 0, 'Negative': 1, 'Neutral': 0, 'Toplam Kelime Sayısı': 0}, 'cels': {'Positive': 0, 'Negative': 1, 'Neutral': 0, 'Toplam Kelime Sayısı': 0}, 'italy': {'Positive': 0, 'Negative': 0, 'Neutral': 1, 'Toplam Kelime Sayısı': 0}, 'spain': {'Positive': 0, 'Negative': 0, 'Neutral': 1, 'Toplam Kelime Sayısı': 0}, 'hasan': {'Positive': 0, 'Negative': 0, 'Neutral': 1, 'Toplam Kelime Sayısı': 0}, 'arat': {'Positive': 0, 'Negative': 0, 'Neutral': 1, 'Toplam Kelime Sayısı': 0}, 'koc': {'Positive': 0, 'Negative': 0, 'Neutral': 1, 'Toplam Kelime Sayısı': 0}, 'super': {'Positive': 0, 'Negative': 0, 'Neutral': 1, 'Toplam Kelime Sayısı': 0}, 'league': {'Positive': 0, 'Negative': 0, 'Neutral': 1, 'Toplam Kelime Sayısı': 0}, 'virtualtra': {'Positive': 0, 'Negative': 0, 'Neutral': 1, 'Toplam Kelime Sayısı': 0}, 'zaj': {'Positive': 0, 'Negative': 1, 'Neutral': 0, 'Toplam Kelime Sayısı': 0}, 'tiago': {'Positive': 1, 'Negative': 0, 'Neutral': 0, 'Toplam Kelime Sayısı': 0}, 'ribeiro': {'Positive': 1, 'Negative': 0, 'Neutral': 0, 'Toplam Kelime Sayısı': 0}, 'italians': {'Positive': 0, 'Negative': 0, 'Neutral': 1, 'Toplam Kelime Sayısı': 0}, 'buru': {'Positive': 0, 'Negative': 0, 'Neutral': 1, 'Toplam Kelime Sayısı': 0}, 'kagan': {'Positive': 0, 'Negative': 0, 'Neutral': 1, 'Toplam Kelime Sayısı': 0}, 'president': {'Positive': 0, 'Negative': 0, 'Neutral': 1, 'Toplam Kelime Sayısı': 0}, 'deniz': {'Positive': 0, 'Negative': 1, 'Neutral': 0, 'Toplam Kelime Sayısı': 0}, 'baykal': {'Positive': 0, 'Negative': 1, 'Neutral': 0, 'Toplam Kelime Sayısı': 0}, 'demirel': {'Positive': 1, 'Negative': 0, 'Neutral': 0, 'Toplam Kelime Sayısı': 0}, 'spor': {'Positive': 1, 'Negative': 0, 'Neutral': 0, 'Toplam Kelime Sayısı': 0}, 'zenits': {'Positive': 1, 'Negative': 0, 'Neutral': 0, 'Toplam Kelime Sayısı': 0}, 'daddy': {'Positive': 1, 'Negative': 0, 'Neutral': 0, 'Toplam Kelime Sayısı': 0}, 'icard': {'Positive': 0, 'Negative': 0, 'Neutral': 1, 'Toplam Kelime Sayısı': 0}, 'emir': {'Positive': 0, 'Negative': 0, 'Neutral': 1, 'Toplam Kelime Sayısı': 0}, 'islam': {'Positive': 0, 'Negative': 0, 'Neutral': 1, 'Toplam Kelime Sayısı': 0}, 'saturday': {'Positive': 0, 'Negative': 0, 'Neutral': 1, 'Toplam Kelime Sayısı': 0}, 'luccas': {'Positive': 0, 'Negative': 0, 'Neutral': 1, 'Toplam Kelime Sayısı': 0}, 'claro': {'Positive': 0, 'Negative': 0, 'Neutral': 1, 'Toplam Kelime Sayısı': 0}, 'japan': {'Positive': 0, 'Negative': 1, 'Neutral': 0, 'Toplam Kelime Sayısı': 0}, 'sast': {'Positive': 0, 'Negative': 1, 'Neutral': 0, 'Toplam Kelime Sayısı': 0}, 'borsa': {'Positive': 0, 'Negative': 1, 'Neutral': 0, 'Toplam Kelime Sayısı': 0}, 'marca': {'Positive': 0, 'Negative': 0, 'Neutral': 1, 'Toplam Kelime Sayısı': 0}, 'szy': {'Positive': 0, 'Negative': 0, 'Neutral': 1, 'Toplam Kelime Sayısı': 0}, 'sangare': {'Positive': 0, 'Negative': 0, 'Neutral': 1, 'Toplam Kelime Sayısı': 0}, 'berg': {'Positive': 0, 'Negative': 0, 'Neutral': 1, 'Toplam Kelime Sayısı': 0}, 'yagos': {'Positive': 0, 'Negative': 0, 'Neutral': 1, 'Toplam Kelime Sayısı': 0}, 'twitter': {'Positive': 0, 'Negative': 0, 'Neutral': 1, 'Toplam Kelime Sayısı': 0}, 'allan': {'Positive': 0, 'Negative': 0, 'Neutral': 1, 'Toplam Kelime Sayısı': 0}, 'petersburg': {'Positive': 0, 'Negative': 0, 'Neutral': 1, 'Toplam Kelime Sayısı': 0}, 'g': {'Positive': 0, 'Negative': 0, 'Neutral': 1, 'Toplam Kelime Sayısı': 0}, 'saray': {'Positive': 0, 'Negative': 0, 'Neutral': 1, 'Toplam Kelime Sayısı': 0}, 'yilma': {'Positive': 0, 'Negative': 0, 'Neutral': 1, 'Toplam Kelime Sayısı': 0}, 'm': {'Positive': 0, 'Negative': 0, 'Neutral': 1, 'Toplam Kelime Sayısı': 0}, 'h': {'Positive': 0, 'Negative': 0, 'Neutral': 1, 'Toplam Kelime Sayısı': 0}, 'turkey': {'Positive': 0, 'Negative': 0, 'Neutral': 1, 'Toplam Kelime Sayısı': 0}, '—': {'Positive': 0, 'Negative': 0, 'Neutral': 1, 'Toplam Kelime Sayısı': 0}, 'montiel': {'Positive': 0, 'Negative': 0, 'Neutral': 1, 'Toplam Kelime Sayısı': 0}, 'trai': {'Positive': 0, 'Negative': 0, 'Neutral': 1, 'Toplam Kelime Sayısı': 0}, 'hume': {'Positive': 0, 'Negative': 0, 'Neutral': 1, 'Toplam Kelime Sayısı': 0}, 'maz': {'Positive': 0, 'Negative': 0, 'Neutral': 1, 'Toplam Kelime Sayısı': 0}, 'zeki': {'Positive': 0, 'Negative': 0, 'Neutral': 1, 'Toplam Kelime Sayısı': 0}, 'celik': {'Positive': 0, 'Negative': 0, 'Neutral': 1, 'Toplam Kelime Sayısı': 0}, 'yusuf': {'Positive': 0, 'Negative': 0, 'Neutral': 1, 'Toplam Kelime Sayısı': 0}, 'yaz': {'Positive': 0, 'Negative': 0, 'Neutral': 1, 'Toplam Kelime Sayısı': 0}, 'ebos': {'Positive': 0, 'Negative': 0, 'Neutral': 1, 'Toplam Kelime Sayısı': 0}, 'okay': {'Positive': 0, 'Negative': 0, 'Neutral': 1, 'Toplam Kelime Sayısı': 0}, 'y': {'Positive': 0, 'Negative': 0, 'Neutral': 1, 'Toplam Kelime Sayısı': 0}, 'dedic': {'Positive': 0, 'Negative': 0, 'Neutral': 1, 'Toplam Kelime Sayısı': 0}, 'guido': {'Positive': 0, 'Negative': 0, 'Neutral': 1, 'Toplam Kelime Sayısı': 0}, 'r': {'Positive': 0, 'Negative': 0, 'Neutral': 1, 'Toplam Kelime Sayısı': 0}, 'ruben': {'Positive': 0, 'Negative': 0, 'Neutral': 1, 'Toplam Kelime Sayısı': 0}, 'neves': {'Positive': 0, 'Negative': 0, 'Neutral': 1, 'Toplam Kelime Sayısı': 0}, 'ugo': {'Positive': 0, 'Negative': 0, 'Neutral': 1, 'Toplam Kelime Sayısı': 0}, 'depa': {'Positive': 0, 'Negative': 0, 'Neutral': 1, 'Toplam Kelime Sayısı': 0}, 'don': {'Positive': 0, 'Negative': 0, 'Neutral': 1, 'Toplam Kelime Sayısı': 0}, 'rt': {'Positive': 1, 'Negative': 0, 'Neutral': 0, 'Toplam Kelime Sayısı': 0}, 'colombia': {'Positive': 0, 'Negative': 0, 'Neutral': 1, 'Toplam Kelime Sayısı': 0}, 'irfan': {'Positive': 0, 'Negative': 0, 'Neutral': 1, 'Toplam Kelime Sayısı': 0}, 'can': {'Positive': 0, 'Negative': 0, 'Neutral': 1, 'Toplam Kelime Sayısı': 0}, 'kah': {'Positive': 0, 'Negative': 0, 'Neutral': 1, 'Toplam Kelime Sayısı': 0}, 'transfer': {'Positive': 0, 'Negative': 0, 'Neutral': 1, 'Toplam Kelime Sayısı': 0}, 'agenda': {'Positive': 0, 'Negative': 0, 'Neutral': 1, 'Toplam Kelime Sayısı': 0}, 'ross': {'Positive': 0, 'Negative': 0, 'Neutral': 1, 'Toplam Kelime Sayısı': 0}, 'jelar': {'Positive': 0, 'Negative': 0, 'Neutral': 1, 'Toplam Kelime Sayısı': 0}, 'talks': {'Positive': 0, 'Negative': 0, 'Neutral': 1, 'Toplam Kelime Sayısı': 0}, 'com': {'Positive': 0, 'Negative': 0, 'Neutral': 1, 'Toplam Kelime Sayısı': 0}, 'yag': {'Positive': 0, 'Negative': 0, 'Neutral': 1, 'Toplam Kelime Sayısı': 0}, 'gsli': {'Positive': 0, 'Negative': 0, 'Neutral': 1, 'Toplam Kelime Sayısı': 0}, 'arenaga': {'Positive': 0, 'Negative': 0, 'Neutral': 1, 'Toplam Kelime Sayısı': 0}, 'kalp': {'Positive': 0, 'Negative': 0, 'Neutral': 1, 'Toplam Kelime Sayısı': 0}, 'brazil': {'Positive': 0, 'Negative': 0, 'Neutral': 1, 'Toplam Kelime Sayısı': 0}, 'flash': {'Positive': 0, 'Negative': 0, 'Neutral': 1, 'Toplam Kelime Sayısı': 0}, 'india': {'Positive': 0, 'Negative': 1, 'Neutral': 0, 'Toplam Kelime Sayısı': 0}, 'gold': {'Positive': 0, 'Negative': 0, 'Neutral': 1, 'Toplam Kelime Sayısı': 0}, 'ay': {'Positive': 0, 'Negative': 0, 'Neutral': 1, 'Toplam Kelime Sayısı': 0}, 'wednesday': {'Positive': 0, 'Negative': 0, 'Neutral': 1, 'Toplam Kelime Sayısı': 0}, 'july': {'Positive': 0, 'Negative': 0, 'Neutral': 1, 'Toplam Kelime Sayısı': 0}, 'pasha': {'Positive': 0, 'Negative': 0, 'Neutral': 1, 'Toplam Kelime Sayısı': 0}, 'cucure': {'Positive': 0, 'Negative': 0, 'Neutral': 1, 'Toplam Kelime Sayısı': 0}, 'ramazan': {'Positive': 0, 'Negative': 0, 'Neutral': 1, 'Toplam Kelime Sayısı': 0}, 'abdullah': {'Positive': 0, 'Negative': 0, 'Neutral': 1, 'Toplam Kelime Sayısı': 0}, 'zeyd': {'Positive': 0, 'Negative': 0, 'Neutral': 1, 'Toplam Kelime Sayısı': 0}, 'jaler': {'Positive': 0, 'Negative': 0, 'Neutral': 1, 'Toplam Kelime Sayısı': 0}, 'emre': {'Positive': 0, 'Negative': 0, 'Neutral': 1, 'Toplam Kelime Sayısı': 0}, 'kı': {'Positive': 0, 'Negative': 0, 'Neutral': 1, 'Toplam Kelime Sayısı': 0}, 'suat': {'Positive': 0, 'Negative': 0, 'Neutral': 1, 'Toplam Kelime Sayısı': 0}, 'umur': {'Positive': 0, 'Negative': 0, 'Neutral': 1, 'Toplam Kelime Sayısı': 0}, 'socar': {'Positive': 0, 'Negative': 0, 'Neutral': 1, 'Toplam Kelime Sayısı': 0}, 'gaz': {'Positive': 0, 'Negative': 0, 'Neutral': 1, 'Toplam Kelime Sayısı': 0}, 'derin': {'Positive': 0, 'Negative': 0, 'Neutral': 1, 'Toplam Kelime Sayısı': 0}, 'badem': {'Positive': 0, 'Negative': 0, 'Neutral': 1, 'Toplam Kelime Sayısı': 0}, 'mustache': {'Positive': 0, 'Negative': 0, 'Neutral': 1, 'Toplam Kelime Sayısı': 0}, 'ibo': {'Positive': 0, 'Negative': 0, 'Neutral': 1, 'Toplam Kelime Sayısı': 0}, 'rios': {'Positive': 0, 'Negative': 0, 'Neutral': 1, 'Toplam Kelime Sayısı': 0}, 'benfica': {'Positive': 0, 'Negative': 1, 'Neutral': 0, 'Toplam Kelime Sayısı': 0}, 'david': {'Positive': 0, 'Negative': 1, 'Neutral': 0, 'Toplam Kelime Sayısı': 0}, 'neres': {'Positive': 0, 'Negative': 1, 'Neutral': 0, 'Toplam Kelime Sayısı': 0}, 'rafa': {'Positive': 0, 'Negative': 1, 'Neutral': 0, 'Toplam Kelime Sayısı': 0}, 'silva': {'Positive': 0, 'Negative': 1, 'Neutral': 0, 'Toplam Kelime Sayısı': 0}, 'maximin': {'Positive': 0, 'Negative': 1, 'Neutral': 0, 'Toplam Kelime Sayısı': 0}, 'arabia': {'Positive': 0, 'Negative': 0, 'Neutral': 1, 'Toplam Kelime Sayısı': 0}, 'alanaya': {'Positive': 0, 'Negative': 0, 'Neutral': 1, 'Toplam Kelime Sayısı': 0}, 'kaan': {'Positive': 0, 'Negative': 0, 'Neutral': 1, 'Toplam Kelime Sayısı': 0}, 'baykam': {'Positive': 0, 'Negative': 0, 'Neutral': 1, 'Toplam Kelime Sayısı': 0}, 'nutuk': {'Positive': 1, 'Negative': 0, 'Neutral': 0, 'Toplam Kelime Sayısı': 0}}\n"
          ]
        }
      ]
    },
    {
      "cell_type": "code",
      "source": [
        "sorted_dict4JelertPerWithPos = dict(sorted(dict4JelertPerWithPos.items(), key=lambda item: item[1][\"Toplam Kelime Sayısı\"],reverse=True))\n",
        "print(sorted_dict4JelertPerWithPos)"
      ],
      "metadata": {
        "colab": {
          "base_uri": "https://localhost:8080/"
        },
        "id": "3uaF8KkGGgBw",
        "outputId": "cbe76a88-a613-4056-a782-b90c51af3f89"
      },
      "execution_count": 118,
      "outputs": [
        {
          "output_type": "stream",
          "name": "stdout",
          "text": [
            "{'jeler': {'Positive': 37, 'Negative': 22, 'Neutral': 150, 'Toplam Kelime Sayısı': 208}, 'elias': {'Positive': 19, 'Negative': 7, 'Neutral': 60, 'Toplam Kelime Sayısı': 85}, 'galatas': {'Positive': 7, 'Negative': 1, 'Neutral': 68, 'Toplam Kelime Sayısı': 75}, 'doue': {'Positive': 22, 'Negative': 18, 'Neutral': 30, 'Toplam Kelime Sayısı': 69}, 'wendel': {'Positive': 8, 'Negative': 5, 'Neutral': 31, 'Toplam Kelime Sayısı': 43}, 'copenhagen': {'Positive': 10, 'Negative': 8, 'Neutral': 18, 'Toplam Kelime Sayısı': 35}, 'okan': {'Positive': 2, 'Negative': 2, 'Neutral': 16, 'Toplam Kelime Sayısı': 19}, 'ilka': {'Positive': 4, 'Negative': 1, 'Neutral': 12, 'Toplam Kelime Sayısı': 16}, 'cenk': {'Positive': 7, 'Negative': 1, 'Neutral': 3, 'Toplam Kelime Sayısı': 10}, 'ergun': {'Positive': 4, 'Negative': 1, 'Neutral': 5, 'Toplam Kelime Sayısı': 9}, 'buru': {'Positive': 3, 'Negative': 0, 'Neutral': 6, 'Toplam Kelime Sayısı': 8}, 'gundog': {'Positive': 1, 'Negative': 0, 'Neutral': 7, 'Toplam Kelime Sayısı': 7}, 'ibrahim': {'Positive': 2, 'Negative': 0, 'Neutral': 5, 'Toplam Kelime Sayısı': 6}, 'kohn': {'Positive': 0, 'Negative': 6, 'Neutral': 1, 'Toplam Kelime Sayısı': 6}, 'haluk': {'Positive': 0, 'Negative': 0, 'Neutral': 7, 'Toplam Kelime Sayısı': 6}, 'guela': {'Positive': 1, 'Negative': 1, 'Neutral': 4, 'Toplam Kelime Sayısı': 5}, 'hod': {'Positive': 0, 'Negative': 0, 'Neutral': 6, 'Toplam Kelime Sayısı': 5}, 'boey': {'Positive': 2, 'Negative': 4, 'Neutral': 0, 'Toplam Kelime Sayısı': 5}, 'yurek': {'Positive': 0, 'Negative': 0, 'Neutral': 6, 'Toplam Kelime Sayısı': 5}, 'hatip': {'Positive': 1, 'Negative': 0, 'Neutral': 5, 'Toplam Kelime Sayısı': 5}, 'thursday': {'Positive': 0, 'Negative': 1, 'Neutral': 4, 'Toplam Kelime Sayısı': 4}, 'ay': {'Positive': 0, 'Negative': 0, 'Neutral': 5, 'Toplam Kelime Sayısı': 4}, 'zenit': {'Positive': 0, 'Negative': 2, 'Neutral': 2, 'Toplam Kelime Sayısı': 3}, 'nels': {'Positive': 2, 'Negative': 0, 'Neutral': 2, 'Toplam Kelime Sayısı': 3}, 'saint': {'Positive': 1, 'Negative': 0, 'Neutral': 3, 'Toplam Kelime Sayısı': 3}, 'abdullah': {'Positive': 0, 'Negative': 0, 'Neutral': 4, 'Toplam Kelime Sayısı': 3}, 'suley': {'Positive': 0, 'Negative': 0, 'Neutral': 4, 'Toplam Kelime Sayısı': 3}, 'nev': {'Positive': 0, 'Negative': 0, 'Neutral': 4, 'Toplam Kelime Sayısı': 3}, 'dindar': {'Positive': 0, 'Negative': 0, 'Neutral': 4, 'Toplam Kelime Sayısı': 3}, 'roma': {'Positive': 0, 'Negative': 0, 'Neutral': 4, 'Toplam Kelime Sayısı': 3}, 'barı': {'Positive': 0, 'Negative': 0, 'Neutral': 3, 'Toplam Kelime Sayısı': 2}, 'ferdi': {'Positive': 1, 'Negative': 1, 'Neutral': 1, 'Toplam Kelime Sayısı': 2}, 'sacha': {'Positive': 0, 'Negative': 2, 'Neutral': 1, 'Toplam Kelime Sayısı': 2}, 'zeyd': {'Positive': 0, 'Negative': 0, 'Neutral': 3, 'Toplam Kelime Sayısı': 2}, 'oguz': {'Positive': 0, 'Negative': 0, 'Neutral': 3, 'Toplam Kelime Sayısı': 2}, 'ayd': {'Positive': 0, 'Negative': 0, 'Neutral': 3, 'Toplam Kelime Sayısı': 2}, 'tosun': {'Positive': 0, 'Negative': 0, 'Neutral': 3, 'Toplam Kelime Sayısı': 2}, 'pasha': {'Positive': 0, 'Negative': 0, 'Neutral': 3, 'Toplam Kelime Sayısı': 2}, 'wednesday': {'Positive': 0, 'Negative': 0, 'Neutral': 3, 'Toplam Kelime Sayısı': 2}, 'yag': {'Positive': 0, 'Negative': 0, 'Neutral': 3, 'Toplam Kelime Sayısı': 2}, 'ucl': {'Positive': 0, 'Negative': 0, 'Neutral': 3, 'Toplam Kelime Sayısı': 2}, 'rodop': {'Positive': 0, 'Negative': 0, 'Neutral': 3, 'Toplam Kelime Sayısı': 2}, 'kaan': {'Positive': 0, 'Negative': 1, 'Neutral': 2, 'Toplam Kelime Sayısı': 2}, 'gs': {'Positive': 0, 'Negative': 0, 'Neutral': 3, 'Toplam Kelime Sayısı': 2}, 'july': {'Positive': 0, 'Negative': 0, 'Neutral': 3, 'Toplam Kelime Sayısı': 2}, 'cı': {'Positive': 0, 'Negative': 0, 'Neutral': 3, 'Toplam Kelime Sayısı': 2}, 'relev': {'Positive': 0, 'Negative': 0, 'Neutral': 3, 'Toplam Kelime Sayısı': 2}, 'icard': {'Positive': 2, 'Negative': 0, 'Neutral': 0, 'Toplam Kelime Sayısı': 1}, 'trab': {'Positive': 0, 'Negative': 0, 'Neutral': 2, 'Toplam Kelime Sayısı': 1}, 'sarı': {'Positive': 0, 'Negative': 1, 'Neutral': 1, 'Toplam Kelime Sayısı': 1}, 'omer': {'Positive': 0, 'Negative': 0, 'Neutral': 2, 'Toplam Kelime Sayısı': 1}, 'sarac': {'Positive': 0, 'Negative': 0, 'Neutral': 2, 'Toplam Kelime Sayısı': 1}, 'allan': {'Positive': 0, 'Negative': 0, 'Neutral': 2, 'Toplam Kelime Sayısı': 1}, 'sabu': {'Positive': 0, 'Negative': 0, 'Neutral': 2, 'Toplam Kelime Sayısı': 1}, 'gelert': {'Positive': 0, 'Negative': 1, 'Neutral': 1, 'Toplam Kelime Sayısı': 1}, 'brother': {'Positive': 0, 'Negative': 1, 'Neutral': 1, 'Toplam Kelime Sayısı': 1}, 'city': {'Positive': 0, 'Negative': 0, 'Neutral': 2, 'Toplam Kelime Sayısı': 1}, 'bayern': {'Positive': 0, 'Negative': 0, 'Neutral': 2, 'Toplam Kelime Sayısı': 1}, 'cucure': {'Positive': 0, 'Negative': 0, 'Neutral': 2, 'Toplam Kelime Sayısı': 1}, 'ramazan': {'Positive': 0, 'Negative': 0, 'Neutral': 2, 'Toplam Kelime Sayısı': 1}, 'mctom': {'Positive': 1, 'Negative': 0, 'Neutral': 1, 'Toplam Kelime Sayısı': 1}, 'angelino': {'Positive': 1, 'Negative': 0, 'Neutral': 1, 'Toplam Kelime Sayısı': 1}, 'danish': {'Positive': 1, 'Negative': 0, 'Neutral': 1, 'Toplam Kelime Sayısı': 1}, 'rios': {'Positive': 1, 'Negative': 0, 'Neutral': 1, 'Toplam Kelime Sayısı': 1}, 'ugur': {'Positive': 0, 'Negative': 0, 'Neutral': 2, 'Toplam Kelime Sayısı': 1}, 'karaku': {'Positive': 0, 'Negative': 0, 'Neutral': 2, 'Toplam Kelime Sayısı': 1}, 'destiny': {'Positive': 2, 'Negative': 0, 'Neutral': 0, 'Toplam Kelime Sayısı': 1}, 'wendell': {'Positive': 1, 'Negative': 0, 'Neutral': 1, 'Toplam Kelime Sayısı': 1}, 'chatgp': {'Positive': 0, 'Negative': 0, 'Neutral': 2, 'Toplam Kelime Sayısı': 1}, 'dale': {'Positive': 0, 'Negative': 0, 'Neutral': 2, 'Toplam Kelime Sayısı': 1}, 'istanbul': {'Positive': 0, 'Negative': 1, 'Neutral': 1, 'Toplam Kelime Sayısı': 1}, 'linnes': {'Positive': 0, 'Negative': 1, 'Neutral': 1, 'Toplam Kelime Sayısı': 1}, 'fener': {'Positive': 0, 'Negative': 1, 'Neutral': 1, 'Toplam Kelime Sayısı': 1}, 'matteo': {'Positive': 0, 'Negative': 0, 'Neutral': 2, 'Toplam Kelime Sayısı': 1}, 'analysis': {'Positive': 1, 'Negative': 0, 'Neutral': 0, 'Toplam Kelime Sayısı': 0}, 'yav': {'Positive': 0, 'Negative': 1, 'Neutral': 0, 'Toplam Kelime Sayısı': 0}, 'fred': {'Positive': 0, 'Negative': 0, 'Neutral': 1, 'Toplam Kelime Sayısı': 0}, 'talis': {'Positive': 0, 'Negative': 0, 'Neutral': 1, 'Toplam Kelime Sayısı': 0}, 'cele': {'Positive': 1, 'Negative': 0, 'Neutral': 0, 'Toplam Kelime Sayısı': 0}, 'embassy': {'Positive': 0, 'Negative': 0, 'Neutral': 1, 'Toplam Kelime Sayısı': 0}, 'god': {'Positive': 1, 'Negative': 0, 'Neutral': 0, 'Toplam Kelime Sayısı': 0}, 'pedro': {'Positive': 0, 'Negative': 0, 'Neutral': 1, 'Toplam Kelime Sayısı': 0}, 'malhei': {'Positive': 0, 'Negative': 0, 'Neutral': 1, 'Toplam Kelime Sayısı': 0}, 'issa': {'Positive': 0, 'Negative': 0, 'Neutral': 1, 'Toplam Kelime Sayısı': 0}, 'kabor': {'Positive': 0, 'Negative': 0, 'Neutral': 1, 'Toplam Kelime Sayısı': 0}, 'alper': {'Positive': 0, 'Negative': 0, 'Neutral': 1, 'Toplam Kelime Sayısı': 0}, 'de': {'Positive': 0, 'Negative': 0, 'Neutral': 1, 'Toplam Kelime Sayısı': 0}, 'alinac': {'Positive': 0, 'Negative': 0, 'Neutral': 1, 'Toplam Kelime Sayısı': 0}, 'osay': {'Positive': 0, 'Negative': 1, 'Neutral': 0, 'Toplam Kelime Sayısı': 0}, 'svensson': {'Positive': 0, 'Negative': 0, 'Neutral': 1, 'Toplam Kelime Sayısı': 0}, 'masua': {'Positive': 0, 'Negative': 0, 'Neutral': 1, 'Toplam Kelime Sayısı': 0}, 'mustafa': {'Positive': 0, 'Negative': 1, 'Neutral': 0, 'Toplam Kelime Sayısı': 0}, 'yusuf': {'Positive': 1, 'Negative': 0, 'Neutral': 0, 'Toplam Kelime Sayısı': 0}, 'yigit': {'Positive': 0, 'Negative': 0, 'Neutral': 1, 'Toplam Kelime Sayısı': 0}, 'nurany': {'Positive': 0, 'Negative': 0, 'Neutral': 1, 'Toplam Kelime Sayısı': 0}, 'kps': {'Positive': 0, 'Negative': 0, 'Neutral': 1, 'Toplam Kelime Sayısı': 0}, 'tl': {'Positive': 0, 'Negative': 0, 'Neutral': 1, 'Toplam Kelime Sayısı': 0}, 'national': {'Positive': 0, 'Negative': 0, 'Neutral': 1, 'Toplam Kelime Sayısı': 0}, 'unity': {'Positive': 0, 'Negative': 0, 'Neutral': 1, 'Toplam Kelime Sayısı': 0}, 'serdar': {'Positive': 0, 'Negative': 0, 'Neutral': 1, 'Toplam Kelime Sayısı': 0}, 'aziz': {'Positive': 0, 'Negative': 0, 'Neutral': 1, 'Toplam Kelime Sayısı': 0}, 'erzin': {'Positive': 0, 'Negative': 0, 'Neutral': 1, 'Toplam Kelime Sayısı': 0}, 'akif': {'Positive': 1, 'Negative': 0, 'Neutral': 0, 'Toplam Kelime Sayısı': 0}, 'monday': {'Positive': 0, 'Negative': 0, 'Neutral': 1, 'Toplam Kelime Sayısı': 0}, 'irfan': {'Positive': 0, 'Negative': 0, 'Neutral': 1, 'Toplam Kelime Sayısı': 0}, 'can': {'Positive': 0, 'Negative': 0, 'Neutral': 1, 'Toplam Kelime Sayısı': 0}, 'kah': {'Positive': 0, 'Negative': 0, 'Neutral': 1, 'Toplam Kelime Sayısı': 0}, 'moruts': {'Positive': 0, 'Negative': 0, 'Neutral': 1, 'Toplam Kelime Sayısı': 0}, 'england': {'Positive': 0, 'Negative': 1, 'Neutral': 0, 'Toplam Kelime Sayısı': 0}, 'kaz': {'Positive': 0, 'Negative': 0, 'Neutral': 1, 'Toplam Kelime Sayısı': 0}, 'news': {'Positive': 0, 'Negative': 0, 'Neutral': 1, 'Toplam Kelime Sayısı': 0}, 'melert': {'Positive': 0, 'Negative': 0, 'Neutral': 1, 'Toplam Kelime Sayısı': 0}, 'tayma': {'Positive': 0, 'Negative': 0, 'Neutral': 1, 'Toplam Kelime Sayısı': 0}, 'com': {'Positive': 0, 'Negative': 0, 'Neutral': 1, 'Toplam Kelime Sayısı': 0}, 'yasin': {'Positive': 0, 'Negative': 0, 'Neutral': 1, 'Toplam Kelime Sayısı': 0}, 'kas': {'Positive': 0, 'Negative': 0, 'Neutral': 1, 'Toplam Kelime Sayısı': 0}, 'net': {'Positive': 0, 'Negative': 1, 'Neutral': 0, 'Toplam Kelime Sayısı': 0}, 'united': {'Positive': 0, 'Negative': 0, 'Neutral': 1, 'Toplam Kelime Sayısı': 0}, 'champions': {'Positive': 0, 'Negative': 0, 'Neutral': 1, 'Toplam Kelime Sayısı': 0}, 'league': {'Positive': 0, 'Negative': 0, 'Neutral': 1, 'Toplam Kelime Sayısı': 0}, 'hot': {'Positive': 1, 'Negative': 0, 'Neutral': 0, 'Toplam Kelime Sayısı': 0}, 'india': {'Positive': 0, 'Negative': 1, 'Neutral': 0, 'Toplam Kelime Sayısı': 0}, 'gold': {'Positive': 0, 'Negative': 0, 'Neutral': 1, 'Toplam Kelime Sayısı': 0}, 'hoj': {'Positive': 0, 'Negative': 0, 'Neutral': 1, 'Toplam Kelime Sayısı': 0}, 'dubua': {'Positive': 1, 'Negative': 0, 'Neutral': 0, 'Toplam Kelime Sayısı': 0}, 'guele': {'Positive': 0, 'Negative': 0, 'Neutral': 1, 'Toplam Kelime Sayısı': 0}, 'yaku': {'Positive': 0, 'Negative': 0, 'Neutral': 1, 'Toplam Kelime Sayısı': 0}, 'emre': {'Positive': 0, 'Negative': 0, 'Neutral': 1, 'Toplam Kelime Sayısı': 0}, 'kı': {'Positive': 0, 'Negative': 0, 'Neutral': 1, 'Toplam Kelime Sayısı': 0}, 'kap': {'Positive': 0, 'Negative': 0, 'Neutral': 1, 'Toplam Kelime Sayısı': 0}, 'wan': {'Positive': 0, 'Negative': 0, 'Neutral': 1, 'Toplam Kelime Sayısı': 0}, 'bissaka': {'Positive': 0, 'Negative': 0, 'Neutral': 1, 'Toplam Kelime Sayısı': 0}, 'benfica': {'Positive': 0, 'Negative': 1, 'Neutral': 0, 'Toplam Kelime Sayısı': 0}, 'david': {'Positive': 0, 'Negative': 1, 'Neutral': 0, 'Toplam Kelime Sayısı': 0}, 'neres': {'Positive': 0, 'Negative': 1, 'Neutral': 0, 'Toplam Kelime Sayısı': 0}, 'rafa': {'Positive': 0, 'Negative': 1, 'Neutral': 0, 'Toplam Kelime Sayısı': 0}, 'silva': {'Positive': 0, 'Negative': 1, 'Neutral': 0, 'Toplam Kelime Sayısı': 0}, 'maximin': {'Positive': 0, 'Negative': 1, 'Neutral': 0, 'Toplam Kelime Sayısı': 0}, 'arabia': {'Positive': 0, 'Negative': 0, 'Neutral': 1, 'Toplam Kelime Sayısı': 0}, 'alanaya': {'Positive': 0, 'Negative': 0, 'Neutral': 1, 'Toplam Kelime Sayısı': 0}, 'fm24': {'Positive': 0, 'Negative': 0, 'Neutral': 1, 'Toplam Kelime Sayısı': 0}, 'yagos': {'Positive': 0, 'Negative': 0, 'Neutral': 1, 'Toplam Kelime Sayısı': 0}, 'durs': {'Positive': 0, 'Negative': 0, 'Neutral': 1, 'Toplam Kelime Sayısı': 0}, 'barcelona': {'Positive': 0, 'Negative': 0, 'Neutral': 1, 'Toplam Kelime Sayısı': 0}, 'petersburg': {'Positive': 0, 'Negative': 0, 'Neutral': 1, 'Toplam Kelime Sayısı': 0}, 'president': {'Positive': 0, 'Negative': 0, 'Neutral': 1, 'Toplam Kelime Sayısı': 0}, 'cyprus': {'Positive': 0, 'Negative': 0, 'Neutral': 1, 'Toplam Kelime Sayısı': 0}, 'hagi': {'Positive': 0, 'Negative': 1, 'Neutral': 0, 'Toplam Kelime Sayısı': 0}, 'barella': {'Positive': 0, 'Negative': 0, 'Neutral': 1, 'Toplam Kelime Sayısı': 0}, 'mr': {'Positive': 1, 'Negative': 0, 'Neutral': 0, 'Toplam Kelime Sayısı': 0}, 'hoca': {'Positive': 0, 'Negative': 0, 'Neutral': 1, 'Toplam Kelime Sayısı': 0}, 'father': {'Positive': 1, 'Negative': 0, 'Neutral': 0, 'Toplam Kelime Sayısı': 0}, 'nelson': {'Positive': 1, 'Negative': 0, 'Neutral': 0, 'Toplam Kelime Sayısı': 0}, 'mahm': {'Positive': 0, 'Negative': 0, 'Neutral': 1, 'Toplam Kelime Sayısı': 0}, 'alpas': {'Positive': 0, 'Negative': 0, 'Neutral': 1, 'Toplam Kelime Sayısı': 0}, 'gunay': {'Positive': 0, 'Negative': 0, 'Neutral': 1, 'Toplam Kelime Sayısı': 0}, 'fanm': {'Positive': 0, 'Negative': 0, 'Neutral': 1, 'Toplam Kelime Sayısı': 0}, 'se': {'Positive': 0, 'Negative': 0, 'Neutral': 1, 'Toplam Kelime Sayısı': 0}, 'dya': {'Positive': 0, 'Negative': 0, 'Neutral': 1, 'Toplam Kelime Sayısı': 0}, 'rt': {'Positive': 1, 'Negative': 0, 'Neutral': 0, 'Toplam Kelime Sayısı': 0}, 'coach': {'Positive': 0, 'Negative': 1, 'Neutral': 0, 'Toplam Kelime Sayısı': 0}, 'intersport': {'Positive': 1, 'Negative': 0, 'Neutral': 0, 'Toplam Kelime Sayısı': 0}, 'portaka': {'Positive': 0, 'Negative': 0, 'Neutral': 1, 'Toplam Kelime Sayısı': 0}, 'tete': {'Positive': 0, 'Negative': 0, 'Neutral': 1, 'Toplam Kelime Sayısı': 0}, 'marcus': {'Positive': 0, 'Negative': 0, 'Neutral': 1, 'Toplam Kelime Sayısı': 0}, 'kvart': {'Positive': 0, 'Negative': 0, 'Neutral': 1, 'Toplam Kelime Sayısı': 0}, 'don': {'Positive': 0, 'Negative': 0, 'Neutral': 1, 'Toplam Kelime Sayısı': 0}, 'wys': {'Positive': 0, 'Negative': 0, 'Neutral': 1, 'Toplam Kelime Sayısı': 0}, 'zeki': {'Positive': 1, 'Negative': 0, 'Neutral': 0, 'Toplam Kelime Sayısı': 0}, 'maz': {'Positive': 0, 'Negative': 1, 'Neutral': 0, 'Toplam Kelime Sayısı': 0}, 'awb': {'Positive': 0, 'Negative': 0, 'Neutral': 1, 'Toplam Kelime Sayısı': 0}, 'martin': {'Positive': 0, 'Negative': 1, 'Neutral': 0, 'Toplam Kelime Sayısı': 0}, 'standard': {'Positive': 1, 'Negative': 0, 'Neutral': 0, 'Toplam Kelime Sayısı': 0}, 'derrick': {'Positive': 0, 'Negative': 1, 'Neutral': 0, 'Toplam Kelime Sayısı': 0}, 'erden': {'Positive': 1, 'Negative': 0, 'Neutral': 0, 'Toplam Kelime Sayısı': 0}, 'timur': {'Positive': 0, 'Negative': 0, 'Neutral': 1, 'Toplam Kelime Sayısı': 0}, 'ndom': {'Positive': 0, 'Negative': 0, 'Neutral': 1, 'Toplam Kelime Sayısı': 0}, 'aurier': {'Positive': 0, 'Negative': 0, 'Neutral': 1, 'Toplam Kelime Sayısı': 0}, 'virum': {'Positive': 0, 'Negative': 0, 'Neutral': 1, 'Toplam Kelime Sayısı': 0}, 'tff': {'Positive': 0, 'Negative': 0, 'Neutral': 1, 'Toplam Kelime Sayısı': 0}, 'nicolo': {'Positive': 0, 'Negative': 0, 'Neutral': 1, 'Toplam Kelime Sayısı': 0}, 'zanio': {'Positive': 0, 'Negative': 0, 'Neutral': 1, 'Toplam Kelime Sayısı': 0}, 'rome': {'Positive': 0, 'Negative': 0, 'Neutral': 1, 'Toplam Kelime Sayısı': 0}, 'leipzig': {'Positive': 0, 'Negative': 0, 'Neutral': 1, 'Toplam Kelime Sayısı': 0}, 'michy': {'Positive': 0, 'Negative': 0, 'Neutral': 1, 'Toplam Kelime Sayısı': 0}, 'batshua': {'Positive': 0, 'Negative': 0, 'Neutral': 1, 'Toplam Kelime Sayısı': 0}, 'kristensen': {'Positive': 0, 'Negative': 0, 'Neutral': 1, 'Toplam Kelime Sayısı': 0}, 'friday': {'Positive': 0, 'Negative': 0, 'Neutral': 1, 'Toplam Kelime Sayısı': 0}, 'besi': {'Positive': 0, 'Negative': 0, 'Neutral': 1, 'Toplam Kelime Sayısı': 0}, 'fabri': {'Positive': 0, 'Negative': 0, 'Neutral': 1, 'Toplam Kelime Sayısı': 0}, 'mouti': {'Positive': 0, 'Negative': 0, 'Neutral': 1, 'Toplam Kelime Sayısı': 0}, 'alba': {'Positive': 0, 'Negative': 0, 'Neutral': 1, 'Toplam Kelime Sayısı': 0}, 'europe': {'Positive': 0, 'Negative': 0, 'Neutral': 1, 'Toplam Kelime Sayısı': 0}, 'richard': {'Positive': 1, 'Negative': 0, 'Neutral': 0, 'Toplam Kelime Sayısı': 0}, 'element': {'Positive': 1, 'Negative': 0, 'Neutral': 0, 'Toplam Kelime Sayısı': 0}, 'rodrigo': {'Positive': 0, 'Negative': 0, 'Neutral': 1, 'Toplam Kelime Sayısı': 0}, 'huesca': {'Positive': 0, 'Negative': 0, 'Neutral': 1, 'Toplam Kelime Sayısı': 0}, 'nesyr': {'Positive': 0, 'Negative': 0, 'Neutral': 1, 'Toplam Kelime Sayısı': 0}, 'soylu': {'Positive': 0, 'Negative': 0, 'Neutral': 1, 'Toplam Kelime Sayısı': 0}, 'guler': {'Positive': 0, 'Negative': 0, 'Neutral': 1, 'Toplam Kelime Sayısı': 0}, 'uefa': {'Positive': 0, 'Negative': 0, 'Neutral': 1, 'Toplam Kelime Sayısı': 0}, 'cup': {'Positive': 0, 'Negative': 0, 'Neutral': 1, 'Toplam Kelime Sayısı': 0}}\n"
          ]
        }
      ]
    },
    {
      "cell_type": "code",
      "source": [
        "plot_sentiment_distribution(sorted_dict4JelertPerWithPos)"
      ],
      "metadata": {
        "colab": {
          "base_uri": "https://localhost:8080/",
          "height": 807
        },
        "id": "Z6mEU2UBGlvJ",
        "outputId": "09f73479-8f15-47ff-af68-e99a2846991f"
      },
      "execution_count": 119,
      "outputs": [
        {
          "output_type": "display_data",
          "data": {
            "text/plain": [
              "<Figure size 1200x800 with 1 Axes>"
            ],
            "image/png": "[encoded data removed]"
          },
          "metadata": {}
        }
      ]
    },
    {
      "cell_type": "code",
      "source": [
        "plot_sentiment_distribution(sorted_dict4WendelPerWithPos)"
      ],
      "metadata": {
        "colab": {
          "base_uri": "https://localhost:8080/",
          "height": 807
        },
        "id": "SxVD6jXjGq48",
        "outputId": "1121a1bf-be95-4f59-f05e-2f4c5726489e"
      },
      "execution_count": 120,
      "outputs": [
        {
          "output_type": "display_data",
          "data": {
            "text/plain": [
              "<Figure size 1200x800 with 1 Axes>"
            ],
            "image/png": "[encoded data removed]"
          },
          "metadata": {}
        }
      ]
    },
    {
      "cell_type": "markdown",
      "source": [
        "CITATION\n",
        "\n",
        "@inproceedings{tedeschi-etal-2021-wikineural-combined,\n",
        "    title = \"{W}iki{NE}u{R}al: {C}ombined Neural and Knowledge-based Silver Data Creation for Multilingual {NER}\",\n",
        "    author = \"Tedeschi, Simone  and\n",
        "      Maiorca, Valentino  and\n",
        "      Campolungo, Niccol{\\`o}  and\n",
        "      Cecconi, Francesco  and\n",
        "      Navigli, Roberto\",\n",
        "    booktitle = \"Findings of the Association for Computational Linguistics: EMNLP 2021\",\n",
        "    month = nov,\n",
        "    year = \"2021\",\n",
        "    address = \"Punta Cana, Dominican Republic\",\n",
        "    publisher = \"Association for Computational Linguistics\",\n",
        "    url = \"https://aclanthology.org/2021.findings-emnlp.215\",\n",
        "    pages = \"2521--2533\",\n",
        "    abstract = \"Multilingual Named Entity Recognition (NER) is a key intermediate task which is needed in many areas of NLP. In this paper, we address the well-known issue of data scarcity in NER, especially relevant when moving to a multilingual scenario, and go beyond current approaches to the creation of multilingual silver data for the task. We exploit the texts of Wikipedia and introduce a new methodology based on the effective combination of knowledge-based approaches and neural models, together with a novel domain adaptation technique, to produce high-quality training corpora for NER. We evaluate our datasets extensively on standard benchmarks for NER, yielding substantial improvements up to 6 span-based F1-score points over previous state-of-the-art systems for data creation.\",\n",
        "}\n",
        "\n",
        "\n",
        "\n"
      ],
      "metadata": {
        "id": "t55mnNkQHZIk"
      }
    },
    {
      "cell_type": "markdown",
      "source": [
        "CITATION\n",
        "\n",
        "@inproceedings{DBLP:conf/cikm/0008ZL23,\n",
        "  author       = {Heng Yang and\n",
        "                  Chen Zhang and\n",
        "                  Ke Li},\n",
        "  editor       = {Ingo Frommholz and\n",
        "                  Frank Hopfgartner and\n",
        "                  Mark Lee and\n",
        "                  Michael Oakes and\n",
        "                  Mounia Lalmas and\n",
        "                  Min Zhang and\n",
        "                  Rodrygo L. T. Santos},\n",
        "  title        = {PyABSA: {A} Modularized Framework for Reproducible Aspect-based Sentiment\n",
        "                  Analysis},\n",
        "  booktitle    = {Proceedings of the 32nd {ACM} International Conference on Information\n",
        "                  and Knowledge Management, {CIKM} 2023, Birmingham, United Kingdom,\n",
        "                  October 21-25, 2023},\n",
        "  pages        = {5117--5122},\n",
        "  publisher    = {{ACM}},\n",
        "  year         = {2023},\n",
        "  url          = {https://doi.org/10.1145/3583780.3614752},\n",
        "  doi          = {10.1145/3583780.3614752},\n",
        "  timestamp    = {Thu, 23 Nov 2023 13:25:05 +0100},\n",
        "  biburl       = {https://dblp.org/rec/conf/cikm/0008ZL23.bib},\n",
        "  bibsource    = {dblp computer science bibliography, https://dblp.org}\n",
        "}\n",
        "@article{YangZMT21,\n",
        "  author    = {Heng Yang and\n",
        "               Biqing Zeng and\n",
        "               Mayi Xu and\n",
        "               Tianxing Wang},\n",
        "  title     = {Back to Reality: Leveraging Pattern-driven Modeling to Enable Affordable\n",
        "               Sentiment Dependency Learning},\n",
        "  journal   = {CoRR},\n",
        "  volume    = {abs/2110.08604},\n",
        "  year      = {2021},\n",
        "  url       = {https://arxiv.org/abs/2110.08604},\n",
        "  eprinttype = {arXiv},\n",
        "  eprint    = {2110.08604},\n",
        "  timestamp = {Fri, 22 Oct 2021 13:33:09 +0200},\n",
        "  biburl    = {https://dblp.org/rec/journals/corr/abs-2110-08604.bib},\n",
        "  bibsource = {dblp computer science bibliography, https://dblp.org}\n",
        "}\n"
      ],
      "metadata": {
        "id": "9xfX53kmH4KS"
      }
    },
    {
      "cell_type": "code",
      "source": [],
      "metadata": {
        "id": "0oAJFy7EH66F"
      },
      "execution_count": null,
      "outputs": []
    }
  ]
}