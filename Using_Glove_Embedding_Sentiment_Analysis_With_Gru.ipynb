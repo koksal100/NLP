{
  "nbformat": 4,
  "nbformat_minor": 0,
  "metadata": {
    "colab": {
      "provenance": [],
      "gpuType": "T4",
      "authorship_tag": "ABX9TyNs6Fr0GtNysupWkB+fwNjq",
      "include_colab_link": true
    },
    "kernelspec": {
      "name": "python3",
      "display_name": "Python 3"
    },
    "language_info": {
      "name": "python"
    },
    "accelerator": "GPU"
  },
  "cells": [
    {
      "cell_type": "markdown",
      "metadata": {
        "id": "view-in-github",
        "colab_type": "text"
      },
      "source": [
        "<a href=\"https://colab.research.google.com/github/koksal100/NLP/blob/main/Using_Glove_Embedding_Sentiment_Analysis_With_Gru.ipynb\" target=\"_parent\"><img src=\"https://colab.research.google.com/assets/colab-badge.svg\" alt=\"Open In Colab\"/></a>"
      ]
    },
    {
      "cell_type": "code",
      "execution_count": 1,
      "metadata": {
        "colab": {
          "base_uri": "https://localhost:8080/"
        },
        "id": "7SKBoG6x_mmZ",
        "outputId": "4b66cc34-3f4a-4933-fa5e-0c4a6cbba8e7"
      },
      "outputs": [
        {
          "output_type": "stream",
          "name": "stdout",
          "text": [
            "Downloading data from https://storage.googleapis.com/tensorflow/tf-keras-datasets/imdb.npz\n",
            "17464789/17464789 [==============================] - 2s 0us/step\n",
            "Training data shape: (25000, 500)\n",
            "Testing data shape: (25000, 500)\n"
          ]
        }
      ],
      "source": [
        "import tensorflow as tf\n",
        "from tensorflow.keras.datasets import imdb\n",
        "from tensorflow.keras.preprocessing.sequence import pad_sequences\n",
        "\n",
        "# Veri setini yükleyin\n",
        "max_features = 20000  # Kullanılacak en sık kelime sayısı\n",
        "max_len = 500  # Her inceleme için maksimum uzunluk\n",
        "\n",
        "(x_train, y_train), (x_test, y_test) = imdb.load_data(num_words=max_features)\n",
        "\n",
        "\n",
        "\n",
        "x_train = pad_sequences(x_train, maxlen=max_len)\n",
        "x_test = pad_sequences(x_test, maxlen=max_len)\n",
        "\n",
        "print(f\"Training data shape: {x_train.shape}\")\n",
        "print(f\"Testing data shape: {x_test.shape}\")\n"
      ]
    },
    {
      "cell_type": "code",
      "source": [
        "from google.colab import drive\n",
        "drive.mount('/content/drive')\n"
      ],
      "metadata": {
        "colab": {
          "base_uri": "https://localhost:8080/"
        },
        "id": "j4GtWHHl_yU_",
        "outputId": "0d927273-7d94-4b70-f7c7-f03261079bd7"
      },
      "execution_count": 2,
      "outputs": [
        {
          "output_type": "stream",
          "name": "stdout",
          "text": [
            "Mounted at /content/drive\n"
          ]
        }
      ]
    },
    {
      "cell_type": "code",
      "source": [
        "!wget https://nlp.stanford.edu/data/glove.6B.zip"
      ],
      "metadata": {
        "colab": {
          "base_uri": "https://localhost:8080/"
        },
        "id": "_EJcOgZ6ABzY",
        "outputId": "b02f2633-32ac-4e6c-da91-e389ddf4f5f8"
      },
      "execution_count": 9,
      "outputs": [
        {
          "output_type": "stream",
          "name": "stdout",
          "text": [
            "--2024-06-23 22:02:21--  https://nlp.stanford.edu/data/glove.6B.zip\n",
            "Resolving nlp.stanford.edu (nlp.stanford.edu)... 171.64.67.140\n",
            "Connecting to nlp.stanford.edu (nlp.stanford.edu)|171.64.67.140|:443... connected.\n",
            "HTTP request sent, awaiting response... 301 Moved Permanently\n",
            "Location: https://downloads.cs.stanford.edu/nlp/data/glove.6B.zip [following]\n",
            "--2024-06-23 22:02:21--  https://downloads.cs.stanford.edu/nlp/data/glove.6B.zip\n",
            "Resolving downloads.cs.stanford.edu (downloads.cs.stanford.edu)... 171.64.64.22\n",
            "Connecting to downloads.cs.stanford.edu (downloads.cs.stanford.edu)|171.64.64.22|:443... connected.\n",
            "HTTP request sent, awaiting response... 200 OK\n",
            "Length: 862182613 (822M) [application/zip]\n",
            "Saving to: ‘glove.6B.zip’\n",
            "\n",
            "glove.6B.zip        100%[===================>] 822.24M  5.12MB/s    in 2m 41s  \n",
            "\n",
            "2024-06-23 22:05:04 (5.10 MB/s) - ‘glove.6B.zip’ saved [862182613/862182613]\n",
            "\n"
          ]
        }
      ]
    },
    {
      "cell_type": "code",
      "source": [
        "!unzip /content/glove.6B.zip -d /content/glove.6B\n"
      ],
      "metadata": {
        "colab": {
          "base_uri": "https://localhost:8080/"
        },
        "id": "ybddcV3NAL6F",
        "outputId": "7339e4ed-9844-4fbd-ec14-15bfbd2b9aab"
      },
      "execution_count": 10,
      "outputs": [
        {
          "output_type": "stream",
          "name": "stdout",
          "text": [
            "Archive:  /content/glove.6B.zip\n",
            "  inflating: /content/glove.6B/glove.6B.50d.txt  \n",
            "  inflating: /content/glove.6B/glove.6B.100d.txt  \n",
            "  inflating: /content/glove.6B/glove.6B.200d.txt  \n",
            "  inflating: /content/glove.6B/glove.6B.300d.txt  \n"
          ]
        }
      ]
    },
    {
      "cell_type": "code",
      "source": [
        "import numpy as np\n",
        "\n",
        "# GloVe dosyasının yolunu belirtin\n",
        "glove_file = '/content/glove.6B/glove.6B.100d.txt'\n",
        "\n",
        "# Kelime vektörlerini yükleyin\n",
        "embeddings_index = {}\n",
        "with open(glove_file, 'r', encoding='utf-8') as f:\n",
        "    for line in f:\n",
        "        values = line.split()\n",
        "        word = values[0]\n",
        "        coefs = np.asarray(values[1:], dtype='float32')\n",
        "        embeddings_index[word] = coefs\n",
        "\n",
        "print(f\"Found {len(embeddings_index)} word vectors.\")\n"
      ],
      "metadata": {
        "colab": {
          "base_uri": "https://localhost:8080/"
        },
        "id": "CqtTbkv1BEGI",
        "outputId": "7303d6d0-2bfe-4554-9610-d2448ed52ec4"
      },
      "execution_count": 11,
      "outputs": [
        {
          "output_type": "stream",
          "name": "stdout",
          "text": [
            "Found 400000 word vectors.\n"
          ]
        }
      ]
    },
    {
      "cell_type": "code",
      "source": [
        "# Embedding matrisini oluşturun\n",
        "embedding_dim = 100\n",
        "embedding_matrix = np.zeros((max_features, embedding_dim))\n",
        "\n",
        "for word, index in imdb.get_word_index().items():\n",
        "    if index < max_features:\n",
        "        embedding_vector = embeddings_index.get(word)\n",
        "        if embedding_vector is not None:\n",
        "            embedding_matrix[index] = embedding_vector\n"
      ],
      "metadata": {
        "id": "8xFudFCNBtY3"
      },
      "execution_count": 12,
      "outputs": []
    },
    {
      "cell_type": "code",
      "source": [
        "import numpy as np\n",
        "from tensorflow.keras.models import Sequential\n",
        "from tensorflow.keras.layers import Embedding, LSTM, Dense, Dropout, Bidirectional\n",
        "from tensorflow.keras.datasets import imdb\n",
        "from tensorflow.keras.preprocessing.sequence import pad_sequences\n",
        "\n",
        "# Modeli oluşturun\n",
        "model = Sequential()\n",
        "model.add(Embedding(input_dim=max_features, output_dim=embedding_dim, input_length=max_len,\n",
        "                    weights=[embedding_matrix], trainable=False))\n",
        "model.add(Bidirectional(LSTM(64, return_sequences=True)))\n",
        "model.add(Dropout(0.5))\n",
        "model.add(LSTM(64))\n",
        "model.add(Dropout(0.5))\n",
        "model.add(Dense(1, activation='sigmoid'))\n",
        "\n",
        "model.compile(optimizer='adam', loss='binary_crossentropy', metrics=['accuracy'])\n",
        "\n",
        "model.summary()\n"
      ],
      "metadata": {
        "colab": {
          "base_uri": "https://localhost:8080/"
        },
        "id": "IvE4SDlyC4ax",
        "outputId": "3a15b9c8-c488-4c7d-a92f-c4117cb4d7d0"
      },
      "execution_count": 13,
      "outputs": [
        {
          "output_type": "stream",
          "name": "stdout",
          "text": [
            "Model: \"sequential_1\"\n",
            "_________________________________________________________________\n",
            " Layer (type)                Output Shape              Param #   \n",
            "=================================================================\n",
            " embedding_1 (Embedding)     (None, 500, 100)          2000000   \n",
            "                                                                 \n",
            " bidirectional_1 (Bidirecti  (None, 500, 128)          84480     \n",
            " onal)                                                           \n",
            "                                                                 \n",
            " dropout_2 (Dropout)         (None, 500, 128)          0         \n",
            "                                                                 \n",
            " lstm_3 (LSTM)               (None, 64)                49408     \n",
            "                                                                 \n",
            " dropout_3 (Dropout)         (None, 64)                0         \n",
            "                                                                 \n",
            " dense_1 (Dense)             (None, 1)                 65        \n",
            "                                                                 \n",
            "=================================================================\n",
            "Total params: 2133953 (8.14 MB)\n",
            "Trainable params: 133953 (523.25 KB)\n",
            "Non-trainable params: 2000000 (7.63 MB)\n",
            "_________________________________________________________________\n"
          ]
        }
      ]
    },
    {
      "cell_type": "code",
      "source": [
        "# Modeli eğitin\n",
        "from tensorflow.keras.callbacks import EarlyStopping, ModelCheckpoint\n",
        "\n",
        "early_stopping = EarlyStopping(monitor='val_loss', patience=3, restore_best_weights=True)\n",
        "model_checkpoint = ModelCheckpoint('best_model.h5', save_best_only=True, monitor='val_loss')\n",
        "\n",
        "history = model.fit(x_train, y_train, epochs=20, batch_size=64, validation_split=0.2,\n",
        "                    callbacks=[early_stopping, model_checkpoint])\n",
        "\n",
        "# Modeli test edin\n",
        "test_loss, test_acc = model.evaluate(x_test, y_test)\n",
        "print(f\"Test Accuracy: {test_acc}\")\n",
        "\n",
        "# Kullanıcı Cümlesi ile Tahmin Yapma\n",
        "word_index = imdb.get_word_index()\n",
        "user_sentence = \"I love this movie, it is fantastic\"\n",
        "user_sentence_tokens = user_sentence.lower().split()\n",
        "user_sentence_indices = [word_index.get(word, 0) for word in user_sentence_tokens]\n",
        "padded_user_sentence = pad_sequences([user_sentence_indices], maxlen=max_len)\n",
        "\n",
        "prediction = model.predict(padded_user_sentence)\n",
        "print(\"Prediction (Probability):\", prediction)\n",
        "print(\"Sentiment:\", \"Positive\" if prediction >= 0.5 else \"Negative\")\n",
        "\n",
        "# Eğitim ve Doğrulama Sonuçlarını Görselleştirme\n",
        "import matplotlib.pyplot as plt\n",
        "\n",
        "plt.plot(history.history['loss'], label='Training Loss')\n",
        "plt.plot(history.history['val_loss'], label='Validation Loss')\n",
        "plt.xlabel('Epoch')\n",
        "plt.ylabel('Loss')\n",
        "plt.legend()\n",
        "plt.show()\n",
        "\n",
        "plt.plot(history.history['accuracy'], label='Training Accuracy')\n",
        "plt.plot(history.history['val_accuracy'], label='Validation Accuracy')\n",
        "plt.xlabel('Epoch')\n",
        "plt.ylabel('Accuracy')\n",
        "plt.legend()\n",
        "plt.show()"
      ],
      "metadata": {
        "colab": {
          "base_uri": "https://localhost:8080/",
          "height": 1000
        },
        "id": "a_DPN7uDC_HI",
        "outputId": "fb426c26-7814-4e2a-b93c-128d42a62340"
      },
      "execution_count": 14,
      "outputs": [
        {
          "output_type": "stream",
          "name": "stdout",
          "text": [
            "Epoch 1/20\n",
            "313/313 [==============================] - 33s 81ms/step - loss: 0.6885 - accuracy: 0.5489 - val_loss: 0.6739 - val_accuracy: 0.5834\n",
            "Epoch 2/20\n",
            "  2/313 [..............................] - ETA: 21s - loss: 0.6422 - accuracy: 0.7266"
          ]
        },
        {
          "output_type": "stream",
          "name": "stderr",
          "text": [
            "/usr/local/lib/python3.10/dist-packages/keras/src/engine/training.py:3103: UserWarning: You are saving your model as an HDF5 file via `model.save()`. This file format is considered legacy. We recommend using instead the native Keras format, e.g. `model.save('my_model.keras')`.\n",
            "  saving_api.save_model(\n"
          ]
        },
        {
          "output_type": "stream",
          "name": "stdout",
          "text": [
            "313/313 [==============================] - 18s 58ms/step - loss: 0.6532 - accuracy: 0.6134 - val_loss: 0.6225 - val_accuracy: 0.6576\n",
            "Epoch 3/20\n",
            "313/313 [==============================] - 34s 109ms/step - loss: 0.6237 - accuracy: 0.6509 - val_loss: 0.5977 - val_accuracy: 0.6704\n",
            "Epoch 4/20\n",
            "313/313 [==============================] - 19s 60ms/step - loss: 0.5808 - accuracy: 0.6899 - val_loss: 0.5592 - val_accuracy: 0.7074\n",
            "Epoch 5/20\n",
            "313/313 [==============================] - 24s 76ms/step - loss: 0.5407 - accuracy: 0.7278 - val_loss: 0.5970 - val_accuracy: 0.6678\n",
            "Epoch 6/20\n",
            "313/313 [==============================] - 20s 65ms/step - loss: 0.4976 - accuracy: 0.7599 - val_loss: 0.5357 - val_accuracy: 0.7200\n",
            "Epoch 7/20\n",
            "313/313 [==============================] - 23s 74ms/step - loss: 0.4520 - accuracy: 0.7893 - val_loss: 0.5045 - val_accuracy: 0.7534\n",
            "Epoch 8/20\n",
            "313/313 [==============================] - 22s 72ms/step - loss: 0.4170 - accuracy: 0.8096 - val_loss: 0.4884 - val_accuracy: 0.7762\n",
            "Epoch 9/20\n",
            "313/313 [==============================] - 20s 65ms/step - loss: 0.3845 - accuracy: 0.8275 - val_loss: 0.4808 - val_accuracy: 0.7778\n",
            "Epoch 10/20\n",
            "313/313 [==============================] - 23s 75ms/step - loss: 0.3504 - accuracy: 0.8421 - val_loss: 0.4830 - val_accuracy: 0.7982\n",
            "Epoch 11/20\n",
            "313/313 [==============================] - 19s 62ms/step - loss: 0.3261 - accuracy: 0.8590 - val_loss: 0.4654 - val_accuracy: 0.7962\n",
            "Epoch 12/20\n",
            "313/313 [==============================] - 24s 77ms/step - loss: 0.2944 - accuracy: 0.8720 - val_loss: 0.5992 - val_accuracy: 0.7674\n",
            "Epoch 13/20\n",
            "313/313 [==============================] - 20s 64ms/step - loss: 0.2613 - accuracy: 0.8906 - val_loss: 0.5339 - val_accuracy: 0.7878\n",
            "Epoch 14/20\n",
            "313/313 [==============================] - 22s 70ms/step - loss: 0.2467 - accuracy: 0.8964 - val_loss: 0.5371 - val_accuracy: 0.7918\n",
            "782/782 [==============================] - 21s 27ms/step - loss: 0.4540 - accuracy: 0.7988\n",
            "Test Accuracy: 0.7988399863243103\n",
            "1/1 [==============================] - 2s 2s/step\n",
            "Prediction (Probability): [[0.9568601]]\n",
            "Sentiment: Positive\n"
          ]
        },
        {
          "output_type": "display_data",
          "data": {
            "text/plain": [
              "<Figure size 640x480 with 1 Axes>"
            ],
            "image/png": "[encoded data removed]"
          },
          "metadata": {}
        },
        {
          "output_type": "display_data",
          "data": {
            "text/plain": [
              "<Figure size 640x480 with 1 Axes>"
            ],
            "image/png": "[encoded data removed]"
          },
          "metadata": {}
        }
      ]
    },
    {
      "cell_type": "code",
      "source": [
        "import numpy as np\n",
        "from tensorflow.keras.preprocessing.sequence import pad_sequences\n",
        "import matplotlib.pyplot as plt\n",
        "\n",
        "# Örnek cümleler\n",
        "sentences = [\n",
        "    \"This movie was fantastic! I loved every bit of it.\",\n",
        "    \"The plot was confusing and the acting was terrible.\",\n",
        "    \"I'm not sure how I feel about this film.\",\n",
        "    \"The ending was unexpected and left me speechless.\",\n",
        "    \"I would recommend this movie to everyone!\",\n",
        "    \"The cinematography was stunning but the story fell flat.\",\n",
        "    \"The characters were well-developed and the dialogue was engaging.\",\n",
        "    \"I couldn't get into the story and found it boring.\",\n",
        "    \"The movie exceeded my expectations.\",\n",
        "    \"Overall, I think this was a mediocre film.\"\n",
        "]\n",
        "\n",
        "# Tokenization ve padding işlemleri\n",
        "max_len = 100  # Örnek maksimum cümle uzunluğu\n",
        "user_sentences_indices = []\n",
        "for sentence in sentences:\n",
        "    sentence_tokens = sentence.lower().split()\n",
        "    sentence_indices = [word_index.get(word, 0) for word in sentence_tokens]\n",
        "    user_sentences_indices.append(sentence_indices)\n",
        "\n",
        "padded_user_sentences = pad_sequences(user_sentences_indices, maxlen=max_len)\n",
        "\n",
        "# Tahminler\n",
        "predictions = model.predict(padded_user_sentences)\n",
        "\n",
        "# Sonuçları yazdırma\n",
        "for i, sentence in enumerate(sentences):\n",
        "    sentiment = \"Positive\" if predictions[i] >= 0.5 else \"Negative\"\n",
        "    print(f\"Cümle: '{sentence}'\")\n",
        "    print(f\"Tahmin (Olabilirlik): {predictions[i]}\")\n",
        "    print(f\"Sentiment: {sentiment}\\n\")\n",
        "\n"
      ],
      "metadata": {
        "colab": {
          "base_uri": "https://localhost:8080/"
        },
        "id": "sOWFuqJRDue8",
        "outputId": "04856531-bfed-4e4d-d1ff-4271c7b0e69f"
      },
      "execution_count": 16,
      "outputs": [
        {
          "output_type": "stream",
          "name": "stdout",
          "text": [
            "1/1 [==============================] - 0s 39ms/step\n",
            "Cümle: 'This movie was fantastic! I loved every bit of it.'\n",
            "Tahmin (Olabilirlik): [0.17265372]\n",
            "Sentiment: Negative\n",
            "\n",
            "Cümle: 'The plot was confusing and the acting was terrible.'\n",
            "Tahmin (Olabilirlik): [0.6796857]\n",
            "Sentiment: Positive\n",
            "\n",
            "Cümle: 'I'm not sure how I feel about this film.'\n",
            "Tahmin (Olabilirlik): [0.02178732]\n",
            "Sentiment: Negative\n",
            "\n",
            "Cümle: 'The ending was unexpected and left me speechless.'\n",
            "Tahmin (Olabilirlik): [0.0184419]\n",
            "Sentiment: Negative\n",
            "\n",
            "Cümle: 'I would recommend this movie to everyone!'\n",
            "Tahmin (Olabilirlik): [0.978214]\n",
            "Sentiment: Positive\n",
            "\n",
            "Cümle: 'The cinematography was stunning but the story fell flat.'\n",
            "Tahmin (Olabilirlik): [0.02083348]\n",
            "Sentiment: Negative\n",
            "\n",
            "Cümle: 'The characters were well-developed and the dialogue was engaging.'\n",
            "Tahmin (Olabilirlik): [0.80943155]\n",
            "Sentiment: Positive\n",
            "\n",
            "Cümle: 'I couldn't get into the story and found it boring.'\n",
            "Tahmin (Olabilirlik): [0.20633328]\n",
            "Sentiment: Negative\n",
            "\n",
            "Cümle: 'The movie exceeded my expectations.'\n",
            "Tahmin (Olabilirlik): [0.9930714]\n",
            "Sentiment: Positive\n",
            "\n",
            "Cümle: 'Overall, I think this was a mediocre film.'\n",
            "Tahmin (Olabilirlik): [0.0183109]\n",
            "Sentiment: Negative\n",
            "\n"
          ]
        }
      ]
    }
  ]
}